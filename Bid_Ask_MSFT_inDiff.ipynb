{
 "cells": [
  {
   "cell_type": "code",
   "execution_count": 1,
   "metadata": {},
   "outputs": [],
   "source": [
    "import os\n",
    "import utils\n",
    "import pandas as pd\n",
    "import numpy  as np\n",
    "import matplotlib.pyplot as plt\n",
    "from pandas.tseries.offsets import *\n",
    "import statsmodels.formula.api as smf\n",
    "from glob import glob\n",
    "from datetime import datetime\n",
    "import tensorflow as tf\n",
    "import keras\n",
    "from keras import Input, layers\n",
    "from keras.models import Model\n",
    "from keras.layers import Flatten, Dense, Dropout, Activation, Input, LSTM, Reshape, Conv2D, MaxPooling2D, LeakyReLU, GlobalMaxPooling1D\n",
    "from keras.optimizers import Adam\n",
    "from keras.utils import np_utils\n",
    "import random\n",
    "from sklearn.metrics import mean_squared_error as mse\n",
    "from sklearn.metrics import r2_score\n",
    "from scipy import stats\n",
    "from sklearn.linear_model import LinearRegression\n",
    "from fireTS.models import NARX\n",
    "seed_value = 2022\n",
    "random.seed(seed_value)\n",
    "np.random.seed(seed_value)\n",
    "tf.random.set_seed(seed_value)\n",
    "from sklearn.preprocessing import QuantileTransformer \n",
    "normalizer = QuantileTransformer(output_distribution='normal')"
   ]
  },
  {
   "cell_type": "code",
   "execution_count": 2,
   "metadata": {},
   "outputs": [],
   "source": [
    "def baSpread(x):\n",
    "    a=x['AP1'].values.tolist()\n",
    "    b=x['BP1'].values.tolist()\n",
    "    bas=np.empty(len(x))\n",
    "    for i in range(len(a)):\n",
    "       bas[i]=(a[i]/10**4-b[i]/10**4)#/(a[i]+b[i])*10**4\n",
    "    return bas"
   ]
  },
  {
   "cell_type": "code",
   "execution_count": 3,
   "metadata": {},
   "outputs": [],
   "source": [
    "lob_data=utils.caricaLOB('msft',0.1)\n",
    "ld=lob_data.values.tolist()\n",
    "of=utils.OF_1(ld)\n",
    "bCols=np.ravel([['aOF_%d'%level, 'bOF_%d'%level] for level in [1,2,3]])\n",
    "of_data=pd.DataFrame(of, columns=bCols)\n",
    "m=pd.DataFrame(utils.midPrice(lob_data),columns=['m'])\n",
    "m['r']=m['m'].pct_change().fillna(0).copy()\n",
    "b=pd.DataFrame(baSpread(lob_data),columns=['spread'])\n",
    "b['d']=b['spread'].diff().dropna()"
   ]
  },
  {
   "cell_type": "code",
   "execution_count": 4,
   "metadata": {},
   "outputs": [
    {
     "data": {
      "text/plain": [
       "(0.010000000000005116, -0.010000000000005116)"
      ]
     },
     "execution_count": 4,
     "metadata": {},
     "output_type": "execute_result"
    }
   ],
   "source": [
    "spread=b['d'].fillna(0).to_numpy()\n",
    "np.quantile(spread,0.9), np.quantile(spread,0.1)"
   ]
  },
  {
   "cell_type": "code",
   "execution_count": 5,
   "metadata": {},
   "outputs": [],
   "source": [
    "\n",
    "hot=np.zeros(len(spread))\n",
    "for i in range(0,len(hot)):\n",
    "    if spread[i]>0.01: \n",
    "        hot[i]=1 \n",
    "    elif spread[i]<-0.01:\n",
    "        hot[i]=2 \n",
    "    else:\n",
    "        hot[i]=0\n"
   ]
  },
  {
   "cell_type": "code",
   "execution_count": 6,
   "metadata": {},
   "outputs": [
    {
     "data": {
      "text/plain": [
       "(0.010000000000005116, -0.010000000000005116)"
      ]
     },
     "execution_count": 6,
     "metadata": {},
     "output_type": "execute_result"
    }
   ],
   "source": [
    "np.quantile(spread,0.9), np.quantile(spread,0.1)"
   ]
  },
  {
   "cell_type": "code",
   "execution_count": 7,
   "metadata": {},
   "outputs": [
    {
     "data": {
      "text/plain": [
       "[<matplotlib.lines.Line2D at 0x196117fbca0>]"
      ]
     },
     "execution_count": 7,
     "metadata": {},
     "output_type": "execute_result"
    },
    {
     "data": {
      "image/png": "[encoded data removed]",
      "text/plain": [
       "<Figure size 432x288 with 1 Axes>"
      ]
     },
     "metadata": {
      "needs_background": "light"
     },
     "output_type": "display_data"
    }
   ],
   "source": [
    "plt.plot(spread)"
   ]
  },
  {
   "cell_type": "code",
   "execution_count": 8,
   "metadata": {},
   "outputs": [
    {
     "data": {
      "text/plain": [
       "(array([0.  , 0.  , 0.  , ..., 0.  , 0.  , 0.01]),\n",
       " array([0., 0., 0., ..., 0., 0., 0.]))"
      ]
     },
     "execution_count": 8,
     "metadata": {},
     "output_type": "execute_result"
    }
   ],
   "source": [
    "spread,hot"
   ]
  },
  {
   "cell_type": "markdown",
   "metadata": {},
   "source": [
    "CNN-LSTM Classifier\n",
    "==="
   ]
  },
  {
   "cell_type": "code",
   "execution_count": 9,
   "metadata": {},
   "outputs": [],
   "source": [
    "def prepare_x_y(of, lag=100, dimension=6):\n",
    "    ex = of[['aOF_1','bOF_1','aOF_2','bOF_2','aOF_3','bOF_3']].to_numpy()#\n",
    "    uai= of['h'].to_numpy() #.pct_change().fillna(0)['r']\n",
    "    shape = of.shape\n",
    "    dimension=6\n",
    "    lag = 100\n",
    "    x=np.empty((shape[0]-lag, lag, dimension))\n",
    "    y=np.empty((shape[0]-lag,1))\n",
    "    for i in range(shape[0]-lag):\n",
    "        x[i]=ex[i:i+lag]\n",
    "        y[i]=uai[i+lag-1]\n",
    "\n",
    "    X=x.reshape(-1,lag,6,1)\n",
    "\n",
    "    Y = np_utils.to_categorical(y.astype(int),3)\n",
    "\n",
    "    return X,Y"
   ]
  },
  {
   "cell_type": "code",
   "execution_count": 10,
   "metadata": {},
   "outputs": [
    {
     "name": "stdout",
     "output_type": "stream",
     "text": [
      "(62814, 100, 6, 1) (62814, 3)\n",
      "(20871, 100, 6, 1) (20871, 3)\n",
      "(20872, 100, 6, 1) (20872, 3)\n"
     ]
    }
   ],
   "source": [
    "V = int(len(of)*0.6)\n",
    "T = int(len(of)*0.8)\n",
    "\n",
    "n_train     = of_data.iloc[ :V].copy()\n",
    "n_vali      = of_data.iloc[V:T].copy()\n",
    "n_test      = of_data.iloc[T: ].copy()\n",
    "\n",
    "n_train = n_train.apply(lambda x : utils.taglia_e_cuci(x), axis=1, raw=True)\n",
    "n_vali  = n_vali .apply(lambda x : utils.taglia_e_cuci(x), axis=1, raw=True)\n",
    "n_test  = n_test .apply(lambda x : utils.taglia_e_cuci(x), axis=1, raw=True)\n",
    "\n",
    "x_vars = of_data.columns#[:-1]\n",
    "\n",
    "# Normalize Features\n",
    "# Dividing by the standard deviation estimated using the training set\n",
    "for x_var in x_vars:\n",
    "    sd = n_train[x_var].std()\n",
    "    n_train[x_var] = n_train[x_var] / sd\n",
    "    n_vali [x_var] = n_vali [x_var] / sd\n",
    "    n_test [x_var] = n_test [x_var] / sd\n",
    "\n",
    "n_train['h'] = hot[ :V]\n",
    "n_vali ['h'] = hot[V:T]\n",
    "n_test ['h'] = hot[T: ]\n",
    "#of=of_data\n",
    "\n",
    "trainX,trainY = prepare_x_y  (n_train)    \n",
    "valiX ,valiY  = prepare_x_y  (n_vali )    \n",
    "testX ,testY  = prepare_x_y  (n_test )   \n",
    "\n",
    "\n",
    "print(trainX.shape ,trainY.shape)\n",
    "print(valiX.shape  ,valiY .shape)\n",
    "print(testX.shape  ,testY .shape)"
   ]
  },
  {
   "cell_type": "code",
   "execution_count": 11,
   "metadata": {},
   "outputs": [
    {
     "name": "stdout",
     "output_type": "stream",
     "text": [
      "Model: \"model\"\n",
      "__________________________________________________________________________________________________\n",
      " Layer (type)                   Output Shape         Param #     Connected to                     \n",
      "==================================================================================================\n",
      " input_1 (InputLayer)           [(None, 100, 6, 1)]  0           []                               \n",
      "                                                                                                  \n",
      " conv2d (Conv2D)                (None, 100, 3, 32)   96          ['input_1[0][0]']                \n",
      "                                                                                                  \n",
      " leaky_re_lu (LeakyReLU)        (None, 100, 3, 32)   0           ['conv2d[0][0]']                 \n",
      "                                                                                                  \n",
      " conv2d_1 (Conv2D)              (None, 100, 3, 32)   4128        ['leaky_re_lu[0][0]']            \n",
      "                                                                                                  \n",
      " leaky_re_lu_1 (LeakyReLU)      (None, 100, 3, 32)   0           ['conv2d_1[0][0]']               \n",
      "                                                                                                  \n",
      " conv2d_2 (Conv2D)              (None, 100, 3, 32)   4128        ['leaky_re_lu_1[0][0]']          \n",
      "                                                                                                  \n",
      " leaky_re_lu_2 (LeakyReLU)      (None, 100, 3, 32)   0           ['conv2d_2[0][0]']               \n",
      "                                                                                                  \n",
      " conv2d_3 (Conv2D)              (None, 100, 1, 16)   5136        ['leaky_re_lu_2[0][0]']          \n",
      "                                                                                                  \n",
      " leaky_re_lu_3 (LeakyReLU)      (None, 100, 1, 16)   0           ['conv2d_3[0][0]']               \n",
      "                                                                                                  \n",
      " conv2d_4 (Conv2D)              (None, 100, 1, 64)   1088        ['leaky_re_lu_3[0][0]']          \n",
      "                                                                                                  \n",
      " conv2d_6 (Conv2D)              (None, 100, 1, 64)   1088        ['leaky_re_lu_3[0][0]']          \n",
      "                                                                                                  \n",
      " leaky_re_lu_4 (LeakyReLU)      (None, 100, 1, 64)   0           ['conv2d_4[0][0]']               \n",
      "                                                                                                  \n",
      " leaky_re_lu_6 (LeakyReLU)      (None, 100, 1, 64)   0           ['conv2d_6[0][0]']               \n",
      "                                                                                                  \n",
      " max_pooling2d (MaxPooling2D)   (None, 100, 1, 16)   0           ['leaky_re_lu_3[0][0]']          \n",
      "                                                                                                  \n",
      " conv2d_5 (Conv2D)              (None, 100, 1, 64)   12352       ['leaky_re_lu_4[0][0]']          \n",
      "                                                                                                  \n",
      " conv2d_7 (Conv2D)              (None, 100, 1, 64)   20544       ['leaky_re_lu_6[0][0]']          \n",
      "                                                                                                  \n",
      " conv2d_8 (Conv2D)              (None, 100, 1, 64)   1088        ['max_pooling2d[0][0]']          \n",
      "                                                                                                  \n",
      " leaky_re_lu_5 (LeakyReLU)      (None, 100, 1, 64)   0           ['conv2d_5[0][0]']               \n",
      "                                                                                                  \n",
      " leaky_re_lu_7 (LeakyReLU)      (None, 100, 1, 64)   0           ['conv2d_7[0][0]']               \n",
      "                                                                                                  \n",
      " leaky_re_lu_8 (LeakyReLU)      (None, 100, 1, 64)   0           ['conv2d_8[0][0]']               \n",
      "                                                                                                  \n",
      " concatenate (Concatenate)      (None, 100, 1, 192)  0           ['leaky_re_lu_5[0][0]',          \n",
      "                                                                  'leaky_re_lu_7[0][0]',          \n",
      "                                                                  'leaky_re_lu_8[0][0]']          \n",
      "                                                                                                  \n",
      " reshape (Reshape)              (None, 100, 192)     0           ['concatenate[0][0]']            \n",
      "                                                                                                  \n",
      " dropout (Dropout)              (None, 100, 192)     0           ['reshape[0][0]']                \n",
      "                                                                                                  \n",
      " lstm (LSTM)                    (None, 64)           65792       ['dropout[0][0]']                \n",
      "                                                                                                  \n",
      " dense (Dense)                  (None, 3)            195         ['lstm[0][0]']                   \n",
      "                                                                                                  \n",
      "==================================================================================================\n",
      "Total params: 115,635\n",
      "Trainable params: 115,635\n",
      "Non-trainable params: 0\n",
      "__________________________________________________________________________________________________\n"
     ]
    }
   ],
   "source": [
    "\n",
    "def create_nn(T, NF,number_of_lstm):\n",
    "\n",
    "    input_lmd = tf.keras.Input(shape=(T, NF, 1))\n",
    "\n",
    "    conv_first1 = Conv2D(32, kernel_size=(1, 2), strides=(1, 2))(input_lmd)\n",
    "    conv_first1 = keras.layers.LeakyReLU(alpha=0.01)(conv_first1)\n",
    "    conv_first1 = Conv2D(32, (4, 1), padding='same')(conv_first1)\n",
    "    conv_first1 = keras.layers.LeakyReLU(alpha=0.01)(conv_first1)\n",
    "    conv_first1 = Conv2D(32, (4, 1), padding='same')(conv_first1)\n",
    "    conv_first1 = keras.layers.LeakyReLU(alpha=0.01)(conv_first1)\n",
    "    #\n",
    "    layer_x = layers.Conv2D(filters=16, kernel_size=(10,1),strides=(1,10), padding='same')(conv_first1)\n",
    "    layer_x = layers.LeakyReLU(alpha=0.01)(layer_x)\n",
    "    # inception\n",
    "    convsecond_1 = Conv2D(64, (1, 1), padding='same', strides=(1,1))(layer_x)\n",
    "    convsecond_1 = keras.layers.LeakyReLU(alpha=0.01)(convsecond_1)\n",
    "    convsecond_1 = Conv2D(64, (3, 1), padding='same', strides=(1,1))(convsecond_1)\n",
    "    convsecond_1 = keras.layers.LeakyReLU(alpha=0.01)(convsecond_1)\n",
    "\n",
    "    convsecond_2 = Conv2D(64, (1, 1), padding='same', strides=(1,1))(layer_x)\n",
    "    convsecond_2 = keras.layers.LeakyReLU(alpha=0.01)(convsecond_2)\n",
    "    convsecond_2 = Conv2D(64, (5, 1), padding='same', strides=(1,1))(convsecond_2)\n",
    "    convsecond_2 = keras.layers.LeakyReLU(alpha=0.01)(convsecond_2)\n",
    "\n",
    "    convsecond_3 = MaxPooling2D((3, 1), strides=(1, 1), padding='same')(layer_x)\n",
    "    convsecond_3 = Conv2D(64, (1, 1), padding='same', strides=(1,1))(convsecond_3)\n",
    "    convsecond_3 = keras.layers.LeakyReLU(alpha=0.01)(convsecond_3)\n",
    "    \n",
    "    convsecond_output = keras.layers.concatenate([convsecond_1, convsecond_2, convsecond_3], axis=3)\n",
    "    conv_reshape = Reshape((int(convsecond_output.shape[1]), int(convsecond_output.shape[3])))(convsecond_output)\n",
    "    conv_reshape = keras.layers.Dropout(0.7, noise_shape=(None, 1, int(conv_reshape.shape[2])))(conv_reshape, training=True)\n",
    "\n",
    "    # build the last LSTM layer\n",
    "    conv_lstm = LSTM(number_of_lstm)(conv_reshape)\n",
    "\n",
    "    # build the output layer\n",
    "    out = Dense(3, activation='softmax')(conv_lstm)\n",
    "    model = Model(inputs=input_lmd, outputs=out)\n",
    "    adam = keras.optimizers.Adam(learning_rate=0.0001)\n",
    "    model.compile(optimizer=adam, loss='categorical_crossentropy', metrics=['accuracy'])#\n",
    "\n",
    "    return model\n",
    "checkpoint_filepath = './model_tensorflow2/weights_class'\n",
    "deeplob = create_nn(100, 6, 64)\n",
    "deeplob.summary()"
   ]
  },
  {
   "cell_type": "code",
   "execution_count": 12,
   "metadata": {},
   "outputs": [],
   "source": [
    "callback=tf.keras.callbacks.EarlyStopping(\n",
    "    monitor='val_loss',\n",
    "    min_delta=0,\n",
    "    patience=5,\n",
    "    verbose=1,\n",
    "    mode='auto',\n",
    "    baseline=None,\n",
    "    restore_best_weights=False\n",
    ")\n",
    "saving = tf.keras.callbacks.ModelCheckpoint(\n",
    "    filepath=checkpoint_filepath,\n",
    "    save_weights_only=True,\n",
    "    monitor='val_loss',\n",
    "    mode='auto',\n",
    "    save_best_only=True)"
   ]
  },
  {
   "cell_type": "code",
   "execution_count": 13,
   "metadata": {},
   "outputs": [
    {
     "name": "stdout",
     "output_type": "stream",
     "text": [
      "Epoch 1/50\n",
      "246/246 [==============================] - 56s 223ms/step - loss: 0.8025 - accuracy: 0.7282 - val_loss: 0.7461 - val_accuracy: 0.7355\n",
      "Epoch 2/50\n",
      "246/246 [==============================] - 96s 390ms/step - loss: 0.6948 - accuracy: 0.7358 - val_loss: 0.6416 - val_accuracy: 0.7361\n",
      "Epoch 3/50\n",
      "246/246 [==============================] - 114s 462ms/step - loss: 0.5902 - accuracy: 0.7460 - val_loss: 0.5347 - val_accuracy: 0.7555\n",
      "Epoch 4/50\n",
      "246/246 [==============================] - 117s 476ms/step - loss: 0.5154 - accuracy: 0.7559 - val_loss: 0.4902 - val_accuracy: 0.7593\n",
      "Epoch 5/50\n",
      "246/246 [==============================] - 123s 500ms/step - loss: 0.4876 - accuracy: 0.7602 - val_loss: 0.4729 - val_accuracy: 0.7650\n",
      "Epoch 6/50\n",
      "246/246 [==============================] - 129s 524ms/step - loss: 0.4746 - accuracy: 0.7609 - val_loss: 0.4685 - val_accuracy: 0.7696\n",
      "Epoch 7/50\n",
      "246/246 [==============================] - 125s 507ms/step - loss: 0.4670 - accuracy: 0.7669 - val_loss: 0.4707 - val_accuracy: 0.7706\n",
      "Epoch 8/50\n",
      "246/246 [==============================] - 122s 496ms/step - loss: 0.4612 - accuracy: 0.7662 - val_loss: 0.4505 - val_accuracy: 0.7725\n",
      "Epoch 9/50\n",
      "246/246 [==============================] - 145s 591ms/step - loss: 0.4566 - accuracy: 0.7678 - val_loss: 0.4485 - val_accuracy: 0.7750\n",
      "Epoch 10/50\n",
      "246/246 [==============================] - 179s 728ms/step - loss: 0.4526 - accuracy: 0.7699 - val_loss: 0.4450 - val_accuracy: 0.7754\n",
      "Epoch 11/50\n",
      "246/246 [==============================] - 184s 750ms/step - loss: 0.4501 - accuracy: 0.7708 - val_loss: 0.4445 - val_accuracy: 0.7770\n",
      "Epoch 12/50\n",
      "246/246 [==============================] - 178s 723ms/step - loss: 0.4486 - accuracy: 0.7696 - val_loss: 0.4420 - val_accuracy: 0.7784\n",
      "Epoch 13/50\n",
      "246/246 [==============================] - 178s 722ms/step - loss: 0.4462 - accuracy: 0.7719 - val_loss: 0.4408 - val_accuracy: 0.7781\n",
      "Epoch 14/50\n",
      "246/246 [==============================] - 179s 727ms/step - loss: 0.4445 - accuracy: 0.7735 - val_loss: 0.4386 - val_accuracy: 0.7785\n",
      "Epoch 15/50\n",
      "246/246 [==============================] - 190s 771ms/step - loss: 0.4417 - accuracy: 0.7748 - val_loss: 0.4389 - val_accuracy: 0.7795\n",
      "Epoch 16/50\n",
      "246/246 [==============================] - 177s 721ms/step - loss: 0.4415 - accuracy: 0.7748 - val_loss: 0.4350 - val_accuracy: 0.7808\n",
      "Epoch 17/50\n",
      "246/246 [==============================] - 180s 733ms/step - loss: 0.4393 - accuracy: 0.7752 - val_loss: 0.4369 - val_accuracy: 0.7831\n",
      "Epoch 18/50\n",
      "246/246 [==============================] - 182s 742ms/step - loss: 0.4383 - accuracy: 0.7778 - val_loss: 0.4339 - val_accuracy: 0.7830\n",
      "Epoch 19/50\n",
      "246/246 [==============================] - 179s 727ms/step - loss: 0.4361 - accuracy: 0.7774 - val_loss: 0.4336 - val_accuracy: 0.7826\n",
      "Epoch 20/50\n",
      "246/246 [==============================] - 178s 724ms/step - loss: 0.4355 - accuracy: 0.7770 - val_loss: 0.4349 - val_accuracy: 0.7814\n",
      "Epoch 21/50\n",
      "246/246 [==============================] - 171s 697ms/step - loss: 0.4354 - accuracy: 0.7771 - val_loss: 0.4340 - val_accuracy: 0.7829\n",
      "Epoch 22/50\n",
      "246/246 [==============================] - 169s 687ms/step - loss: 0.4337 - accuracy: 0.7773 - val_loss: 0.4321 - val_accuracy: 0.7810\n",
      "Epoch 23/50\n",
      "246/246 [==============================] - 168s 684ms/step - loss: 0.4340 - accuracy: 0.7778 - val_loss: 0.4315 - val_accuracy: 0.7839\n",
      "Epoch 24/50\n",
      "246/246 [==============================] - 174s 705ms/step - loss: 0.4319 - accuracy: 0.7790 - val_loss: 0.4295 - val_accuracy: 0.7846\n",
      "Epoch 25/50\n",
      "246/246 [==============================] - 171s 695ms/step - loss: 0.4310 - accuracy: 0.7787 - val_loss: 0.4294 - val_accuracy: 0.7858\n",
      "Epoch 26/50\n",
      "246/246 [==============================] - 170s 693ms/step - loss: 0.4307 - accuracy: 0.7797 - val_loss: 0.4294 - val_accuracy: 0.7844\n",
      "Epoch 27/50\n",
      "246/246 [==============================] - 170s 690ms/step - loss: 0.4297 - accuracy: 0.7804 - val_loss: 0.4285 - val_accuracy: 0.7853\n",
      "Epoch 28/50\n",
      "246/246 [==============================] - 171s 696ms/step - loss: 0.4281 - accuracy: 0.7799 - val_loss: 0.4296 - val_accuracy: 0.7815\n",
      "Epoch 29/50\n",
      "246/246 [==============================] - 174s 708ms/step - loss: 0.4282 - accuracy: 0.7807 - val_loss: 0.4275 - val_accuracy: 0.7871\n",
      "Epoch 30/50\n",
      "246/246 [==============================] - 175s 713ms/step - loss: 0.4267 - accuracy: 0.7808 - val_loss: 0.4273 - val_accuracy: 0.7870\n",
      "Epoch 31/50\n",
      "246/246 [==============================] - 177s 719ms/step - loss: 0.4278 - accuracy: 0.7811 - val_loss: 0.4273 - val_accuracy: 0.7876\n",
      "Epoch 32/50\n",
      "246/246 [==============================] - 171s 697ms/step - loss: 0.4255 - accuracy: 0.7818 - val_loss: 0.4269 - val_accuracy: 0.7834\n",
      "Epoch 33/50\n",
      "246/246 [==============================] - 170s 693ms/step - loss: 0.4245 - accuracy: 0.7825 - val_loss: 0.4270 - val_accuracy: 0.7878\n",
      "Epoch 34/50\n",
      "246/246 [==============================] - 171s 695ms/step - loss: 0.4242 - accuracy: 0.7828 - val_loss: 0.4274 - val_accuracy: 0.7822\n",
      "Epoch 35/50\n",
      "246/246 [==============================] - 193s 787ms/step - loss: 0.4238 - accuracy: 0.7827 - val_loss: 0.4261 - val_accuracy: 0.7878\n",
      "Epoch 36/50\n",
      "246/246 [==============================] - 189s 770ms/step - loss: 0.4237 - accuracy: 0.7836 - val_loss: 0.4253 - val_accuracy: 0.7888\n",
      "Epoch 37/50\n",
      "246/246 [==============================] - 191s 776ms/step - loss: 0.4217 - accuracy: 0.7844 - val_loss: 0.4253 - val_accuracy: 0.7868\n",
      "Epoch 38/50\n",
      "246/246 [==============================] - 190s 770ms/step - loss: 0.4213 - accuracy: 0.7837 - val_loss: 0.4271 - val_accuracy: 0.7822\n",
      "Epoch 39/50\n",
      "246/246 [==============================] - 191s 778ms/step - loss: 0.4209 - accuracy: 0.7853 - val_loss: 0.4263 - val_accuracy: 0.7875\n",
      "Epoch 40/50\n",
      "246/246 [==============================] - 189s 770ms/step - loss: 0.4209 - accuracy: 0.7846 - val_loss: 0.4253 - val_accuracy: 0.7902\n",
      "Epoch 41/50\n",
      "246/246 [==============================] - 185s 753ms/step - loss: 0.4200 - accuracy: 0.7848 - val_loss: 0.4261 - val_accuracy: 0.7823\n",
      "Epoch 42/50\n",
      "246/246 [==============================] - 189s 769ms/step - loss: 0.4200 - accuracy: 0.7848 - val_loss: 0.4261 - val_accuracy: 0.7863\n",
      "Epoch 43/50\n",
      "246/246 [==============================] - 186s 758ms/step - loss: 0.4182 - accuracy: 0.7864 - val_loss: 0.4257 - val_accuracy: 0.7850\n",
      "Epoch 44/50\n",
      "246/246 [==============================] - 186s 758ms/step - loss: 0.4175 - accuracy: 0.7847 - val_loss: 0.4250 - val_accuracy: 0.7903\n",
      "Epoch 45/50\n",
      "246/246 [==============================] - 187s 761ms/step - loss: 0.4177 - accuracy: 0.7847 - val_loss: 0.4250 - val_accuracy: 0.7878\n",
      "Epoch 46/50\n",
      "246/246 [==============================] - 188s 763ms/step - loss: 0.4173 - accuracy: 0.7864 - val_loss: 0.4265 - val_accuracy: 0.7888\n",
      "Epoch 47/50\n",
      "246/246 [==============================] - 186s 758ms/step - loss: 0.4161 - accuracy: 0.7860 - val_loss: 0.4275 - val_accuracy: 0.7884\n",
      "Epoch 48/50\n",
      "246/246 [==============================] - 187s 761ms/step - loss: 0.4165 - accuracy: 0.7869 - val_loss: 0.4242 - val_accuracy: 0.7860\n",
      "Epoch 49/50\n",
      "246/246 [==============================] - 194s 790ms/step - loss: 0.4149 - accuracy: 0.7865 - val_loss: 0.4249 - val_accuracy: 0.7886\n",
      "Epoch 50/50\n",
      "246/246 [==============================] - 210s 853ms/step - loss: 0.4156 - accuracy: 0.7856 - val_loss: 0.4257 - val_accuracy: 0.7884\n"
     ]
    }
   ],
   "source": [
    "#deeplob.load_weights('modelMSFTClassification.h5')\n",
    "simple=deeplob.fit(trainX, trainY, validation_data=(valiX, valiY),  epochs=50, batch_size=256,callbacks=[callback,saving])"
   ]
  },
  {
   "cell_type": "code",
   "execution_count": 14,
   "metadata": {},
   "outputs": [],
   "source": [
    "deeplob.save('modelMSFTdiffClassification.h5')"
   ]
  },
  {
   "cell_type": "code",
   "execution_count": 15,
   "metadata": {},
   "outputs": [
    {
     "name": "stdout",
     "output_type": "stream",
     "text": [
      "653/653 [==============================] - 36s 50ms/step\n"
     ]
    },
    {
     "data": {
      "text/plain": [
       "array([[8.1334454e-01, 1.1415280e-01, 7.2502680e-02],\n",
       "       [9.9700445e-01, 3.1326857e-04, 2.6822649e-03],\n",
       "       [9.9845874e-01, 6.4479053e-04, 8.9654897e-04],\n",
       "       ...,\n",
       "       [5.6730777e-01, 2.8030844e-03, 4.2988917e-01],\n",
       "       [9.9565756e-01, 2.3417587e-04, 4.1083219e-03],\n",
       "       [9.9724472e-01, 2.2831643e-03, 4.7218744e-04]], dtype=float32)"
      ]
     },
     "execution_count": 15,
     "metadata": {},
     "output_type": "execute_result"
    }
   ],
   "source": [
    "P = deeplob.predict(testX)\n",
    "pj= np.round(P)\n",
    "P"
   ]
  },
  {
   "cell_type": "code",
   "execution_count": 16,
   "metadata": {},
   "outputs": [
    {
     "name": "stdout",
     "output_type": "stream",
     "text": [
      "accuracy_score: 0.7855500191644308\n",
      "              precision    recall  f1-score   support\n",
      "\n",
      "           0     0.8636    0.8520    0.8578     15802\n",
      "           1     0.5625    0.6915    0.6204      2603\n",
      "           2     0.5437    0.4589    0.4977      2467\n",
      "\n",
      "    accuracy                         0.7856     20872\n",
      "   macro avg     0.6566    0.6675    0.6586     20872\n",
      "weighted avg     0.7883    0.7856    0.7856     20872\n",
      "\n"
     ]
    }
   ],
   "source": [
    "from sklearn.metrics import classification_report, accuracy_score\n",
    "print('accuracy_score:', accuracy_score(np.argmax(testY, axis=1), np.argmax(pj, axis=1)))\n",
    "print(classification_report(np.argmax(testY, axis=1), np.argmax(pj, axis=1), digits=4))"
   ]
  },
  {
   "cell_type": "code",
   "execution_count": 17,
   "metadata": {},
   "outputs": [
    {
     "data": {
      "image/png": "[encoded data removed]",
      "text/plain": [
       "<Figure size 432x288 with 2 Axes>"
      ]
     },
     "metadata": {
      "needs_background": "light"
     },
     "output_type": "display_data"
    }
   ],
   "source": [
    "from sklearn.metrics import confusion_matrix, ConfusionMatrixDisplay\n",
    "cm = confusion_matrix(testY.argmax(axis=1), pj.argmax(axis=1),normalize='pred')#true', 'pred', 'all'\n",
    "disp = ConfusionMatrixDisplay(confusion_matrix=cm,display_labels=['sta','higher','lower'])\n",
    "disp.plot()\n",
    "disp.ax_.set_title(\"Confusion Matrix CNN/LSTM\");"
   ]
  },
  {
   "cell_type": "markdown",
   "metadata": {},
   "source": [
    "LSTM classifier\n",
    "==="
   ]
  },
  {
   "cell_type": "code",
   "execution_count": 18,
   "metadata": {},
   "outputs": [],
   "source": [
    "def prepare_x_y_lstm(of, lag=100, dimension=6):\n",
    "    ex = of[['aOF_1','bOF_1','aOF_2','bOF_2','aOF_3','bOF_3']].to_numpy()#\n",
    "    uai= of['h'].to_numpy() #.pct_change().fillna(0)['r']\n",
    "    shape = of.shape\n",
    "    dimension=6\n",
    "    lag = 100\n",
    "    x=np.empty((shape[0]-lag, lag, dimension))\n",
    "    y=np.empty((shape[0]-lag,1))\n",
    "    for i in range(shape[0]-lag):\n",
    "        x[i]=ex[i:i+lag]\n",
    "        y[i]=uai[i+lag-1]\n",
    "\n",
    "    X=x.reshape(-1,lag,6)\n",
    "\n",
    "    Y = np_utils.to_categorical(y.astype(int),3)\n",
    "\n",
    "    return X,Y"
   ]
  },
  {
   "cell_type": "code",
   "execution_count": 19,
   "metadata": {},
   "outputs": [
    {
     "name": "stdout",
     "output_type": "stream",
     "text": [
      "(62814, 100, 6) (62814, 3)\n",
      "(20871, 100, 6) (20871, 3)\n",
      "(20872, 100, 6) (20872, 3)\n"
     ]
    }
   ],
   "source": [
    "V = int(len(of)*0.6)\n",
    "T = int(len(of)*0.8)\n",
    "\n",
    "n_train     = of_data.iloc[ :V].copy()\n",
    "n_vali      = of_data.iloc[V:T].copy()\n",
    "n_test      = of_data.iloc[T: ].copy()\n",
    "\n",
    "n_train = n_train.apply(lambda x : utils.taglia_e_cuci(x), axis=1, raw=True)\n",
    "n_vali  = n_vali .apply(lambda x : utils.taglia_e_cuci(x), axis=1, raw=True)\n",
    "n_test  = n_test .apply(lambda x : utils.taglia_e_cuci(x), axis=1, raw=True)\n",
    "\n",
    "x_vars = of_data.columns#[:-1]\n",
    "\n",
    "# Normalize Features\n",
    "# Dividing by the standard deviation estimated using the training set\n",
    "for x_var in x_vars:\n",
    "    sd = n_train[x_var].std()\n",
    "    n_train[x_var] = n_train[x_var] / sd\n",
    "    n_vali [x_var] = n_vali [x_var] / sd\n",
    "    n_test [x_var] = n_test [x_var] / sd\n",
    "\n",
    "n_train['h'] = hot[ :V]\n",
    "n_vali ['h'] = hot[V:T]\n",
    "n_test ['h'] = hot[T: ]\n",
    "#of=of_data\n",
    "\n",
    "trainX_lstm,trainY_lstm = prepare_x_y_lstm  (n_train)    \n",
    "valiX_lstm,valiY_lstm = prepare_x_y_lstm  (n_vali )    \n",
    "testX_lstm,testY_lstm = prepare_x_y_lstm  (n_test )   \n",
    "\n",
    "\n",
    "print(trainX_lstm.shape ,trainY_lstm .shape)\n",
    "print(valiX_lstm.shape  ,valiY_lstm .shape)\n",
    "print(testX_lstm.shape  ,testY_lstm .shape)"
   ]
  },
  {
   "cell_type": "code",
   "execution_count": 20,
   "metadata": {},
   "outputs": [
    {
     "name": "stdout",
     "output_type": "stream",
     "text": [
      "Model: \"model_1\"\n",
      "_________________________________________________________________\n",
      " Layer (type)                Output Shape              Param #   \n",
      "=================================================================\n",
      " input_2 (InputLayer)        [(None, 100, 6)]          0         \n",
      "                                                                 \n",
      " lstm_1 (LSTM)               (None, 100, 64)           18176     \n",
      "                                                                 \n",
      " leaky_re_lu_9 (LeakyReLU)   (None, 100, 64)           0         \n",
      "                                                                 \n",
      " lstm_2 (LSTM)               (None, 100, 64)           33024     \n",
      "                                                                 \n",
      " leaky_re_lu_10 (LeakyReLU)  (None, 100, 64)           0         \n",
      "                                                                 \n",
      " lstm_3 (LSTM)               (None, 100, 64)           33024     \n",
      "                                                                 \n",
      " leaky_re_lu_11 (LeakyReLU)  (None, 100, 64)           0         \n",
      "                                                                 \n",
      " dropout_1 (Dropout)         (None, 100, 64)           0         \n",
      "                                                                 \n",
      " global_max_pooling1d (Globa  (None, 64)               0         \n",
      " lMaxPooling1D)                                                  \n",
      "                                                                 \n",
      " dense_1 (Dense)             (None, 3)                 195       \n",
      "                                                                 \n",
      "=================================================================\n",
      "Total params: 84,419\n",
      "Trainable params: 84,419\n",
      "Non-trainable params: 0\n",
      "_________________________________________________________________\n"
     ]
    }
   ],
   "source": [
    "#architettura della rete\n",
    "num_units = 64\n",
    "activation_function = 'leaky_relu'\n",
    "adam = keras.optimizers.Adam(learning_rate=0.001)\n",
    "loss_function = 'categorical_crossentropy'\n",
    "batch_size = 250\n",
    "num_epochs = 50\n",
    "i = Input(shape=(100, 6))\n",
    "x = LSTM(64, return_sequences=True)(i)\n",
    "x = keras.layers.LeakyReLU(alpha=0.01)(x)\n",
    "x = LSTM(64, return_sequences=True)(x)\n",
    "x = keras.layers.LeakyReLU(alpha=0.01)(x)\n",
    "x = LSTM(64, return_sequences=True)(x)\n",
    "x = keras.layers.LeakyReLU(alpha=0.01)(x)\n",
    "x = keras.layers.Dropout(0.7)(x, training=True)\n",
    "#x = LSTM(64, return_sequences=True)(x)\n",
    "x = GlobalMaxPooling1D()(x)\n",
    "x = Dense(3, activation='softmax')(x)\n",
    "\n",
    "\n",
    "model = Model(i, x)\n",
    "\n",
    "\n",
    "callback=tf.keras.callbacks.EarlyStopping(\n",
    "    monitor='val_loss',\n",
    "    min_delta=0,\n",
    "    patience=5,\n",
    "    verbose=1,\n",
    "    mode='auto',\n",
    "    baseline=None,\n",
    "    restore_best_weights=False\n",
    ")\n",
    "\n",
    "model.compile(optimizer = adam, loss = loss_function, metrics=['accuracy'])\n",
    "model.summary()\n"
   ]
  },
  {
   "cell_type": "code",
   "execution_count": 21,
   "metadata": {},
   "outputs": [
    {
     "name": "stdout",
     "output_type": "stream",
     "text": [
      "Epoch 1/20\n",
      "246/246 [==============================] - 390s 2s/step - loss: 0.7698 - accuracy: 0.7315 - val_loss: 0.7644 - val_accuracy: 0.7356\n",
      "Epoch 2/20\n",
      "246/246 [==============================] - 378s 2s/step - loss: 0.7589 - accuracy: 0.7361 - val_loss: 0.7623 - val_accuracy: 0.7356\n",
      "Epoch 3/20\n",
      "246/246 [==============================] - 181s 734ms/step - loss: 0.7579 - accuracy: 0.7361 - val_loss: 0.7631 - val_accuracy: 0.7356\n",
      "Epoch 4/20\n",
      "246/246 [==============================] - 156s 635ms/step - loss: 0.7571 - accuracy: 0.7361 - val_loss: 0.7655 - val_accuracy: 0.7356\n",
      "Epoch 5/20\n",
      "246/246 [==============================] - 158s 645ms/step - loss: 0.7566 - accuracy: 0.7361 - val_loss: 0.7614 - val_accuracy: 0.7356\n",
      "Epoch 6/20\n",
      "246/246 [==============================] - 161s 655ms/step - loss: 0.7563 - accuracy: 0.7361 - val_loss: 0.7630 - val_accuracy: 0.7356\n",
      "Epoch 7/20\n",
      "246/246 [==============================] - 159s 649ms/step - loss: 0.7556 - accuracy: 0.7361 - val_loss: 0.7676 - val_accuracy: 0.7356\n",
      "Epoch 8/20\n",
      "246/246 [==============================] - 158s 641ms/step - loss: 0.7546 - accuracy: 0.7361 - val_loss: 0.7627 - val_accuracy: 0.7356\n",
      "Epoch 9/20\n",
      "246/246 [==============================] - 228s 927ms/step - loss: 0.7546 - accuracy: 0.7361 - val_loss: 0.7617 - val_accuracy: 0.7356\n",
      "Epoch 10/20\n",
      "246/246 [==============================] - 183s 742ms/step - loss: 0.7537 - accuracy: 0.7361 - val_loss: 0.7620 - val_accuracy: 0.7356\n",
      "Epoch 11/20\n",
      "246/246 [==============================] - 185s 753ms/step - loss: 0.7532 - accuracy: 0.7361 - val_loss: 0.7621 - val_accuracy: 0.7356\n",
      "Epoch 12/20\n",
      "246/246 [==============================] - 138s 559ms/step - loss: 0.7527 - accuracy: 0.7361 - val_loss: 0.7617 - val_accuracy: 0.7356\n",
      "Epoch 13/20\n",
      "246/246 [==============================] - 132s 535ms/step - loss: 0.7523 - accuracy: 0.7361 - val_loss: 0.7624 - val_accuracy: 0.7356\n",
      "Epoch 14/20\n",
      "246/246 [==============================] - 135s 549ms/step - loss: 0.7519 - accuracy: 0.7361 - val_loss: 0.7609 - val_accuracy: 0.7356\n",
      "Epoch 15/20\n",
      "246/246 [==============================] - 137s 556ms/step - loss: 0.7513 - accuracy: 0.7361 - val_loss: 0.7619 - val_accuracy: 0.7356\n",
      "Epoch 16/20\n",
      "246/246 [==============================] - 137s 556ms/step - loss: 0.7508 - accuracy: 0.7361 - val_loss: 0.7606 - val_accuracy: 0.7356\n",
      "Epoch 17/20\n",
      "246/246 [==============================] - 136s 552ms/step - loss: 0.7490 - accuracy: 0.7361 - val_loss: 0.7613 - val_accuracy: 0.7356\n",
      "Epoch 18/20\n",
      "246/246 [==============================] - 138s 561ms/step - loss: 0.7422 - accuracy: 0.7361 - val_loss: 0.7242 - val_accuracy: 0.7356\n",
      "Epoch 19/20\n",
      "246/246 [==============================] - 137s 556ms/step - loss: 0.6983 - accuracy: 0.7350 - val_loss: 0.6893 - val_accuracy: 0.7357\n",
      "Epoch 20/20\n",
      "246/246 [==============================] - 138s 561ms/step - loss: 0.6424 - accuracy: 0.7359 - val_loss: 0.6286 - val_accuracy: 0.7395\n"
     ]
    }
   ],
   "source": [
    "#model.load_weights('modelMSFTlstmClassification.h5')\n",
    "lstmMSFT=model.fit(trainX_lstm, trainY_lstm, validation_data=(valiX_lstm, valiY_lstm), epochs=20, batch_size=256)"
   ]
  },
  {
   "cell_type": "code",
   "execution_count": 22,
   "metadata": {},
   "outputs": [],
   "source": [
    "model.save('modelMSFTlstmDiffClassification.h5')"
   ]
  },
  {
   "cell_type": "code",
   "execution_count": 23,
   "metadata": {},
   "outputs": [
    {
     "name": "stdout",
     "output_type": "stream",
     "text": [
      "653/653 [==============================] - 20s 28ms/step\n"
     ]
    },
    {
     "data": {
      "text/plain": [
       "array([[0.8639507 , 0.05783703, 0.07821228],\n",
       "       [0.84776986, 0.06807799, 0.08415216],\n",
       "       [0.8369957 , 0.08922221, 0.07378206],\n",
       "       ...,\n",
       "       [0.6602964 , 0.16111182, 0.17859182],\n",
       "       [0.7780135 , 0.10792422, 0.11406227],\n",
       "       [0.91647375, 0.04377502, 0.03975115]], dtype=float32)"
      ]
     },
     "execution_count": 23,
     "metadata": {},
     "output_type": "execute_result"
    }
   ],
   "source": [
    "P_lstm = model.predict(testX_lstm)\n",
    "p_lstmj= np.round(P_lstm)\n",
    "P_lstm"
   ]
  },
  {
   "cell_type": "code",
   "execution_count": 30,
   "metadata": {},
   "outputs": [
    {
     "name": "stdout",
     "output_type": "stream",
     "text": [
      "accuracy_score: 0.7598696818704485\n",
      "              precision    recall  f1-score   support\n",
      "\n",
      "           0     0.7653    0.9893    0.8630     15802\n",
      "           1     0.5220    0.0864    0.1483      2603\n",
      "           2     0.1538    0.0008    0.0016      2467\n",
      "\n",
      "    accuracy                         0.7599     20872\n",
      "   macro avg     0.4804    0.3589    0.3376     20872\n",
      "weighted avg     0.6627    0.7599    0.6720     20872\n",
      "\n"
     ]
    }
   ],
   "source": [
    "from sklearn.metrics import classification_report, accuracy_score\n",
    "print('accuracy_score:', accuracy_score(np.argmax(testY_lstm, axis=1), np.argmax(P_lstm, axis=1)))\n",
    "print(classification_report(np.argmax(testY_lstm, axis=1), np.argmax(P_lstm, axis=1), digits=4))"
   ]
  },
  {
   "cell_type": "code",
   "execution_count": 33,
   "metadata": {},
   "outputs": [
    {
     "data": {
      "image/png": "[encoded data removed]",
      "text/plain": [
       "<Figure size 432x288 with 2 Axes>"
      ]
     },
     "metadata": {
      "needs_background": "light"
     },
     "output_type": "display_data"
    }
   ],
   "source": [
    "from sklearn.metrics import confusion_matrix, ConfusionMatrixDisplay\n",
    "cm_lstm = confusion_matrix(testY_lstm.argmax(axis=1), P_lstm.argmax(axis=1),normalize='pred')#true', 'pred', 'all'\n",
    "disp_lstm = ConfusionMatrixDisplay(confusion_matrix=cm_lstm,display_labels=['sta','higher','lower'])\n",
    "disp_lstm.plot()\n",
    "disp_lstm.ax_.set_title(\"Confusion Matrix LSTM\");"
   ]
  },
  {
   "cell_type": "markdown",
   "metadata": {},
   "source": [
    "Naive Gaussian Classifier\n",
    "==="
   ]
  },
  {
   "cell_type": "code",
   "execution_count": 25,
   "metadata": {},
   "outputs": [
    {
     "name": "stdout",
     "output_type": "stream",
     "text": [
      "[0. 0. 0. ... 0. 0. 0.] [0. 0. 0. ... 0. 0. 0.]\n"
     ]
    }
   ],
   "source": [
    "rng = np.random.RandomState(1)\n",
    "X = n_train[['aOF_1'\t,'bOF_1'\t,'aOF_2'\t,'bOF_2'\t,'aOF_3',\t'bOF_3']].to_numpy()\n",
    "y = n_train['h'].to_numpy()\n",
    "Xte = n_vali[['aOF_1'\t,'bOF_1'\t,'aOF_2'\t,'bOF_2'\t,'aOF_3',\t'bOF_3']].to_numpy()\n",
    "Yte = n_vali['h'].to_numpy()#['h'].to_numpy()\n",
    "from sklearn.naive_bayes import CategoricalNB\n",
    "from sklearn.naive_bayes import GaussianNB\n",
    "from sklearn.naive_bayes import MultinomialNB\n",
    "clf = GaussianNB()\n",
    "clf.fit(X, y)\n",
    "predNB = clf.predict(Xte)\n",
    "encPr=np_utils.to_categorical(predNB)\n",
    "#encTe=np_utils.to_categorical(Yte)\n",
    "print(predNB,Yte)"
   ]
  },
  {
   "cell_type": "code",
   "execution_count": 26,
   "metadata": {},
   "outputs": [],
   "source": [
    "encTe=np_utils.to_categorical(n_vali['h'].to_numpy())"
   ]
  },
  {
   "cell_type": "code",
   "execution_count": 27,
   "metadata": {},
   "outputs": [
    {
     "name": "stdout",
     "output_type": "stream",
     "text": [
      "accuracy_score: 0.7229030566019742\n",
      "              precision    recall  f1-score   support\n",
      "\n",
      "           0     0.7383    0.9689    0.8380     15425\n",
      "           1     0.3146    0.0705    0.1152      2851\n",
      "           2     0.1494    0.0048    0.0093      2695\n",
      "\n",
      "    accuracy                         0.7229     20971\n",
      "   macro avg     0.4007    0.3481    0.3208     20971\n",
      "weighted avg     0.6050    0.7229    0.6333     20971\n",
      "\n"
     ]
    }
   ],
   "source": [
    "print('accuracy_score:', accuracy_score(np.argmax(encTe, axis=1), np.argmax(encPr, axis=1)))\n",
    "print(classification_report(np.argmax(encTe, axis=1), np.argmax(encPr, axis=1), digits=4))"
   ]
  },
  {
   "cell_type": "code",
   "execution_count": 28,
   "metadata": {},
   "outputs": [
    {
     "data": {
      "image/png": "[encoded data removed]",
      "text/plain": [
       "<Figure size 432x288 with 2 Axes>"
      ]
     },
     "metadata": {
      "needs_background": "light"
     },
     "output_type": "display_data"
    }
   ],
   "source": [
    "from sklearn.metrics import confusion_matrix, ConfusionMatrixDisplay\n",
    "cmNaiv = confusion_matrix(encTe.argmax(axis=1), encPr.argmax(axis=1),normalize='all')\n",
    "dispNaiv = ConfusionMatrixDisplay(confusion_matrix=cmNaiv,display_labels=['sta','higher','lower'])\n",
    "dispNaiv.plot()\n",
    "dispNaiv.ax_.set_title(\"Confusion Matrix Naive\");"
   ]
  },
  {
   "cell_type": "code",
   "execution_count": null,
   "metadata": {},
   "outputs": [],
   "source": [
    "fig, ax = plt.subplots(1,3, figsize=(15,10))\n",
    "ax[0].set_title(\"CNN/LSTM\")\n",
    "ax[1].set_title(\"LSTM\")\n",
    "ax[2].set_title(\"Naive\")\n",
    "\n",
    "cm = confusion_matrix(testY.argmax(axis=1), pj.argmax(axis=1),normalize='pred')#true', 'pred', 'all'\n",
    "disp = ConfusionMatrixDisplay(confusion_matrix=cm,display_labels=['sta','higher','lower'])\n",
    "disp.plot(ax=ax[0])\n",
    "disp.ax_.set_title(\"Confusion Matrix CNN/LSTM\")\n",
    "cm_lstm = confusion_matrix(testY_lstm.argmax(axis=1), P_lstm.argmax(axis=1),normalize='pred')#true', 'pred', 'all'\n",
    "disp_lstm = ConfusionMatrixDisplay(confusion_matrix=cm_lstm,display_labels=['sta','higher','lower'])\n",
    "disp_lstm.plot(ax=ax[1])\n",
    "disp_lstm.ax_.set_title(\"Confusion Matrix LSTM\")\n",
    "cmNaiv = confusion_matrix(encTe.argmax(axis=1), encPr.argmax(axis=1),normalize='pred')\n",
    "dispNaiv = ConfusionMatrixDisplay(confusion_matrix=cmNaiv,display_labels=['sta','higher','lower'])\n",
    "dispNaiv.plot(ax=ax[2])\n",
    "dispNaiv.ax_.set_title(\"Confusion Matrix Naive\");"
   ]
  },
  {
   "cell_type": "code",
   "execution_count": null,
   "metadata": {},
   "outputs": [],
   "source": [
    "stop"
   ]
  },
  {
   "cell_type": "code",
   "execution_count": 34,
   "metadata": {},
   "outputs": [
    {
     "data": {
      "image/png": "[encoded data removed]",
      "text/plain": [
       "<Figure size 1080x720 with 6 Axes>"
      ]
     },
     "metadata": {
      "needs_background": "light"
     },
     "output_type": "display_data"
    }
   ],
   "source": [
    "fig, ax = plt.subplots(1,3, figsize=(15,10))\n",
    "ax[0].set_title(\"CNN/LSTM\")\n",
    "ax[1].set_title(\"LSTM\")\n",
    "ax[2].set_title(\"Naive\")\n",
    "\n",
    "cm = confusion_matrix(testY.argmax(axis=1), pj.argmax(axis=1),normalize='pred')#true', 'pred', 'all'\n",
    "disp = ConfusionMatrixDisplay(confusion_matrix=cm,display_labels=['sta','higher','lower'])\n",
    "disp.plot(ax=ax[0])\n",
    "disp.ax_.set_title(\"Confusion Matrix CNN/LSTM\")\n",
    "cm_lstm = confusion_matrix(testY_lstm.argmax(axis=1), P_lstm.argmax(axis=1),normalize='pred')#true', 'pred', 'all'\n",
    "disp_lstm = ConfusionMatrixDisplay(confusion_matrix=cm_lstm,display_labels=['sta','higher','lower'])\n",
    "disp_lstm.plot(ax=ax[1])\n",
    "disp_lstm.ax_.set_title(\"Confusion Matrix LSTM\")\n",
    "cmNaiv = confusion_matrix(encTe.argmax(axis=1), encPr.argmax(axis=1),normalize='pred')\n",
    "dispNaiv = ConfusionMatrixDisplay(confusion_matrix=cmNaiv,display_labels=['sta','higher','lower'])\n",
    "dispNaiv.plot(ax=ax[2])\n",
    "dispNaiv.ax_.set_title(\"Confusion Matrix Naive\");"
   ]
  },
  {
   "cell_type": "code",
   "execution_count": null,
   "metadata": {},
   "outputs": [],
   "source": [
    "STOP"
   ]
  },
  {
   "cell_type": "code",
   "execution_count": 34,
   "metadata": {},
   "outputs": [
    {
     "data": {
      "image/png": "[encoded data removed]",
      "text/plain": [
       "<Figure size 1080x720 with 6 Axes>"
      ]
     },
     "metadata": {
      "needs_background": "light"
     },
     "output_type": "display_data"
    }
   ],
   "source": [
    "fig, ax = plt.subplots(1,3, figsize=(15,10))\n",
    "ax[0].set_title(\"CNN/LSTM\")\n",
    "ax[1].set_title(\"LSTM\")\n",
    "ax[2].set_title(\"Naive\")\n",
    "\n",
    "cm = confusion_matrix(testY.argmax(axis=1), pj.argmax(axis=1),normalize='pred')#true', 'pred', 'all'\n",
    "disp = ConfusionMatrixDisplay(confusion_matrix=cm,display_labels=['$<0.02$ (lower)','$>0.02$ (higher)'])\n",
    "disp.plot(ax=ax[0])\n",
    "disp.ax_.set_title(\"Confusion Matrix CNN/LSTM\")\n",
    "cm_lstm = confusion_matrix(testY_lstm.argmax(axis=1), p_lstmj.argmax(axis=1),normalize='pred')#true', 'pred', 'all'\n",
    "disp_lstm = ConfusionMatrixDisplay(confusion_matrix=cm_lstm,display_labels=['$<0.02$ (lower)','$>0.02$ (higher)'])\n",
    "disp_lstm.plot(ax=ax[1])\n",
    "disp_lstm.ax_.set_title(\"Confusion Matrix LSTM\")\n",
    "cmNaiv = confusion_matrix(encTe.argmax(axis=1), encPr.argmax(axis=1),normalize='pred')\n",
    "dispNaiv = ConfusionMatrixDisplay(confusion_matrix=cmNaiv,display_labels=['$<0.02$ (lower)','$>0.02$ (higher)'])\n",
    "dispNaiv.plot(ax=ax[2])\n",
    "dispNaiv.ax_.set_title(\"Confusion Matrix Naive\");"
   ]
  },
  {
   "cell_type": "code",
   "execution_count": 33,
   "metadata": {},
   "outputs": [
    {
     "data": {
      "image/png": "[encoded data removed]",
      "text/plain": [
       "<Figure size 1080x720 with 6 Axes>"
      ]
     },
     "metadata": {
      "needs_background": "light"
     },
     "output_type": "display_data"
    }
   ],
   "source": [
    "fig, ax = plt.subplots(1,3, figsize=(15,10))\n",
    "ax[0].set_title(\"CNN/LSTM\")\n",
    "ax[1].set_title(\"LSTM\")\n",
    "ax[2].set_title(\"Naive\")\n",
    "\n",
    "cm = confusion_matrix(testY.argmax(axis=1), pj.argmax(axis=1),normalize='all')#true', 'pred', 'all'\n",
    "disp = ConfusionMatrixDisplay(confusion_matrix=cm,display_labels=['$<0.02$ (lower)','$>0.02$ (higher)'])\n",
    "disp.plot(ax=ax[0])\n",
    "disp.ax_.set_title(\"Confusion Matrix CNN/LSTM\")\n",
    "cm_lstm = confusion_matrix(testY_lstm.argmax(axis=1), p_lstmj.argmax(axis=1),normalize='all')#true', 'pred', 'all'\n",
    "disp_lstm = ConfusionMatrixDisplay(confusion_matrix=cm_lstm,display_labels=['$<0.02$ (lower)','$>0.02$ (higher)'])\n",
    "disp_lstm.plot(ax=ax[1])\n",
    "disp_lstm.ax_.set_title(\"Confusion Matrix LSTM\")\n",
    "cmNaiv = confusion_matrix(encTe.argmax(axis=1), encPr.argmax(axis=1),normalize='all')\n",
    "dispNaiv = ConfusionMatrixDisplay(confusion_matrix=cmNaiv,display_labels=['$<0.02$ (lower)','$>0.02$ (higher)'])\n",
    "dispNaiv.plot(ax=ax[2])\n",
    "dispNaiv.ax_.set_title(\"Confusion Matrix Naive\");\n",
    "#plt.tight_layout()  ;"
   ]
  },
  {
   "cell_type": "code",
   "execution_count": null,
   "metadata": {},
   "outputs": [
    {
     "data": {
      "text/plain": [
       "0.9980000000000001"
      ]
     },
     "execution_count": 41,
     "metadata": {},
     "output_type": "execute_result"
    }
   ],
   "source": []
  },
  {
   "cell_type": "markdown",
   "metadata": {},
   "source": [
    "1) Precision is a measure of how many of the positive predictions made are correct (true positives).\n",
    "2) Accuracy describes the number of correct predictions over all predictions (TP+TN)/sizePop.\n",
    "3) Recall is a measure of how many of the positive cases the classifier correctly predicted, over all the positive cases in the data.\n",
    "4) F1 provides a single metric that weights the two ratios (precision and recall) in a balanced way.\n",
    "    - Very small precision or recall will result in lower overall score. Thus it helps balance the two metrics.\n",
    "    - If you choose your positive class as the one with fewer samples, F1-score can help balance the metric across positive/negative samples."
   ]
  }
 ],
 "metadata": {
  "kernelspec": {
   "display_name": "Python 3.9.12 ('base')",
   "language": "python",
   "name": "python3"
  },
  "language_info": {
   "codemirror_mode": {
    "name": "ipython",
    "version": 3
   },
   "file_extension": ".py",
   "mimetype": "text/x-python",
   "name": "python",
   "nbconvert_exporter": "python",
   "pygments_lexer": "ipython3",
   "version": "3.9.12"
  },
  "orig_nbformat": 4,
  "vscode": {
   "interpreter": {
    "hash": "597e2b791014bf3f975e304e1e72922cb6b9245e0453d34e2c818a7120fc527f"
   }
  }
 },
 "nbformat": 4,
 "nbformat_minor": 2
}
