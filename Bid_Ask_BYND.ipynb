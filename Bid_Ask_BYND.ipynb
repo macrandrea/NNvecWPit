{
 "cells": [
  {
   "cell_type": "code",
   "execution_count": 1,
   "metadata": {},
   "outputs": [],
   "source": [
    "import os\n",
    "import utils\n",
    "import pandas as pd\n",
    "import numpy  as np\n",
    "import matplotlib.pyplot as plt\n",
    "from pandas.tseries.offsets import *\n",
    "import statsmodels.formula.api as smf\n",
    "from glob import glob\n",
    "from datetime import datetime\n",
    "import tensorflow as tf\n",
    "import keras\n",
    "from keras import Input, layers\n",
    "from keras.models import Model\n",
    "from keras.layers import Flatten, Dense, Dropout, Activation, Input, LSTM, Reshape, Conv2D, MaxPooling2D, LeakyReLU, GlobalMaxPooling1D\n",
    "from keras.optimizers import Adam\n",
    "from keras.utils import np_utils\n",
    "import random\n",
    "from sklearn.metrics import mean_squared_error as mse\n",
    "from sklearn.metrics import r2_score\n",
    "from scipy import stats\n",
    "from sklearn.linear_model import LinearRegression\n",
    "from fireTS.models import NARX\n",
    "seed_value = 2022\n",
    "random.seed(seed_value)\n",
    "np.random.seed(seed_value)\n",
    "tf.random.set_seed(seed_value)\n",
    "from sklearn.preprocessing import QuantileTransformer \n",
    "normalizer = QuantileTransformer(output_distribution='normal')"
   ]
  },
  {
   "cell_type": "code",
   "execution_count": 2,
   "metadata": {},
   "outputs": [],
   "source": [
    "def baSpread(x):\n",
    "    a=x['AP1'].values.tolist()\n",
    "    b=x['BP1'].values.tolist()\n",
    "    bas=np.empty(len(x))\n",
    "    for i in range(len(a)):\n",
    "       bas[i]=(a[i]/10**4-b[i]/10**4)#/(a[i]+b[i])*10**4\n",
    "    return bas"
   ]
  },
  {
   "cell_type": "code",
   "execution_count": 3,
   "metadata": {},
   "outputs": [],
   "source": [
    "lob_data=utils.caricaLOB('bynd',0.05)\n",
    "ld=lob_data.values.tolist()\n",
    "of=utils.OF_1(ld)\n",
    "bCols=np.ravel([['aOF_%d'%level, 'bOF_%d'%level] for level in [1,2,3]])\n",
    "of_data=pd.DataFrame(of, columns=bCols)\n",
    "m=pd.DataFrame(utils.midPrice(lob_data),columns=['m'])\n",
    "m['r']=m['m'].pct_change().fillna(0).copy()\n",
    "b=pd.DataFrame(baSpread(lob_data),columns=['spread'])\n"
   ]
  },
  {
   "cell_type": "code",
   "execution_count": 4,
   "metadata": {},
   "outputs": [],
   "source": [
    "spread=b['spread'].to_numpy()\n",
    "d=np.log(b).diff().fillna(0).to_numpy().flatten()\n",
    "hot=np.zeros(len(d))\n",
    "for i in range(0,len(hot)):\n",
    "    if spread[i]<=0.05: #spread[i]-spread[i-1]>0.03:\n",
    "        hot[i]=1 #se spread[i]>soglia up\n",
    "    else: #-spread[i-1]<0.02:\n",
    "        hot[i]=0 #se spread[i]<soglia lo\n",
    "#plt.plot(hot);"
   ]
  },
  {
   "cell_type": "code",
   "execution_count": 29,
   "metadata": {},
   "outputs": [
    {
     "data": {
      "text/plain": [
       "(0.15000000000000568, 0.030000000000001137)"
      ]
     },
     "execution_count": 29,
     "metadata": {},
     "output_type": "execute_result"
    }
   ],
   "source": [
    "np.quantile(spread,0.9), np.quantile(spread,0.1), stats.mode(b)"
   ]
  },
  {
   "cell_type": "code",
   "execution_count": 6,
   "metadata": {},
   "outputs": [
    {
     "data": {
      "text/plain": [
       "(array([1., 1., 0., ..., 0., 0., 0.]),\n",
       " array([0.05, 0.05, 0.1 , ..., 0.11, 0.07, 0.11]))"
      ]
     },
     "execution_count": 6,
     "metadata": {},
     "output_type": "execute_result"
    }
   ],
   "source": [
    "hot,spread"
   ]
  },
  {
   "cell_type": "code",
   "execution_count": 7,
   "metadata": {},
   "outputs": [
    {
     "data": {
      "text/plain": [
       "[<matplotlib.lines.Line2D at 0x22534c7a4c0>]"
      ]
     },
     "execution_count": 7,
     "metadata": {},
     "output_type": "execute_result"
    },
    {
     "data": {
      "image/png": "[encoded data removed]",
      "text/plain": [
       "<Figure size 432x288 with 1 Axes>"
      ]
     },
     "metadata": {
      "needs_background": "light"
     },
     "output_type": "display_data"
    }
   ],
   "source": [
    "plt.plot(spread)"
   ]
  },
  {
   "cell_type": "markdown",
   "metadata": {},
   "source": [
    "CNN-LSTM Classifier\n",
    "==="
   ]
  },
  {
   "cell_type": "code",
   "execution_count": 8,
   "metadata": {},
   "outputs": [],
   "source": [
    "def prepare_x_y(of, lag=100, dimension=6):\n",
    "    ex = of[['aOF_1','bOF_1','aOF_2','bOF_2','aOF_3','bOF_3']].to_numpy()#\n",
    "    uai= of['h'].to_numpy() #.pct_change().fillna(0)['r']\n",
    "    shape = of.shape\n",
    "    dimension=6\n",
    "    lag = 100\n",
    "    x=np.empty((shape[0]-lag, lag, dimension))\n",
    "    y=np.empty((shape[0]-lag,1))\n",
    "    for i in range(shape[0]-lag):\n",
    "        x[i]=ex[i:i+lag]\n",
    "        y[i]=uai[i+lag-1]\n",
    "\n",
    "    X=x.reshape(-1,lag,6,1)\n",
    "\n",
    "    Y = np_utils.to_categorical(y.astype(int),2)\n",
    "\n",
    "    return X,Y"
   ]
  },
  {
   "cell_type": "code",
   "execution_count": 9,
   "metadata": {},
   "outputs": [
    {
     "name": "stdout",
     "output_type": "stream",
     "text": [
      "(90368, 100, 6, 1) (90368, 2)\n",
      "(30056, 100, 6, 1) (30056, 2)\n",
      "(30056, 100, 6, 1) (30056, 2)\n"
     ]
    }
   ],
   "source": [
    "V = int(len(of)*0.6)\n",
    "T = int(len(of)*0.8)\n",
    "\n",
    "n_train     = of_data.iloc[ :V].copy()\n",
    "n_vali      = of_data.iloc[V:T].copy()\n",
    "n_test      = of_data.iloc[T: ].copy()\n",
    "\n",
    "n_train = n_train.apply(lambda x : utils.taglia_e_cuci(x), axis=1, raw=True)\n",
    "n_vali  = n_vali .apply(lambda x : utils.taglia_e_cuci(x), axis=1, raw=True)\n",
    "n_test  = n_test .apply(lambda x : utils.taglia_e_cuci(x), axis=1, raw=True)\n",
    "\n",
    "x_vars = of_data.columns#[:-1]\n",
    "\n",
    "# Normalize Features\n",
    "# Dividing by the standard deviation estimated using the training set\n",
    "for x_var in x_vars:\n",
    "    sd = n_train[x_var].std()\n",
    "    n_train[x_var] = n_train[x_var] / sd\n",
    "    n_vali [x_var] = n_vali [x_var] / sd\n",
    "    n_test [x_var] = n_test [x_var] / sd\n",
    "\n",
    "n_train['h'] = hot[ :V]\n",
    "n_vali ['h'] = hot[V:T]\n",
    "n_test ['h'] = hot[T: ]\n",
    "#of=of_data\n",
    "\n",
    "trainX,trainY = prepare_x_y  (n_train)    \n",
    "valiX ,valiY  = prepare_x_y  (n_vali )    \n",
    "testX ,testY  = prepare_x_y  (n_test )   \n",
    "\n",
    "\n",
    "print(trainX.shape ,trainY.shape)\n",
    "print(valiX.shape  ,valiY .shape)\n",
    "print(testX.shape  ,testY .shape)"
   ]
  },
  {
   "cell_type": "code",
   "execution_count": 10,
   "metadata": {},
   "outputs": [
    {
     "name": "stdout",
     "output_type": "stream",
     "text": [
      "Model: \"model\"\n",
      "__________________________________________________________________________________________________\n",
      " Layer (type)                   Output Shape         Param #     Connected to                     \n",
      "==================================================================================================\n",
      " input_1 (InputLayer)           [(None, 100, 6, 1)]  0           []                               \n",
      "                                                                                                  \n",
      " conv2d (Conv2D)                (None, 100, 3, 32)   96          ['input_1[0][0]']                \n",
      "                                                                                                  \n",
      " leaky_re_lu (LeakyReLU)        (None, 100, 3, 32)   0           ['conv2d[0][0]']                 \n",
      "                                                                                                  \n",
      " conv2d_1 (Conv2D)              (None, 100, 3, 32)   4128        ['leaky_re_lu[0][0]']            \n",
      "                                                                                                  \n",
      " leaky_re_lu_1 (LeakyReLU)      (None, 100, 3, 32)   0           ['conv2d_1[0][0]']               \n",
      "                                                                                                  \n",
      " conv2d_2 (Conv2D)              (None, 100, 3, 32)   4128        ['leaky_re_lu_1[0][0]']          \n",
      "                                                                                                  \n",
      " leaky_re_lu_2 (LeakyReLU)      (None, 100, 3, 32)   0           ['conv2d_2[0][0]']               \n",
      "                                                                                                  \n",
      " conv2d_3 (Conv2D)              (None, 100, 1, 16)   5136        ['leaky_re_lu_2[0][0]']          \n",
      "                                                                                                  \n",
      " leaky_re_lu_3 (LeakyReLU)      (None, 100, 1, 16)   0           ['conv2d_3[0][0]']               \n",
      "                                                                                                  \n",
      " conv2d_4 (Conv2D)              (None, 100, 1, 64)   1088        ['leaky_re_lu_3[0][0]']          \n",
      "                                                                                                  \n",
      " conv2d_6 (Conv2D)              (None, 100, 1, 64)   1088        ['leaky_re_lu_3[0][0]']          \n",
      "                                                                                                  \n",
      " leaky_re_lu_4 (LeakyReLU)      (None, 100, 1, 64)   0           ['conv2d_4[0][0]']               \n",
      "                                                                                                  \n",
      " leaky_re_lu_6 (LeakyReLU)      (None, 100, 1, 64)   0           ['conv2d_6[0][0]']               \n",
      "                                                                                                  \n",
      " max_pooling2d (MaxPooling2D)   (None, 100, 1, 16)   0           ['leaky_re_lu_3[0][0]']          \n",
      "                                                                                                  \n",
      " conv2d_5 (Conv2D)              (None, 100, 1, 64)   12352       ['leaky_re_lu_4[0][0]']          \n",
      "                                                                                                  \n",
      " conv2d_7 (Conv2D)              (None, 100, 1, 64)   20544       ['leaky_re_lu_6[0][0]']          \n",
      "                                                                                                  \n",
      " conv2d_8 (Conv2D)              (None, 100, 1, 64)   1088        ['max_pooling2d[0][0]']          \n",
      "                                                                                                  \n",
      " leaky_re_lu_5 (LeakyReLU)      (None, 100, 1, 64)   0           ['conv2d_5[0][0]']               \n",
      "                                                                                                  \n",
      " leaky_re_lu_7 (LeakyReLU)      (None, 100, 1, 64)   0           ['conv2d_7[0][0]']               \n",
      "                                                                                                  \n",
      " leaky_re_lu_8 (LeakyReLU)      (None, 100, 1, 64)   0           ['conv2d_8[0][0]']               \n",
      "                                                                                                  \n",
      " concatenate (Concatenate)      (None, 100, 1, 192)  0           ['leaky_re_lu_5[0][0]',          \n",
      "                                                                  'leaky_re_lu_7[0][0]',          \n",
      "                                                                  'leaky_re_lu_8[0][0]']          \n",
      "                                                                                                  \n",
      " reshape (Reshape)              (None, 100, 192)     0           ['concatenate[0][0]']            \n",
      "                                                                                                  \n",
      " dropout (Dropout)              (None, 100, 192)     0           ['reshape[0][0]']                \n",
      "                                                                                                  \n",
      " lstm (LSTM)                    (None, 64)           65792       ['dropout[0][0]']                \n",
      "                                                                                                  \n",
      " dense (Dense)                  (None, 2)            130         ['lstm[0][0]']                   \n",
      "                                                                                                  \n",
      "==================================================================================================\n",
      "Total params: 115,570\n",
      "Trainable params: 115,570\n",
      "Non-trainable params: 0\n",
      "__________________________________________________________________________________________________\n"
     ]
    }
   ],
   "source": [
    "\n",
    "def create_nn(T, NF,number_of_lstm):\n",
    "\n",
    "    input_lmd = tf.keras.Input(shape=(T, NF, 1))\n",
    "\n",
    "    conv_first1 = Conv2D(32, kernel_size=(1, 2), strides=(1, 2))(input_lmd)\n",
    "    conv_first1 = keras.layers.LeakyReLU(alpha=0.01)(conv_first1)\n",
    "    conv_first1 = Conv2D(32, (4, 1), padding='same')(conv_first1)\n",
    "    conv_first1 = keras.layers.LeakyReLU(alpha=0.01)(conv_first1)\n",
    "    conv_first1 = Conv2D(32, (4, 1), padding='same')(conv_first1)\n",
    "    conv_first1 = keras.layers.LeakyReLU(alpha=0.01)(conv_first1)\n",
    "    #\n",
    "    layer_x = layers.Conv2D(filters=16, kernel_size=(10,1),strides=(1,10), padding='same')(conv_first1)\n",
    "    layer_x = layers.LeakyReLU(alpha=0.01)(layer_x)\n",
    "    # inception\n",
    "    convsecond_1 = Conv2D(64, (1, 1), padding='same', strides=(1,1))(layer_x)\n",
    "    convsecond_1 = keras.layers.LeakyReLU(alpha=0.01)(convsecond_1)\n",
    "    convsecond_1 = Conv2D(64, (3, 1), padding='same', strides=(1,1))(convsecond_1)\n",
    "    convsecond_1 = keras.layers.LeakyReLU(alpha=0.01)(convsecond_1)\n",
    "\n",
    "    convsecond_2 = Conv2D(64, (1, 1), padding='same', strides=(1,1))(layer_x)\n",
    "    convsecond_2 = keras.layers.LeakyReLU(alpha=0.01)(convsecond_2)\n",
    "    convsecond_2 = Conv2D(64, (5, 1), padding='same', strides=(1,1))(convsecond_2)\n",
    "    convsecond_2 = keras.layers.LeakyReLU(alpha=0.01)(convsecond_2)\n",
    "\n",
    "    convsecond_3 = MaxPooling2D((3, 1), strides=(1, 1), padding='same')(layer_x)\n",
    "    convsecond_3 = Conv2D(64, (1, 1), padding='same', strides=(1,1))(convsecond_3)\n",
    "    convsecond_3 = keras.layers.LeakyReLU(alpha=0.01)(convsecond_3)\n",
    "    \n",
    "    convsecond_output = keras.layers.concatenate([convsecond_1, convsecond_2, convsecond_3], axis=3)\n",
    "    conv_reshape = Reshape((int(convsecond_output.shape[1]), int(convsecond_output.shape[3])))(convsecond_output)\n",
    "    conv_reshape = keras.layers.Dropout(0.7, noise_shape=(None, 1, int(conv_reshape.shape[2])))(conv_reshape, training=True)\n",
    "\n",
    "    # build the last LSTM layer\n",
    "    conv_lstm = LSTM(number_of_lstm)(conv_reshape)\n",
    "\n",
    "    # build the output layer\n",
    "    out = Dense(2, activation='softmax')(conv_lstm)\n",
    "    model = Model(inputs=input_lmd, outputs=out)\n",
    "    adam = keras.optimizers.Adam(learning_rate=0.0001)\n",
    "    model.compile(optimizer=adam, loss='categorical_crossentropy', metrics=['accuracy'])#\n",
    "\n",
    "    return model\n",
    "checkpoint_filepath = './model_tensorflow2/weights_class'\n",
    "deeplob = create_nn(100, 6, 64)\n",
    "deeplob.summary()"
   ]
  },
  {
   "cell_type": "code",
   "execution_count": 11,
   "metadata": {},
   "outputs": [],
   "source": [
    "callback=tf.keras.callbacks.EarlyStopping(\n",
    "    monitor='val_loss',\n",
    "    min_delta=0,\n",
    "    patience=5,\n",
    "    verbose=1,\n",
    "    mode='auto',\n",
    "    baseline=None,\n",
    "    restore_best_weights=False\n",
    ")\n",
    "saving = tf.keras.callbacks.ModelCheckpoint(\n",
    "    filepath=checkpoint_filepath,\n",
    "    save_weights_only=True,\n",
    "    monitor='val_loss',\n",
    "    mode='auto',\n",
    "    save_best_only=True)"
   ]
  },
  {
   "cell_type": "code",
   "execution_count": 12,
   "metadata": {},
   "outputs": [
    {
     "name": "stdout",
     "output_type": "stream",
     "text": [
      "Epoch 1/50\n",
      "353/353 [==============================] - 161s 451ms/step - loss: 0.6609 - accuracy: 0.6119 - val_loss: 0.6514 - val_accuracy: 0.6523\n",
      "Epoch 2/50\n",
      "353/353 [==============================] - 142s 401ms/step - loss: 0.6341 - accuracy: 0.6383 - val_loss: 0.6552 - val_accuracy: 0.6525\n",
      "Epoch 3/50\n",
      "353/353 [==============================] - 142s 402ms/step - loss: 0.6254 - accuracy: 0.6476 - val_loss: 0.6497 - val_accuracy: 0.6568\n",
      "Epoch 4/50\n",
      "353/353 [==============================] - 144s 408ms/step - loss: 0.6140 - accuracy: 0.6586 - val_loss: 0.6473 - val_accuracy: 0.6562\n",
      "Epoch 5/50\n",
      "353/353 [==============================] - 140s 397ms/step - loss: 0.5987 - accuracy: 0.6751 - val_loss: 0.6484 - val_accuracy: 0.6571\n",
      "Epoch 6/50\n",
      "353/353 [==============================] - 141s 398ms/step - loss: 0.5860 - accuracy: 0.6865 - val_loss: 0.6565 - val_accuracy: 0.6601\n",
      "Epoch 7/50\n",
      "353/353 [==============================] - 139s 394ms/step - loss: 0.5753 - accuracy: 0.6960 - val_loss: 0.6382 - val_accuracy: 0.6623\n",
      "Epoch 8/50\n",
      "353/353 [==============================] - 140s 396ms/step - loss: 0.5669 - accuracy: 0.7034 - val_loss: 0.6368 - val_accuracy: 0.6637\n",
      "Epoch 9/50\n",
      "353/353 [==============================] - 141s 399ms/step - loss: 0.5599 - accuracy: 0.7086 - val_loss: 0.6717 - val_accuracy: 0.6648\n",
      "Epoch 10/50\n",
      "353/353 [==============================] - 141s 400ms/step - loss: 0.5539 - accuracy: 0.7152 - val_loss: 0.6485 - val_accuracy: 0.6612\n",
      "Epoch 11/50\n",
      "353/353 [==============================] - 149s 421ms/step - loss: 0.5478 - accuracy: 0.7198 - val_loss: 0.6652 - val_accuracy: 0.6652\n",
      "Epoch 12/50\n",
      "353/353 [==============================] - 142s 403ms/step - loss: 0.5402 - accuracy: 0.7256 - val_loss: 0.6855 - val_accuracy: 0.6648\n",
      "Epoch 13/50\n",
      "353/353 [==============================] - 140s 398ms/step - loss: 0.5377 - accuracy: 0.7269 - val_loss: 0.6465 - val_accuracy: 0.6487\n",
      "Epoch 13: early stopping\n"
     ]
    }
   ],
   "source": [
    "#deeplob.load_weights('modelMSFTClassification.h5')\n",
    "simple=deeplob.fit(trainX, trainY, validation_data=(valiX, valiY),  epochs=50, batch_size=256,callbacks=[callback,saving])"
   ]
  },
  {
   "cell_type": "code",
   "execution_count": 30,
   "metadata": {},
   "outputs": [],
   "source": [
    "#deeplob.save('modelBYNDClassification.h5')\n"
   ]
  },
  {
   "cell_type": "code",
   "execution_count": 13,
   "metadata": {},
   "outputs": [
    {
     "name": "stdout",
     "output_type": "stream",
     "text": [
      "940/940 [==============================] - 24s 25ms/step\n"
     ]
    },
    {
     "data": {
      "text/plain": [
       "array([[0.563621  , 0.43637896],\n",
       "       [0.5356764 , 0.4643236 ],\n",
       "       [0.5765701 , 0.4234299 ],\n",
       "       ...,\n",
       "       [0.92397225, 0.07602777],\n",
       "       [0.94726396, 0.05273598],\n",
       "       [0.8799893 , 0.1200107 ]], dtype=float32)"
      ]
     },
     "execution_count": 13,
     "metadata": {},
     "output_type": "execute_result"
    }
   ],
   "source": [
    "P = deeplob.predict(testX)\n",
    "pj= np.round(P)\n",
    "P"
   ]
  },
  {
   "cell_type": "code",
   "execution_count": 14,
   "metadata": {},
   "outputs": [
    {
     "name": "stdout",
     "output_type": "stream",
     "text": [
      "accuracy_score: 0.7031873835507053\n",
      "              precision    recall  f1-score   support\n",
      "\n",
      "           0     0.7618    0.8293    0.7941     20749\n",
      "           1     0.5258    0.4219    0.4682      9307\n",
      "\n",
      "    accuracy                         0.7032     30056\n",
      "   macro avg     0.6438    0.6256    0.6312     30056\n",
      "weighted avg     0.6887    0.7032    0.6932     30056\n",
      "\n"
     ]
    }
   ],
   "source": [
    "from sklearn.metrics import classification_report, accuracy_score\n",
    "print('accuracy_score:', accuracy_score(np.argmax(testY, axis=1), np.argmax(pj, axis=1)))\n",
    "print(classification_report(np.argmax(testY, axis=1), np.argmax(pj, axis=1), digits=4))"
   ]
  },
  {
   "cell_type": "code",
   "execution_count": 32,
   "metadata": {},
   "outputs": [
    {
     "data": {
      "image/png": "[encoded data removed]",
      "text/plain": [
       "<Figure size 432x288 with 2 Axes>"
      ]
     },
     "metadata": {
      "needs_background": "light"
     },
     "output_type": "display_data"
    }
   ],
   "source": [
    "from sklearn.metrics import confusion_matrix, ConfusionMatrixDisplay\n",
    "cm = confusion_matrix(testY.argmax(axis=1), pj.argmax(axis=1),normalize='all')#true', 'pred', 'all'\n",
    "disp = ConfusionMatrixDisplay(confusion_matrix=cm,display_labels=['higher','lower'])\n",
    "disp.plot()\n",
    "disp.ax_.set_title(\"Confusion Matrix CNN/LSTM\");"
   ]
  },
  {
   "cell_type": "markdown",
   "metadata": {},
   "source": [
    "LSTM classifier\n",
    "==="
   ]
  },
  {
   "cell_type": "code",
   "execution_count": 16,
   "metadata": {},
   "outputs": [],
   "source": [
    "def prepare_x_y_lstm(of, lag=100, dimension=6):\n",
    "    ex = of[['aOF_1','bOF_1','aOF_2','bOF_2','aOF_3','bOF_3']].to_numpy()#\n",
    "    uai= of['h'].to_numpy() #.pct_change().fillna(0)['r']\n",
    "    shape = of.shape\n",
    "    dimension=6\n",
    "    lag = 100\n",
    "    x=np.empty((shape[0]-lag, lag, dimension))\n",
    "    y=np.empty((shape[0]-lag,1))\n",
    "    for i in range(shape[0]-lag):\n",
    "        x[i]=ex[i:i+lag]\n",
    "        y[i]=uai[i+lag-1]\n",
    "\n",
    "    X=x.reshape(-1,lag,6)\n",
    "\n",
    "    Y = np_utils.to_categorical(y.astype(int),2)\n",
    "\n",
    "    return X,Y"
   ]
  },
  {
   "cell_type": "code",
   "execution_count": 17,
   "metadata": {},
   "outputs": [
    {
     "name": "stdout",
     "output_type": "stream",
     "text": [
      "(90368, 100, 6) (90368, 2)\n",
      "(30056, 100, 6) (30056, 2)\n",
      "(30056, 100, 6) (30056, 2)\n"
     ]
    }
   ],
   "source": [
    "V = int(len(of)*0.6)\n",
    "T = int(len(of)*0.8)\n",
    "\n",
    "n_train     = of_data.iloc[ :V].copy()\n",
    "n_vali      = of_data.iloc[V:T].copy()\n",
    "n_test      = of_data.iloc[T: ].copy()\n",
    "\n",
    "n_train = n_train.apply(lambda x : utils.taglia_e_cuci(x), axis=1, raw=True)\n",
    "n_vali  = n_vali .apply(lambda x : utils.taglia_e_cuci(x), axis=1, raw=True)\n",
    "n_test  = n_test .apply(lambda x : utils.taglia_e_cuci(x), axis=1, raw=True)\n",
    "\n",
    "x_vars = of_data.columns#[:-1]\n",
    "\n",
    "# Normalize Features\n",
    "# Dividing by the standard deviation estimated using the training set\n",
    "for x_var in x_vars:\n",
    "    sd = n_train[x_var].std()\n",
    "    n_train[x_var] = n_train[x_var] / sd\n",
    "    n_vali [x_var] = n_vali [x_var] / sd\n",
    "    n_test [x_var] = n_test [x_var] / sd\n",
    "\n",
    "n_train['h'] = hot[ :V]\n",
    "n_vali ['h'] = hot[V:T]\n",
    "n_test ['h'] = hot[T: ]\n",
    "#of=of_data\n",
    "\n",
    "trainX_lstm,trainY_lstm = prepare_x_y_lstm  (n_train)    \n",
    "valiX_lstm,valiY_lstm = prepare_x_y_lstm  (n_vali )    \n",
    "testX_lstm,testY_lstm = prepare_x_y_lstm  (n_test )   \n",
    "\n",
    "\n",
    "print(trainX_lstm.shape ,trainY_lstm .shape)\n",
    "print(valiX_lstm.shape  ,valiY_lstm .shape)\n",
    "print(testX_lstm.shape  ,testY_lstm .shape)"
   ]
  },
  {
   "cell_type": "code",
   "execution_count": 18,
   "metadata": {},
   "outputs": [
    {
     "name": "stdout",
     "output_type": "stream",
     "text": [
      "Model: \"model_1\"\n",
      "_________________________________________________________________\n",
      " Layer (type)                Output Shape              Param #   \n",
      "=================================================================\n",
      " input_2 (InputLayer)        [(None, 100, 6)]          0         \n",
      "                                                                 \n",
      " lstm_1 (LSTM)               (None, 100, 64)           18176     \n",
      "                                                                 \n",
      " leaky_re_lu_9 (LeakyReLU)   (None, 100, 64)           0         \n",
      "                                                                 \n",
      " lstm_2 (LSTM)               (None, 100, 64)           33024     \n",
      "                                                                 \n",
      " leaky_re_lu_10 (LeakyReLU)  (None, 100, 64)           0         \n",
      "                                                                 \n",
      " lstm_3 (LSTM)               (None, 100, 64)           33024     \n",
      "                                                                 \n",
      " leaky_re_lu_11 (LeakyReLU)  (None, 100, 64)           0         \n",
      "                                                                 \n",
      " dropout_1 (Dropout)         (None, 100, 64)           0         \n",
      "                                                                 \n",
      " global_max_pooling1d (Globa  (None, 64)               0         \n",
      " lMaxPooling1D)                                                  \n",
      "                                                                 \n",
      " dense_1 (Dense)             (None, 2)                 130       \n",
      "                                                                 \n",
      "=================================================================\n",
      "Total params: 84,354\n",
      "Trainable params: 84,354\n",
      "Non-trainable params: 0\n",
      "_________________________________________________________________\n"
     ]
    }
   ],
   "source": [
    "#architettura della rete\n",
    "num_units = 64\n",
    "activation_function = 'leaky_relu'\n",
    "adam = keras.optimizers.Adam(learning_rate=0.001)\n",
    "loss_function = 'categorical_crossentropy'\n",
    "batch_size = 250\n",
    "num_epochs = 50\n",
    "i = Input(shape=(100, 6))\n",
    "x = LSTM(64, return_sequences=True)(i)\n",
    "x = keras.layers.LeakyReLU(alpha=0.01)(x)\n",
    "x = LSTM(64, return_sequences=True)(x)\n",
    "x = keras.layers.LeakyReLU(alpha=0.01)(x)\n",
    "x = LSTM(64, return_sequences=True)(x)\n",
    "x = keras.layers.LeakyReLU(alpha=0.01)(x)\n",
    "x = keras.layers.Dropout(0.7)(x, training=True)\n",
    "#x = LSTM(64, return_sequences=True)(x)\n",
    "x = GlobalMaxPooling1D()(x)\n",
    "x = Dense(2, activation='softmax')(x)\n",
    "\n",
    "\n",
    "model = Model(i, x)\n",
    "\n",
    "\n",
    "callback=tf.keras.callbacks.EarlyStopping(\n",
    "    monitor='val_loss',\n",
    "    min_delta=0,\n",
    "    patience=5,\n",
    "    verbose=1,\n",
    "    mode='auto',\n",
    "    baseline=None,\n",
    "    restore_best_weights=False\n",
    ")\n",
    "\n",
    "model.compile(optimizer = adam, loss = loss_function, metrics=['accuracy'])\n",
    "model.summary()\n"
   ]
  },
  {
   "cell_type": "code",
   "execution_count": 19,
   "metadata": {},
   "outputs": [
    {
     "name": "stdout",
     "output_type": "stream",
     "text": [
      "Epoch 1/20\n",
      "353/353 [==============================] - 218s 605ms/step - loss: 0.6367 - accuracy: 0.6340 - val_loss: 0.6677 - val_accuracy: 0.6364\n",
      "Epoch 2/20\n",
      "353/353 [==============================] - 256s 725ms/step - loss: 0.5881 - accuracy: 0.6823 - val_loss: 0.6742 - val_accuracy: 0.6287\n",
      "Epoch 3/20\n",
      "353/353 [==============================] - 253s 717ms/step - loss: 0.5545 - accuracy: 0.7116 - val_loss: 0.7084 - val_accuracy: 0.6129\n",
      "Epoch 4/20\n",
      "353/353 [==============================] - 250s 708ms/step - loss: 0.5279 - accuracy: 0.7325 - val_loss: 0.7228 - val_accuracy: 0.5857\n",
      "Epoch 5/20\n",
      "353/353 [==============================] - 249s 705ms/step - loss: 0.5078 - accuracy: 0.7483 - val_loss: 0.7677 - val_accuracy: 0.5787\n",
      "Epoch 6/20\n",
      "353/353 [==============================] - 301s 853ms/step - loss: 0.4944 - accuracy: 0.7551 - val_loss: 0.7343 - val_accuracy: 0.6220\n",
      "Epoch 7/20\n",
      "353/353 [==============================] - 276s 781ms/step - loss: 0.4819 - accuracy: 0.7644 - val_loss: 0.7612 - val_accuracy: 0.5802\n",
      "Epoch 8/20\n",
      "353/353 [==============================] - 265s 752ms/step - loss: 0.4724 - accuracy: 0.7716 - val_loss: 0.7812 - val_accuracy: 0.6131\n",
      "Epoch 9/20\n",
      "353/353 [==============================] - 527s 1s/step - loss: 0.4631 - accuracy: 0.7758 - val_loss: 0.7701 - val_accuracy: 0.6118\n",
      "Epoch 10/20\n",
      "353/353 [==============================] - 548s 2s/step - loss: 0.4555 - accuracy: 0.7816 - val_loss: 0.7767 - val_accuracy: 0.5903\n",
      "Epoch 11/20\n",
      "353/353 [==============================] - 527s 1s/step - loss: 0.4478 - accuracy: 0.7852 - val_loss: 0.7765 - val_accuracy: 0.6063\n",
      "Epoch 12/20\n",
      "353/353 [==============================] - 531s 2s/step - loss: 0.4435 - accuracy: 0.7884 - val_loss: 0.8039 - val_accuracy: 0.6046\n",
      "Epoch 13/20\n",
      "353/353 [==============================] - 535s 2s/step - loss: 0.4363 - accuracy: 0.7927 - val_loss: 0.7931 - val_accuracy: 0.5768\n",
      "Epoch 14/20\n",
      "353/353 [==============================] - 327s 924ms/step - loss: 0.4296 - accuracy: 0.7983 - val_loss: 0.8189 - val_accuracy: 0.5808\n",
      "Epoch 15/20\n",
      "353/353 [==============================] - 305s 864ms/step - loss: 0.4262 - accuracy: 0.7980 - val_loss: 0.8007 - val_accuracy: 0.5797\n",
      "Epoch 16/20\n",
      "353/353 [==============================] - 326s 924ms/step - loss: 0.4218 - accuracy: 0.8003 - val_loss: 0.8088 - val_accuracy: 0.5830\n",
      "Epoch 17/20\n",
      "353/353 [==============================] - 288s 817ms/step - loss: 0.4170 - accuracy: 0.8040 - val_loss: 0.8072 - val_accuracy: 0.5695\n",
      "Epoch 18/20\n",
      "353/353 [==============================] - 288s 816ms/step - loss: 0.4134 - accuracy: 0.8062 - val_loss: 0.8314 - val_accuracy: 0.5821\n",
      "Epoch 19/20\n",
      "353/353 [==============================] - 289s 819ms/step - loss: 0.4103 - accuracy: 0.8069 - val_loss: 0.8165 - val_accuracy: 0.5890\n",
      "Epoch 20/20\n",
      "353/353 [==============================] - 290s 822ms/step - loss: 0.4062 - accuracy: 0.8098 - val_loss: 0.8231 - val_accuracy: 0.5918\n"
     ]
    }
   ],
   "source": [
    "#model.load_weights('classifyLSTM.h5')\n",
    "lstmMSFT=model.fit(trainX_lstm, trainY_lstm, validation_data=(valiX_lstm, valiY_lstm), epochs=20, batch_size=256)"
   ]
  },
  {
   "cell_type": "code",
   "execution_count": 31,
   "metadata": {},
   "outputs": [],
   "source": [
    "#model.save('lstmBYNDClassification.h5')"
   ]
  },
  {
   "cell_type": "code",
   "execution_count": 21,
   "metadata": {},
   "outputs": [
    {
     "name": "stdout",
     "output_type": "stream",
     "text": [
      "940/940 [==============================] - 47s 49ms/step\n"
     ]
    },
    {
     "data": {
      "text/plain": [
       "array([[0.19377826, 0.8062217 ],\n",
       "       [0.340583  , 0.65941703],\n",
       "       [0.08326833, 0.91673166],\n",
       "       ...,\n",
       "       [0.9901518 , 0.00984814],\n",
       "       [0.89397186, 0.1060282 ],\n",
       "       [0.9621297 , 0.03787023]], dtype=float32)"
      ]
     },
     "execution_count": 21,
     "metadata": {},
     "output_type": "execute_result"
    }
   ],
   "source": [
    "P_lstm = model.predict(testX_lstm)\n",
    "p_lstmj= np.round(P_lstm)\n",
    "P_lstm"
   ]
  },
  {
   "cell_type": "code",
   "execution_count": 22,
   "metadata": {},
   "outputs": [
    {
     "name": "stdout",
     "output_type": "stream",
     "text": [
      "accuracy_score: 0.6518166089965398\n",
      "              precision    recall  f1-score   support\n",
      "\n",
      "           0     0.7340    0.7772    0.7550     20749\n",
      "           1     0.4284    0.3722    0.3983      9307\n",
      "\n",
      "    accuracy                         0.6518     30056\n",
      "   macro avg     0.5812    0.5747    0.5767     30056\n",
      "weighted avg     0.6394    0.6518    0.6446     30056\n",
      "\n"
     ]
    }
   ],
   "source": [
    "from sklearn.metrics import classification_report, accuracy_score\n",
    "print('accuracy_score:', accuracy_score(np.argmax(testY_lstm, axis=1), np.argmax(p_lstmj, axis=1)))\n",
    "print(classification_report(np.argmax(testY_lstm, axis=1), np.argmax(p_lstmj, axis=1), digits=4))"
   ]
  },
  {
   "cell_type": "code",
   "execution_count": 33,
   "metadata": {},
   "outputs": [
    {
     "data": {
      "image/png": "[encoded data removed]",
      "text/plain": [
       "<Figure size 432x288 with 2 Axes>"
      ]
     },
     "metadata": {
      "needs_background": "light"
     },
     "output_type": "display_data"
    }
   ],
   "source": [
    "from sklearn.metrics import confusion_matrix, ConfusionMatrixDisplay\n",
    "cm = confusion_matrix(testY_lstm.argmax(axis=1), p_lstmj.argmax(axis=1),normalize='all')#true', 'pred', 'all'\n",
    "disp = ConfusionMatrixDisplay(confusion_matrix=cm,display_labels=['higher','lower'])\n",
    "disp.plot()\n",
    "disp.ax_.set_title(\"Confusion Matrix LSTM\");"
   ]
  },
  {
   "cell_type": "markdown",
   "metadata": {},
   "source": [
    "Naive Gaussian Classifier\n",
    "==="
   ]
  },
  {
   "cell_type": "code",
   "execution_count": 24,
   "metadata": {},
   "outputs": [
    {
     "name": "stdout",
     "output_type": "stream",
     "text": [
      "[1. 1. 1. ... 1. 1. 1.] [1. 1. 1. ... 1. 1. 1.]\n"
     ]
    }
   ],
   "source": [
    "rng = np.random.RandomState(1)\n",
    "X = n_train[['aOF_1'\t,'bOF_1'\t,'aOF_2'\t,'bOF_2'\t,'aOF_3',\t'bOF_3']].to_numpy()\n",
    "y = n_train['h'].to_numpy()\n",
    "Xte = n_vali[['aOF_1'\t,'bOF_1'\t,'aOF_2'\t,'bOF_2'\t,'aOF_3',\t'bOF_3']].to_numpy()\n",
    "Yte = n_vali['h'].to_numpy()#['h'].to_numpy()\n",
    "from sklearn.naive_bayes import CategoricalNB\n",
    "from sklearn.naive_bayes import GaussianNB\n",
    "from sklearn.naive_bayes import MultinomialNB\n",
    "clf = GaussianNB()\n",
    "clf.fit(X, y)\n",
    "predNB = clf.predict(Xte)\n",
    "encPr=np_utils.to_categorical(predNB)\n",
    "#encTe=np_utils.to_categorical(Yte)\n",
    "print(predNB,Yte)"
   ]
  },
  {
   "cell_type": "code",
   "execution_count": 25,
   "metadata": {},
   "outputs": [],
   "source": [
    "encTe=np_utils.to_categorical(n_vali['h'].to_numpy())"
   ]
  },
  {
   "cell_type": "code",
   "execution_count": 26,
   "metadata": {},
   "outputs": [
    {
     "name": "stdout",
     "output_type": "stream",
     "text": [
      "accuracy_score: 0.37249635230136624\n",
      "              precision    recall  f1-score   support\n",
      "\n",
      "           0     0.6247    0.0408    0.0765     19236\n",
      "           1     0.3615    0.9569    0.5248     10920\n",
      "\n",
      "    accuracy                         0.3725     30156\n",
      "   macro avg     0.4931    0.4988    0.3007     30156\n",
      "weighted avg     0.5294    0.3725    0.2389     30156\n",
      "\n"
     ]
    }
   ],
   "source": [
    "print('accuracy_score:', accuracy_score(np.argmax(encTe, axis=1), np.argmax(encPr, axis=1)))\n",
    "print(classification_report(np.argmax(encTe, axis=1), np.argmax(encPr, axis=1), digits=4))"
   ]
  },
  {
   "cell_type": "code",
   "execution_count": 34,
   "metadata": {},
   "outputs": [
    {
     "data": {
      "image/png": "[encoded data removed]",
      "text/plain": [
       "<Figure size 432x288 with 2 Axes>"
      ]
     },
     "metadata": {
      "needs_background": "light"
     },
     "output_type": "display_data"
    }
   ],
   "source": [
    "from sklearn.metrics import confusion_matrix, ConfusionMatrixDisplay\n",
    "cm = confusion_matrix(encTe.argmax(axis=1), encPr.argmax(axis=1),normalize='all')\n",
    "disp = ConfusionMatrixDisplay(confusion_matrix=cm,display_labels=['higher','lower'])\n",
    "disp.plot()\n",
    "disp.ax_.set_title(\"Confusion Matrix Naive\");"
   ]
  },
  {
   "cell_type": "code",
   "execution_count": 35,
   "metadata": {},
   "outputs": [
    {
     "data": {
      "image/png": "[encoded data removed]",
      "text/plain": [
       "<Figure size 1080x720 with 6 Axes>"
      ]
     },
     "metadata": {
      "needs_background": "light"
     },
     "output_type": "display_data"
    }
   ],
   "source": [
    "fig, ax = plt.subplots(1,3, figsize=(15,10))\n",
    "ax[0].set_title(\"CNN/LSTM\")\n",
    "ax[1].set_title(\"LSTM\")\n",
    "ax[2].set_title(\"Naive\")\n",
    "\n",
    "cm = confusion_matrix(testY.argmax(axis=1), pj.argmax(axis=1),normalize='all')#true', 'pred', 'all'\n",
    "disp = ConfusionMatrixDisplay(confusion_matrix=cm,display_labels=['$>0.05$ (higher)','$<0.05$ (lower)'])\n",
    "disp.plot(ax=ax[0])\n",
    "disp.ax_.set_title(\"Confusion Matrix CNN/LSTM\")\n",
    "cm_lstm = confusion_matrix(testY_lstm.argmax(axis=1), p_lstmj.argmax(axis=1),normalize='all')#true', 'pred', 'all'\n",
    "disp_lstm = ConfusionMatrixDisplay(confusion_matrix=cm_lstm,display_labels=['$>0.05$ (higher)','$<0.05$ (lower)'])\n",
    "disp_lstm.plot(ax=ax[1])\n",
    "disp_lstm.ax_.set_title(\"Confusion Matrix LSTM\")\n",
    "cmNaiv = confusion_matrix(encTe.argmax(axis=1), encPr.argmax(axis=1),normalize='all')\n",
    "dispNaiv = ConfusionMatrixDisplay(confusion_matrix=cmNaiv,display_labels=['$>0.05$ (higher)','$<0.05$ (lower)'])\n",
    "dispNaiv.plot(ax=ax[2])\n",
    "dispNaiv.ax_.set_title(\"Confusion Matrix Naive\")\n",
    "plt.tight_layout()  ;"
   ]
  },
  {
   "cell_type": "code",
   "execution_count": 36,
   "metadata": {},
   "outputs": [
    {
     "data": {
      "image/png": "[encoded data removed]",
      "text/plain": [
       "<Figure size 1080x720 with 6 Axes>"
      ]
     },
     "metadata": {
      "needs_background": "light"
     },
     "output_type": "display_data"
    }
   ],
   "source": [
    "fig, ax = plt.subplots(1,3, figsize=(15,10))\n",
    "ax[0].set_title(\"CNN/LSTM\")\n",
    "ax[1].set_title(\"LSTM\")\n",
    "ax[2].set_title(\"Naive\")\n",
    "\n",
    "cm = confusion_matrix(testY.argmax(axis=1), pj.argmax(axis=1),normalize='pred')#true', 'pred', 'all'\n",
    "disp = ConfusionMatrixDisplay(confusion_matrix=cm,display_labels=['$>0.05$ (higher)','$<0.05$ (lower)'])\n",
    "disp.plot(ax=ax[0])\n",
    "disp.ax_.set_title(\"Confusion Matrix CNN/LSTM\")\n",
    "cm_lstm = confusion_matrix(testY_lstm.argmax(axis=1), p_lstmj.argmax(axis=1),normalize='pred')#true', 'pred', 'all'\n",
    "disp_lstm = ConfusionMatrixDisplay(confusion_matrix=cm_lstm,display_labels=['$>0.05$ (higher)','$<0.05$ (lower)'])\n",
    "disp_lstm.plot(ax=ax[1])\n",
    "disp_lstm.ax_.set_title(\"Confusion Matrix LSTM\")\n",
    "cmNaiv = confusion_matrix(encTe.argmax(axis=1), encPr.argmax(axis=1),normalize='pred')\n",
    "dispNaiv = ConfusionMatrixDisplay(confusion_matrix=cmNaiv,display_labels=['$>0.05$ (higher)','$<0.05$ (lower)'])\n",
    "dispNaiv.plot(ax=ax[2])\n",
    "dispNaiv.ax_.set_title(\"Confusion Matrix Naive\")\n",
    "plt.tight_layout()  ;"
   ]
  },
  {
   "cell_type": "markdown",
   "metadata": {},
   "source": [
    "1) Precision is a measure of how many of the positive predictions made are correct (true positives).\n",
    "2) Accuracy describes the number of correct predictions over all predictions (TP+TN)/sizePop.\n",
    "3) Recall is a measure of how many of the positive cases the classifier correctly predicted, over all the positive cases in the data.\n",
    "4) F1 provides a single metric that weights the two ratios (precision and recall) in a balanced way.\n",
    "    - Very small precision or recall will result in lower overall score. Thus it helps balance the two metrics.\n",
    "    - If you choose your positive class as the one with fewer samples, F1-score can help balance the metric across positive/negative samples."
   ]
  }
 ],
 "metadata": {
  "kernelspec": {
   "display_name": "Python 3.9.12 ('base')",
   "language": "python",
   "name": "python3"
  },
  "language_info": {
   "codemirror_mode": {
    "name": "ipython",
    "version": 3
   },
   "file_extension": ".py",
   "mimetype": "text/x-python",
   "name": "python",
   "nbconvert_exporter": "python",
   "pygments_lexer": "ipython3",
   "version": "3.9.12"
  },
  "orig_nbformat": 4,
  "vscode": {
   "interpreter": {
    "hash": "597e2b791014bf3f975e304e1e72922cb6b9245e0453d34e2c818a7120fc527f"
   }
  }
 },
 "nbformat": 4,
 "nbformat_minor": 2
}
