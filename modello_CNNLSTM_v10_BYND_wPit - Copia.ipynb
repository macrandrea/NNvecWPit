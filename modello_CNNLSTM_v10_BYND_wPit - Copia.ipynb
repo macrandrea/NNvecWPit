{
 "cells": [
  {
   "cell_type": "code",
   "execution_count": 1,
   "metadata": {},
   "outputs": [],
   "source": [
    "import os\n",
    "import utils\n",
    "import pandas as pd\n",
    "import numpy  as np\n",
    "import matplotlib.pyplot as plt\n",
    "from pandas.tseries.offsets import *\n",
    "import statsmodels.formula.api as smf\n",
    "from glob import glob\n",
    "from datetime import datetime\n",
    "import tensorflow as tf\n",
    "import keras\n",
    "from keras import Input, layers\n",
    "from keras.models import Model\n",
    "from keras.layers import Flatten, Dense, Dropout, Activation, Input, LSTM, Reshape, Conv2D, MaxPooling2D, LeakyReLU, GlobalMaxPooling1D\n",
    "from keras.optimizers import Adam\n",
    "from keras.utils import np_utils\n",
    "import random\n",
    "from sklearn.metrics import mean_squared_error as mse\n",
    "from sklearn.metrics import r2_score\n",
    "from scipy import stats\n",
    "from sklearn.linear_model import LinearRegression\n",
    "from fireTS.models import NARX\n",
    "seed_value = 2022\n",
    "random.seed(seed_value)\n",
    "np.random.seed(seed_value)\n",
    "tf.random.set_seed(seed_value)\n",
    "from sklearn.preprocessing import QuantileTransformer \n",
    "normalizer = QuantileTransformer(output_distribution='normal')"
   ]
  },
  {
   "cell_type": "code",
   "execution_count": 2,
   "metadata": {},
   "outputs": [],
   "source": [
    "lob_data=utils.caricaLOB('bynd',2/6)\n",
    "ld=lob_data.values.tolist()\n",
    "of=utils.OF_1(ld)\n",
    "bCols=np.ravel([['aOF_%d'%level, 'bOF_%d'%level] for level in [1,2,3]])\n",
    "of_data=pd.DataFrame(of, columns=bCols)\n",
    "m=pd.DataFrame(utils.midPrice(lob_data),columns=['m'])\n",
    "m['r']=m['m'].pct_change().fillna(0).copy()#.apply(np.log)\n",
    "ret=utils.preparaRitorni(m,'bynd')\n",
    "#of_data[]=ret#(m['r'])#.cumsum()\n",
    "of = pd.concat([of_data[-len(ret):], ret], axis=1)"
   ]
  },
  {
   "cell_type": "code",
   "execution_count": 3,
   "metadata": {},
   "outputs": [
    {
     "data": {
      "text/plain": [
       "array([ 0.,  4.,  9., 13., 18., 23., 27., 32., 37., 41., 46.])"
      ]
     },
     "execution_count": 3,
     "metadata": {},
     "output_type": "execute_result"
    }
   ],
   "source": [
    "dt=utils.deltaT(m['r'])\n",
    "hk=utils.doHk(dt,11)\n",
    "hk"
   ]
  },
  {
   "cell_type": "code",
   "execution_count": 4,
   "metadata": {},
   "outputs": [
    {
     "name": "stdout",
     "output_type": "stream",
     "text": [
      "(602968, 100, 6, 1) (602968, 10)\n",
      "(200923, 100, 6, 1) (200923, 10)\n",
      "(200923, 100, 6, 1) (200923, 10)\n"
     ]
    }
   ],
   "source": [
    "V = int(len(of)*0.6)\n",
    "T = int(len(of)*0.8)\n",
    "\n",
    "n_train     = of.iloc[ :V].copy()\n",
    "n_vali      = of.iloc[V:T].copy()\n",
    "n_test      = of.iloc[T: ].copy()\n",
    "\n",
    "n_train = n_train.apply(lambda x : utils.taglia_e_cuci(x), axis=1, raw=True)\n",
    "n_vali  = n_vali .apply(lambda x : utils.taglia_e_cuci(x), axis=1, raw=True)\n",
    "n_test  = n_test .apply(lambda x : utils.taglia_e_cuci(x), axis=1, raw=True)\n",
    "\n",
    "x_vars = of.columns#[:-10]\n",
    "\n",
    "# Normalize Features\n",
    "# Dividing by the standard deviation estimated using the training set\n",
    "for x_var in x_vars:\n",
    "    sd = n_train[x_var].std()\n",
    "    n_train[x_var] = n_train[x_var] / sd\n",
    "    n_vali [x_var] = n_vali [x_var] / sd\n",
    "    n_test [x_var] = n_test [x_var] / sd\n",
    "\n",
    "trainX,trainY = utils.prepXY  (n_train, typo = 'cnnlstm')    \n",
    "valiX ,valiY  = utils.prepXY  (n_vali , typo = 'cnnlstm')    \n",
    "testX ,testY  = utils.prepXY  (n_test , typo = 'cnnlstm')   \n",
    "\n",
    "\n",
    "print(trainX.shape ,trainY.shape)\n",
    "print(valiX.shape  ,valiY .shape)\n",
    "print(testX.shape  ,testY .shape)"
   ]
  },
  {
   "cell_type": "code",
   "execution_count": 5,
   "metadata": {},
   "outputs": [],
   "source": [
    "#architettura della rete\n",
    "def create_nn(T, NF,number_of_lstm):\n",
    "\n",
    "    input_lmd = tf.keras.Input(shape=(T, NF, 1))\n",
    "\n",
    "    conv_first1 = Conv2D(32, kernel_size=(1, 2), strides=(1, 2))(input_lmd)\n",
    "    conv_first1 = keras.layers.LeakyReLU(alpha=0.01)(conv_first1)\n",
    "    conv_first1 = Conv2D(32, (4, 1), padding='same')(conv_first1)\n",
    "    conv_first1 = keras.layers.LeakyReLU(alpha=0.01)(conv_first1)\n",
    "    conv_first1 = Conv2D(32, (4, 1), padding='same')(conv_first1)\n",
    "    conv_first1 = keras.layers.LeakyReLU(alpha=0.01)(conv_first1)\n",
    "    #\n",
    "    layer_x = layers.Conv2D(filters=16, kernel_size=(10,1),strides=(1,10), padding='same')(conv_first1)\n",
    "    layer_x = layers.LeakyReLU(alpha=0.01)(layer_x)\n",
    "    # inception\n",
    "    convsecond_1 = Conv2D(64, (1, 1), padding='same', strides=(1,1))(layer_x)\n",
    "    convsecond_1 = keras.layers.LeakyReLU(alpha=0.01)(convsecond_1)\n",
    "    convsecond_1 = Conv2D(64, (3, 1), padding='same', strides=(1,1))(convsecond_1)\n",
    "    convsecond_1 = keras.layers.LeakyReLU(alpha=0.01)(convsecond_1)\n",
    "\n",
    "    convsecond_2 = Conv2D(64, (1, 1), padding='same', strides=(1,1))(layer_x)\n",
    "    convsecond_2 = keras.layers.LeakyReLU(alpha=0.01)(convsecond_2)\n",
    "    convsecond_2 = Conv2D(64, (5, 1), padding='same', strides=(1,1))(convsecond_2)\n",
    "    convsecond_2 = keras.layers.LeakyReLU(alpha=0.01)(convsecond_2)\n",
    "\n",
    "    convsecond_3 = MaxPooling2D((3, 1), strides=(1, 1), padding='same')(layer_x)\n",
    "    convsecond_3 = Conv2D(64, (1, 1), padding='same', strides=(1,1))(convsecond_3)\n",
    "    convsecond_3 = keras.layers.LeakyReLU(alpha=0.01)(convsecond_3)\n",
    "    \n",
    "    convsecond_output = keras.layers.concatenate([convsecond_1, convsecond_2, convsecond_3], axis=3)\n",
    "    conv_reshape = Reshape((int(convsecond_output.shape[1]), int(convsecond_output.shape[3])))(convsecond_output)\n",
    "    conv_reshape = keras.layers.Dropout(0.7, noise_shape=(None, 1, int(conv_reshape.shape[2])))(conv_reshape, training=True)\n",
    "\n",
    "    #  LSTM layer\n",
    "    conv_lstm = LSTM(number_of_lstm)(conv_reshape)\n",
    "    # output layer\n",
    "    out = Dense(10, activation='leaky_relu')(conv_lstm) #prova a mettere TY=number of steps in the output\n",
    "    model = Model(inputs=input_lmd, outputs=out)\n",
    "    adam = keras.optimizers.Adam(learning_rate=0.0001)\n",
    "    model.compile(optimizer=adam, loss='mse')#, metrics=['accuracy']\n",
    "\n",
    "    return model\n",
    "  \n",
    "deeplob = create_nn(100, 6, 64)\n",
    "checkpoint_filepath = './model_tensorflow2/weights'\n",
    "\n",
    "callback=tf.keras.callbacks.EarlyStopping(\n",
    "    monitor='val_loss',\n",
    "    min_delta=0,\n",
    "    patience=5,\n",
    "    verbose=1,\n",
    "    mode='auto',\n",
    "    baseline=None,\n",
    "    restore_best_weights=False\n",
    ")\n",
    "saving = tf.keras.callbacks.ModelCheckpoint(\n",
    "    filepath=checkpoint_filepath,\n",
    "    save_weights_only=True,\n",
    "    monitor='val_loss',\n",
    "    mode='auto',\n",
    "    save_best_only=True)\n",
    "\n",
    "#deeplob.summary()"
   ]
  },
  {
   "cell_type": "code",
   "execution_count": 6,
   "metadata": {},
   "outputs": [],
   "source": [
    "simple=deeplob.load_weights('modelBYNDPit.h5')\n",
    "#simple=deeplob.fit(trainX, trainY, validation_data=(valiX, valiY),  epochs=50, batch_size=256,callbacks=[callback,saving])\n",
    "#"
   ]
  },
  {
   "cell_type": "code",
   "execution_count": 7,
   "metadata": {},
   "outputs": [],
   "source": [
    "#deeplob.save('modelBYND.h5')"
   ]
  },
  {
   "cell_type": "code",
   "execution_count": 8,
   "metadata": {},
   "outputs": [],
   "source": [
    "#loss=simple.history['loss']\n",
    "#lossVal=simple.history['val_loss']"
   ]
  },
  {
   "cell_type": "code",
   "execution_count": 9,
   "metadata": {},
   "outputs": [],
   "source": [
    "#deeplob.save('modelBYND.h5')"
   ]
  },
  {
   "cell_type": "code",
   "execution_count": 10,
   "metadata": {},
   "outputs": [],
   "source": [
    "#plt.plot(simple.history['loss']    , label='train loss')\n",
    "#plt.plot(simple.history['val_loss'], label='test loss')\n",
    "#plt.legend()\n",
    "#plt.show()"
   ]
  },
  {
   "cell_type": "code",
   "execution_count": 11,
   "metadata": {},
   "outputs": [],
   "source": [
    "#simple=deeplob.load_weights('modelBYND.h5')"
   ]
  },
  {
   "cell_type": "code",
   "execution_count": 12,
   "metadata": {},
   "outputs": [
    {
     "name": "stdout",
     "output_type": "stream",
     "text": [
      "18843/18843 [==============================] - 639s 34ms/step\n",
      "6279/6279 [==============================] - 241s 38ms/step\n"
     ]
    }
   ],
   "source": [
    "Ptrain= deeplob.predict(trainX)\n",
    "Ptest = deeplob.predict(testX)"
   ]
  },
  {
   "cell_type": "code",
   "execution_count": 13,
   "metadata": {},
   "outputs": [
    {
     "data": {
      "text/plain": [
       "array([0.00048195, 0.00109221, 0.00159741, 0.00200058, 0.00237838,\n",
       "       0.00270226, 0.00304352, 0.00327902, 0.00354229, 0.00356808])"
      ]
     },
     "execution_count": 13,
     "metadata": {},
     "output_type": "execute_result"
    }
   ],
   "source": [
    "r2os = np.zeros(10)\n",
    "for i in range(10):\n",
    "    r2os[i]=1-mse(y_pred=Ptest[:,i],y_true=testY[:,i])/mse(y_pred=[np.mean(trainY[:,i])]*len(testY),y_true=testY[:,i])\n",
    "r2os\n"
   ]
  },
  {
   "cell_type": "code",
   "execution_count": 14,
   "metadata": {},
   "outputs": [
    {
     "data": {
      "text/plain": [
       "array([0.00045558, 0.00103086, 0.00140875, 0.00172428, 0.00202595,\n",
       "       0.00223761, 0.00250747, 0.00261251, 0.00276625, 0.00317418])"
      ]
     },
     "execution_count": 14,
     "metadata": {},
     "output_type": "execute_result"
    }
   ],
   "source": [
    "r2is = np.zeros(10)\n",
    "for i in range(10):\n",
    "    r2is[i]=1-mse(y_pred=Ptrain[:,i],y_true=trainY[:,i])/mse(y_pred=[np.mean(trainY[:,i])]*len(trainY),y_true=trainY[:,i])\n",
    "r2is"
   ]
  },
  {
   "cell_type": "code",
   "execution_count": 15,
   "metadata": {},
   "outputs": [
    {
     "data": {
      "text/plain": [
       "(0.0015709014337070726, 0.0019943430710050005)"
      ]
     },
     "execution_count": 15,
     "metadata": {},
     "output_type": "execute_result"
    }
   ],
   "source": [
    "r2_score(y_pred=Ptest*sd,y_true=testY*sd), r2_score(y_pred=Ptrain*sd,y_true=trainY*sd)"
   ]
  },
  {
   "cell_type": "code",
   "execution_count": null,
   "metadata": {},
   "outputs": [],
   "source": [
    "x = n_train.iloc[:,:6]\n",
    "y = n_train.iloc[:,6:]\n",
    "\n",
    "yfor =np.empty((len(valiY),10))\n",
    "\n",
    "for i in range(10):\n",
    "    mdl = NARX(LinearRegression(), auto_order=1, exog_order=[100,100,100,100,100,100])\n",
    "    mdl.fit(x,y.iloc[:,i])\n",
    "    yfor[:,i] = mdl.forecast(x,y.iloc[:,i],step=len(valiY))"
   ]
  },
  {
   "cell_type": "code",
   "execution_count": null,
   "metadata": {},
   "outputs": [
    {
     "data": {
      "text/plain": [
       "array([-0.00230016, -0.00403902, -0.00543192, -0.00765263, -0.00932394,\n",
       "       -0.01107322, -0.01388463, -0.01531228, -0.02136328, -0.02032713])"
      ]
     },
     "execution_count": 19,
     "metadata": {},
     "output_type": "execute_result"
    }
   ],
   "source": [
    "r2ARXos = np.zeros(10)\n",
    "for i in range(10):\n",
    "    r2ARXos[i]=1-mse(y_pred=yfor[:,i],y_true=valiY[:,i])/mse(y_pred=[np.mean(trainY[:,i])]*len(valiY),y_true=valiY[:,i])\n",
    "r2ARXos"
   ]
  },
  {
   "cell_type": "code",
   "execution_count": null,
   "metadata": {},
   "outputs": [
    {
     "data": {
      "text/plain": [
       "(1.0, -93891.03728064838)"
      ]
     },
     "execution_count": 20,
     "metadata": {},
     "output_type": "execute_result"
    }
   ],
   "source": [
    "r2_score(y,n_train.iloc[:,-10:]), r2_score(yfor,valiY)"
   ]
  },
  {
   "cell_type": "code",
   "execution_count": null,
   "metadata": {},
   "outputs": [
    {
     "data": {
      "text/plain": [
       "array([1., 1., 1., 1., 1., 1., 1., 1., 1., 1.])"
      ]
     },
     "execution_count": 21,
     "metadata": {},
     "output_type": "execute_result"
    }
   ],
   "source": [
    "r2ARXis = np.zeros(10)\n",
    "for i in range(10):\n",
    "    r2ARXis[i]=1-mse(y_pred=y.iloc[:,i],y_true=n_train.iloc[:,-10+i])/mse(y_pred=[np.mean(n_train.iloc[:,-10+i])]*len(n_train.iloc[:,-10+i]),y_true=n_train.iloc[:,-10+i])\n",
    "r2ARXis"
   ]
  },
  {
   "cell_type": "code",
   "execution_count": 25,
   "metadata": {},
   "outputs": [
    {
     "data": {
      "text/plain": [
       "array([5.35984430e-05, 3.44361660e-05, 3.19535456e-05, 3.75862529e-05,\n",
       "       3.88188814e-05, 4.17970039e-05, 4.59829050e-05, 5.16622343e-05,\n",
       "       6.27626604e-05, 2.58425003e-04])"
      ]
     },
     "execution_count": 25,
     "metadata": {},
     "output_type": "execute_result"
    }
   ],
   "source": [
    "mseis = np.zeros(10)\n",
    "for i in range(10):\n",
    "    mseis[i] = mse(y_pred=Ptest[:,i],y_true=[np.mean(testY[:,i])]*len(testY))#/mse(y_pred=[np.mean(trainY[:,i])]*len(testY),y_true=testY[:,i])np.var(trainY[:,i])#\n",
    "mseis"
   ]
  },
  {
   "cell_type": "code",
   "execution_count": 23,
   "metadata": {},
   "outputs": [
    {
     "data": {
      "text/plain": [
       "array([[ 0.        , -0.04685591, -0.03006316, ...,  0.48629902,\n",
       "         0.27718763,  0.50445091],\n",
       "       [ 0.10805372, -0.07496754, -0.03006316, ...,  0.48629902,\n",
       "         0.29350531,  0.50445091],\n",
       "       [ 0.21610744,  0.14996068, -0.06011862, ...,  0.52103466,\n",
       "         0.32611702,  0.48862419],\n",
       "       ...,\n",
       "       [-0.05640976, -0.03914371,  0.47123296, ...,  0.78042009,\n",
       "         0.73301357,  0.70823567],\n",
       "       [-0.90255616, -0.62629929, -0.18844278, ...,  0.50818052,\n",
       "         0.47731116,  0.46117671],\n",
       "       [-0.90255616, -0.62629929, -0.43954308, ...,  0.50818052,\n",
       "         0.47731116,  0.46117671]])"
      ]
     },
     "execution_count": 23,
     "metadata": {},
     "output_type": "execute_result"
    }
   ],
   "source": [
    "testY"
   ]
  },
  {
   "cell_type": "code",
   "execution_count": null,
   "metadata": {},
   "outputs": [
    {
     "data": {
      "image/png": "[encoded data removed]",
      "text/plain": [
       "<Figure size 432x288 with 1 Axes>"
      ]
     },
     "metadata": {
      "needs_background": "light"
     },
     "output_type": "display_data"
    }
   ],
   "source": [
    "r2LSTMos=np.array([0.00057878, 0.00112619, 0.00172947, 0.0021896 , 0.00266304,        0.00317812, 0.00364115, 0.00408428, 0.00444944, 0.00435618])#[-0.41097385,  0.04266487, -0.2145984 ,  0.17390238,  0.05973878,       -0.21622171, -0.16653226, -0.19861038, -0.23133067, -0.76287042]#np.array([-2.03300819,  0.12142431, -0.40861081,  0.0687946 ,  0.0229519 , 0.05173136, -0.06193211, -0.01980576, -0.20360118, -0.52021882])#[-0.45311069,  0.04605449, -0.1948343 ,  0.17900163,  0.06497519,  -0.22647752, -0.14808458, -0.19544776, -0.23445491, -0.72659964])\n",
    "r2os1=np.array([0.00045558, 0.00103086, 0.00140875, 0.00172428, 0.00202595,       0.00223761, 0.00250747, 0.00261251, 0.00276625, 0.00317418])#.array([0.15785287, 0.31554607, 0.46024276, 0.46678679, 0.44605147,       0.42156301, 0.39472172, 0.36715091, 0.34375688, 0.32292426])\n",
    "r2ARXos=np.array([-0.00230016, -0.00403902, -0.00543192, -0.00765263, -0.00932394,        -0.01107322, -0.01388463, -0.01531228, -0.02136328, -0.02032713])#array([ 3.63381619e-05,  3.89777082e-05,  2.37661840e-04,  1.12481813e-04,        1.74148868e-04,  2.06452389e-04,  1.52446244e-04,  2.29640493e-04,        1.64217530e-04, -2.85535958e-05])\n",
    "plt.plot(r2ARXos /100,label='r2ARX')\n",
    "plt.plot(r2LSTMos*100,label='r2LSTM')\n",
    "plt.plot(r2os    *100,label='r2CNN-LSTM')\n",
    "plt.grid(True)\n",
    "plt.ylabel('$R^2_{(os)}\\%$')\n",
    "plt.xlabel('horizon')\n",
    "plt.legend();"
   ]
  }
 ],
 "metadata": {
  "kernelspec": {
   "display_name": "Python 3.9.12 ('base')",
   "language": "python",
   "name": "python3"
  },
  "language_info": {
   "codemirror_mode": {
    "name": "ipython",
    "version": 3
   },
   "file_extension": ".py",
   "mimetype": "text/x-python",
   "name": "python",
   "nbconvert_exporter": "python",
   "pygments_lexer": "ipython3",
   "version": "3.9.12"
  },
  "orig_nbformat": 4,
  "vscode": {
   "interpreter": {
    "hash": "597e2b791014bf3f975e304e1e72922cb6b9245e0453d34e2c818a7120fc527f"
   }
  }
 },
 "nbformat": 4,
 "nbformat_minor": 2
}
