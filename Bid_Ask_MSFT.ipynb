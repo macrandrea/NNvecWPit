{
 "cells": [
  {
   "cell_type": "code",
   "execution_count": 1,
   "metadata": {},
   "outputs": [],
   "source": [
    "import os\n",
    "import utils\n",
    "import pandas as pd\n",
    "import numpy  as np\n",
    "import matplotlib.pyplot as plt\n",
    "from pandas.tseries.offsets import *\n",
    "import statsmodels.formula.api as smf\n",
    "from glob import glob\n",
    "from datetime import datetime\n",
    "import tensorflow as tf\n",
    "import keras\n",
    "from keras import Input, layers\n",
    "from keras.models import Model\n",
    "from keras.layers import Flatten, Dense, Dropout, Activation, Input, LSTM, Reshape, Conv2D, MaxPooling2D, LeakyReLU, GlobalMaxPooling1D\n",
    "from keras.optimizers import Adam\n",
    "from keras.utils import np_utils\n",
    "import random\n",
    "from sklearn.metrics import mean_squared_error as mse\n",
    "from sklearn.metrics import r2_score\n",
    "from scipy import stats\n",
    "from sklearn.linear_model import LinearRegression\n",
    "from fireTS.models import NARX\n",
    "seed_value = 2022\n",
    "random.seed(seed_value)\n",
    "np.random.seed(seed_value)\n",
    "tf.random.set_seed(seed_value)\n",
    "from sklearn.preprocessing import QuantileTransformer \n",
    "normalizer = QuantileTransformer(output_distribution='normal')"
   ]
  },
  {
   "cell_type": "code",
   "execution_count": 2,
   "metadata": {},
   "outputs": [],
   "source": [
    "def baSpread(x):\n",
    "    a=x['AP1'].values.tolist()\n",
    "    b=x['BP1'].values.tolist()\n",
    "    bas=np.empty(len(x))\n",
    "    for i in range(len(a)):\n",
    "       bas[i]=(a[i]/10**4-b[i]/10**4)#/(a[i]+b[i])*10**4\n",
    "    return bas"
   ]
  },
  {
   "cell_type": "code",
   "execution_count": 3,
   "metadata": {},
   "outputs": [],
   "source": [
    "lob_data=utils.caricaLOB('msft',0.1)\n",
    "ld=lob_data.values.tolist()\n",
    "of=utils.OF_1(ld)\n",
    "bCols=np.ravel([['aOF_%d'%level, 'bOF_%d'%level] for level in [1,2,3]])\n",
    "of_data=pd.DataFrame(of, columns=bCols)\n",
    "m=pd.DataFrame(utils.midPrice(lob_data),columns=['m'])\n",
    "m['r']=m['m'].pct_change().fillna(0).copy()\n",
    "b=pd.DataFrame(baSpread(lob_data),columns=['spread'])\n"
   ]
  },
  {
   "cell_type": "code",
   "execution_count": 4,
   "metadata": {},
   "outputs": [],
   "source": [
    "spread=b['spread'].to_numpy()\n",
    "d=b.diff().fillna(0).to_numpy().flatten()\n",
    "hot=np.zeros(len(d))\n",
    "for i in range(0,len(hot)):\n",
    "    if spread[i]>0.02: #spread[i]-spread[i-1]>0.03:\n",
    "        hot[i]=1 #se spread[i]>soglia up\n",
    "    else: #-spread[i-1]<0.02:\n",
    "        hot[i]=0 #se spread[i]<soglia lo\n",
    "#plt.plot(hot);"
   ]
  },
  {
   "cell_type": "code",
   "execution_count": 5,
   "metadata": {},
   "outputs": [],
   "source": [
    "spread=b['spread'].to_numpy()\n",
    "d=b.diff().fillna(0).to_numpy().flatten()\n",
    "hot=np.zeros(len(d))\n",
    "for i in range(0,len(hot)):\n",
    "    if spread[i]>0.02: #spread[i]-spread[i-1]>0.03:\n",
    "        hot[i]=1 #se spread[i]>soglia up\n",
    "    else: #-spread[i-1]<0.02:\n",
    "        hot[i]=0 #se spread[i]<soglia lo\n",
    "#plt.plot(hot);"
   ]
  },
  {
   "cell_type": "code",
   "execution_count": 6,
   "metadata": {},
   "outputs": [
    {
     "data": {
      "text/plain": [
       "(0.020000000000010232, 0.010999999999990906)"
      ]
     },
     "execution_count": 6,
     "metadata": {},
     "output_type": "execute_result"
    }
   ],
   "source": [
    "np.quantile(spread,0.9), np.quantile(spread,0.1)+0.001"
   ]
  },
  {
   "cell_type": "code",
   "execution_count": 7,
   "metadata": {},
   "outputs": [
    {
     "data": {
      "text/plain": [
       "5433"
      ]
     },
     "execution_count": 7,
     "metadata": {},
     "output_type": "execute_result"
    }
   ],
   "source": [
    "c=10\n",
    "for i in range(len(spread)):\n",
    "    if spread[i]>0.03:\n",
    "        c=c+1\n",
    "    else:\n",
    "        c=c+0\n",
    "c"
   ]
  },
  {
   "cell_type": "code",
   "execution_count": 8,
   "metadata": {},
   "outputs": [
    {
     "data": {
      "text/plain": [
       "[<matplotlib.lines.Line2D at 0x1d3f40aa2e0>]"
      ]
     },
     "execution_count": 8,
     "metadata": {},
     "output_type": "execute_result"
    },
    {
     "data": {
      "image/png": "[encoded data removed]",
      "text/plain": [
       "<Figure size 432x288 with 1 Axes>"
      ]
     },
     "metadata": {
      "needs_background": "light"
     },
     "output_type": "display_data"
    }
   ],
   "source": [
    "plt.plot(spread[:1000])"
   ]
  },
  {
   "cell_type": "code",
   "execution_count": 9,
   "metadata": {},
   "outputs": [
    {
     "data": {
      "text/plain": [
       "(array([0.04, 0.04, 0.04, ..., 0.02, 0.02, 0.03]),\n",
       " array([1., 1., 1., ..., 0., 0., 1.]))"
      ]
     },
     "execution_count": 9,
     "metadata": {},
     "output_type": "execute_result"
    }
   ],
   "source": [
    "spread,hot"
   ]
  },
  {
   "cell_type": "markdown",
   "metadata": {},
   "source": [
    "CNN-LSTM Classifier\n",
    "==="
   ]
  },
  {
   "cell_type": "code",
   "execution_count": 10,
   "metadata": {},
   "outputs": [],
   "source": [
    "def prepare_x_y(of, lag=100, dimension=6):\n",
    "    ex = of[['aOF_1','bOF_1','aOF_2','bOF_2','aOF_3','bOF_3']].to_numpy()#\n",
    "    uai= of['h'].to_numpy() #.pct_change().fillna(0)['r']\n",
    "    shape = of.shape\n",
    "    dimension=6\n",
    "    lag = 100\n",
    "    x=np.empty((shape[0]-lag, lag, dimension))\n",
    "    y=np.empty((shape[0]-lag,1))\n",
    "    for i in range(shape[0]-lag):\n",
    "        x[i]=ex[i:i+lag]\n",
    "        y[i]=uai[i+lag-1]\n",
    "\n",
    "    X=x.reshape(-1,lag,6,1)\n",
    "\n",
    "    Y = np_utils.to_categorical(y.astype(int),2)\n",
    "\n",
    "    return X,Y"
   ]
  },
  {
   "cell_type": "code",
   "execution_count": 11,
   "metadata": {},
   "outputs": [
    {
     "name": "stdout",
     "output_type": "stream",
     "text": [
      "(62814, 100, 6, 1) (62814, 2)\n",
      "(20871, 100, 6, 1) (20871, 2)\n",
      "(20872, 100, 6, 1) (20872, 2)\n"
     ]
    }
   ],
   "source": [
    "V = int(len(of)*0.6)\n",
    "T = int(len(of)*0.8)\n",
    "\n",
    "n_train     = of_data.iloc[ :V].copy()\n",
    "n_vali      = of_data.iloc[V:T].copy()\n",
    "n_test      = of_data.iloc[T: ].copy()\n",
    "\n",
    "n_train = n_train.apply(lambda x : utils.taglia_e_cuci(x), axis=1, raw=True)\n",
    "n_vali  = n_vali .apply(lambda x : utils.taglia_e_cuci(x), axis=1, raw=True)\n",
    "n_test  = n_test .apply(lambda x : utils.taglia_e_cuci(x), axis=1, raw=True)\n",
    "\n",
    "x_vars = of_data.columns#[:-1]\n",
    "\n",
    "# Normalize Features\n",
    "# Dividing by the standard deviation estimated using the training set\n",
    "for x_var in x_vars:\n",
    "    sd = n_train[x_var].std()\n",
    "    n_train[x_var] = n_train[x_var] / sd\n",
    "    n_vali [x_var] = n_vali [x_var] / sd\n",
    "    n_test [x_var] = n_test [x_var] / sd\n",
    "\n",
    "n_train['h'] = hot[ :V]\n",
    "n_vali ['h'] = hot[V:T]\n",
    "n_test ['h'] = hot[T: ]\n",
    "#of=of_data\n",
    "\n",
    "trainX,trainY = prepare_x_y  (n_train)    \n",
    "valiX ,valiY  = prepare_x_y  (n_vali )    \n",
    "testX ,testY  = prepare_x_y  (n_test )   \n",
    "\n",
    "\n",
    "print(trainX.shape ,trainY.shape)\n",
    "print(valiX.shape  ,valiY .shape)\n",
    "print(testX.shape  ,testY .shape)"
   ]
  },
  {
   "cell_type": "code",
   "execution_count": 12,
   "metadata": {},
   "outputs": [
    {
     "name": "stdout",
     "output_type": "stream",
     "text": [
      "Model: \"model\"\n",
      "__________________________________________________________________________________________________\n",
      " Layer (type)                   Output Shape         Param #     Connected to                     \n",
      "==================================================================================================\n",
      " input_1 (InputLayer)           [(None, 100, 6, 1)]  0           []                               \n",
      "                                                                                                  \n",
      " conv2d (Conv2D)                (None, 100, 3, 32)   96          ['input_1[0][0]']                \n",
      "                                                                                                  \n",
      " leaky_re_lu (LeakyReLU)        (None, 100, 3, 32)   0           ['conv2d[0][0]']                 \n",
      "                                                                                                  \n",
      " conv2d_1 (Conv2D)              (None, 100, 3, 32)   4128        ['leaky_re_lu[0][0]']            \n",
      "                                                                                                  \n",
      " leaky_re_lu_1 (LeakyReLU)      (None, 100, 3, 32)   0           ['conv2d_1[0][0]']               \n",
      "                                                                                                  \n",
      " conv2d_2 (Conv2D)              (None, 100, 3, 32)   4128        ['leaky_re_lu_1[0][0]']          \n",
      "                                                                                                  \n",
      " leaky_re_lu_2 (LeakyReLU)      (None, 100, 3, 32)   0           ['conv2d_2[0][0]']               \n",
      "                                                                                                  \n",
      " conv2d_3 (Conv2D)              (None, 100, 1, 16)   5136        ['leaky_re_lu_2[0][0]']          \n",
      "                                                                                                  \n",
      " leaky_re_lu_3 (LeakyReLU)      (None, 100, 1, 16)   0           ['conv2d_3[0][0]']               \n",
      "                                                                                                  \n",
      " conv2d_4 (Conv2D)              (None, 100, 1, 64)   1088        ['leaky_re_lu_3[0][0]']          \n",
      "                                                                                                  \n",
      " conv2d_6 (Conv2D)              (None, 100, 1, 64)   1088        ['leaky_re_lu_3[0][0]']          \n",
      "                                                                                                  \n",
      " leaky_re_lu_4 (LeakyReLU)      (None, 100, 1, 64)   0           ['conv2d_4[0][0]']               \n",
      "                                                                                                  \n",
      " leaky_re_lu_6 (LeakyReLU)      (None, 100, 1, 64)   0           ['conv2d_6[0][0]']               \n",
      "                                                                                                  \n",
      " max_pooling2d (MaxPooling2D)   (None, 100, 1, 16)   0           ['leaky_re_lu_3[0][0]']          \n",
      "                                                                                                  \n",
      " conv2d_5 (Conv2D)              (None, 100, 1, 64)   12352       ['leaky_re_lu_4[0][0]']          \n",
      "                                                                                                  \n",
      " conv2d_7 (Conv2D)              (None, 100, 1, 64)   20544       ['leaky_re_lu_6[0][0]']          \n",
      "                                                                                                  \n",
      " conv2d_8 (Conv2D)              (None, 100, 1, 64)   1088        ['max_pooling2d[0][0]']          \n",
      "                                                                                                  \n",
      " leaky_re_lu_5 (LeakyReLU)      (None, 100, 1, 64)   0           ['conv2d_5[0][0]']               \n",
      "                                                                                                  \n",
      " leaky_re_lu_7 (LeakyReLU)      (None, 100, 1, 64)   0           ['conv2d_7[0][0]']               \n",
      "                                                                                                  \n",
      " leaky_re_lu_8 (LeakyReLU)      (None, 100, 1, 64)   0           ['conv2d_8[0][0]']               \n",
      "                                                                                                  \n",
      " concatenate (Concatenate)      (None, 100, 1, 192)  0           ['leaky_re_lu_5[0][0]',          \n",
      "                                                                  'leaky_re_lu_7[0][0]',          \n",
      "                                                                  'leaky_re_lu_8[0][0]']          \n",
      "                                                                                                  \n",
      " reshape (Reshape)              (None, 100, 192)     0           ['concatenate[0][0]']            \n",
      "                                                                                                  \n",
      " dropout (Dropout)              (None, 100, 192)     0           ['reshape[0][0]']                \n",
      "                                                                                                  \n",
      " lstm (LSTM)                    (None, 64)           65792       ['dropout[0][0]']                \n",
      "                                                                                                  \n",
      " dense (Dense)                  (None, 2)            130         ['lstm[0][0]']                   \n",
      "                                                                                                  \n",
      "==================================================================================================\n",
      "Total params: 115,570\n",
      "Trainable params: 115,570\n",
      "Non-trainable params: 0\n",
      "__________________________________________________________________________________________________\n"
     ]
    }
   ],
   "source": [
    "\n",
    "def create_nn(T, NF,number_of_lstm):\n",
    "\n",
    "    input_lmd = tf.keras.Input(shape=(T, NF, 1))\n",
    "\n",
    "    conv_first1 = Conv2D(32, kernel_size=(1, 2), strides=(1, 2))(input_lmd)\n",
    "    conv_first1 = keras.layers.LeakyReLU(alpha=0.01)(conv_first1)\n",
    "    conv_first1 = Conv2D(32, (4, 1), padding='same')(conv_first1)\n",
    "    conv_first1 = keras.layers.LeakyReLU(alpha=0.01)(conv_first1)\n",
    "    conv_first1 = Conv2D(32, (4, 1), padding='same')(conv_first1)\n",
    "    conv_first1 = keras.layers.LeakyReLU(alpha=0.01)(conv_first1)\n",
    "    #\n",
    "    layer_x = layers.Conv2D(filters=16, kernel_size=(10,1),strides=(1,10), padding='same')(conv_first1)\n",
    "    layer_x = layers.LeakyReLU(alpha=0.01)(layer_x)\n",
    "    # inception\n",
    "    convsecond_1 = Conv2D(64, (1, 1), padding='same', strides=(1,1))(layer_x)\n",
    "    convsecond_1 = keras.layers.LeakyReLU(alpha=0.01)(convsecond_1)\n",
    "    convsecond_1 = Conv2D(64, (3, 1), padding='same', strides=(1,1))(convsecond_1)\n",
    "    convsecond_1 = keras.layers.LeakyReLU(alpha=0.01)(convsecond_1)\n",
    "\n",
    "    convsecond_2 = Conv2D(64, (1, 1), padding='same', strides=(1,1))(layer_x)\n",
    "    convsecond_2 = keras.layers.LeakyReLU(alpha=0.01)(convsecond_2)\n",
    "    convsecond_2 = Conv2D(64, (5, 1), padding='same', strides=(1,1))(convsecond_2)\n",
    "    convsecond_2 = keras.layers.LeakyReLU(alpha=0.01)(convsecond_2)\n",
    "\n",
    "    convsecond_3 = MaxPooling2D((3, 1), strides=(1, 1), padding='same')(layer_x)\n",
    "    convsecond_3 = Conv2D(64, (1, 1), padding='same', strides=(1,1))(convsecond_3)\n",
    "    convsecond_3 = keras.layers.LeakyReLU(alpha=0.01)(convsecond_3)\n",
    "    \n",
    "    convsecond_output = keras.layers.concatenate([convsecond_1, convsecond_2, convsecond_3], axis=3)\n",
    "    conv_reshape = Reshape((int(convsecond_output.shape[1]), int(convsecond_output.shape[3])))(convsecond_output)\n",
    "    conv_reshape = keras.layers.Dropout(0.7, noise_shape=(None, 1, int(conv_reshape.shape[2])))(conv_reshape, training=True)\n",
    "\n",
    "    # build the last LSTM layer\n",
    "    conv_lstm = LSTM(number_of_lstm)(conv_reshape)\n",
    "\n",
    "    # build the output layer\n",
    "    out = Dense(2, activation='softmax')(conv_lstm)\n",
    "    model = Model(inputs=input_lmd, outputs=out)\n",
    "    adam = keras.optimizers.Adam(learning_rate=0.0001)\n",
    "    model.compile(optimizer=adam, loss='categorical_crossentropy', metrics=['accuracy'])#\n",
    "\n",
    "    return model\n",
    "checkpoint_filepath = './model_tensorflow2/weights_class'\n",
    "deeplob = create_nn(100, 6, 64)\n",
    "deeplob.summary()"
   ]
  },
  {
   "cell_type": "code",
   "execution_count": 13,
   "metadata": {},
   "outputs": [],
   "source": [
    "callback=tf.keras.callbacks.EarlyStopping(\n",
    "    monitor='val_loss',\n",
    "    min_delta=0,\n",
    "    patience=5,\n",
    "    verbose=1,\n",
    "    mode='auto',\n",
    "    baseline=None,\n",
    "    restore_best_weights=False\n",
    ")\n",
    "saving = tf.keras.callbacks.ModelCheckpoint(\n",
    "    filepath=checkpoint_filepath,\n",
    "    save_weights_only=True,\n",
    "    monitor='val_loss',\n",
    "    mode='auto',\n",
    "    save_best_only=True)"
   ]
  },
  {
   "cell_type": "code",
   "execution_count": 14,
   "metadata": {},
   "outputs": [
    {
     "name": "stdout",
     "output_type": "stream",
     "text": [
      "Epoch 1/50\n",
      "246/246 [==============================] - 145s 565ms/step - loss: 0.4674 - accuracy: 0.8352 - val_loss: 0.4416 - val_accuracy: 0.8378\n",
      "Epoch 2/50\n",
      "246/246 [==============================] - 140s 568ms/step - loss: 0.4325 - accuracy: 0.8398 - val_loss: 0.4276 - val_accuracy: 0.8378\n",
      "Epoch 3/50\n",
      "246/246 [==============================] - 135s 549ms/step - loss: 0.4073 - accuracy: 0.8398 - val_loss: 0.4093 - val_accuracy: 0.8377\n",
      "Epoch 4/50\n",
      "246/246 [==============================] - 133s 542ms/step - loss: 0.3948 - accuracy: 0.8396 - val_loss: 0.3988 - val_accuracy: 0.8379\n",
      "Epoch 5/50\n",
      "246/246 [==============================] - 128s 519ms/step - loss: 0.3903 - accuracy: 0.8397 - val_loss: 0.3970 - val_accuracy: 0.8377\n",
      "Epoch 6/50\n",
      "246/246 [==============================] - 126s 514ms/step - loss: 0.3851 - accuracy: 0.8400 - val_loss: 0.3949 - val_accuracy: 0.8376\n",
      "Epoch 7/50\n",
      "246/246 [==============================] - 132s 537ms/step - loss: 0.3809 - accuracy: 0.8413 - val_loss: 0.3945 - val_accuracy: 0.8379\n",
      "Epoch 8/50\n",
      "246/246 [==============================] - 130s 527ms/step - loss: 0.3766 - accuracy: 0.8422 - val_loss: 0.3922 - val_accuracy: 0.8377\n",
      "Epoch 9/50\n",
      "246/246 [==============================] - 126s 511ms/step - loss: 0.3737 - accuracy: 0.8435 - val_loss: 0.3892 - val_accuracy: 0.8386\n",
      "Epoch 10/50\n",
      "246/246 [==============================] - 126s 513ms/step - loss: 0.3698 - accuracy: 0.8433 - val_loss: 0.3889 - val_accuracy: 0.8391\n",
      "Epoch 11/50\n",
      "246/246 [==============================] - 124s 505ms/step - loss: 0.3665 - accuracy: 0.8447 - val_loss: 0.3876 - val_accuracy: 0.8400\n",
      "Epoch 12/50\n",
      "246/246 [==============================] - 126s 511ms/step - loss: 0.3633 - accuracy: 0.8455 - val_loss: 0.3879 - val_accuracy: 0.8394\n",
      "Epoch 13/50\n",
      "246/246 [==============================] - 126s 512ms/step - loss: 0.3607 - accuracy: 0.8469 - val_loss: 0.3825 - val_accuracy: 0.8402\n",
      "Epoch 14/50\n",
      "246/246 [==============================] - 125s 509ms/step - loss: 0.3585 - accuracy: 0.8479 - val_loss: 0.3842 - val_accuracy: 0.8399\n",
      "Epoch 15/50\n",
      "246/246 [==============================] - 126s 512ms/step - loss: 0.3567 - accuracy: 0.8489 - val_loss: 0.3833 - val_accuracy: 0.8403\n",
      "Epoch 16/50\n",
      "246/246 [==============================] - 126s 511ms/step - loss: 0.3549 - accuracy: 0.8486 - val_loss: 0.3813 - val_accuracy: 0.8394\n",
      "Epoch 17/50\n",
      "246/246 [==============================] - 127s 514ms/step - loss: 0.3535 - accuracy: 0.8497 - val_loss: 0.3841 - val_accuracy: 0.8416\n",
      "Epoch 18/50\n",
      "246/246 [==============================] - 126s 511ms/step - loss: 0.3520 - accuracy: 0.8495 - val_loss: 0.3882 - val_accuracy: 0.8404\n",
      "Epoch 19/50\n",
      "246/246 [==============================] - 129s 523ms/step - loss: 0.3505 - accuracy: 0.8499 - val_loss: 0.3901 - val_accuracy: 0.8408\n",
      "Epoch 20/50\n",
      "246/246 [==============================] - 124s 505ms/step - loss: 0.3491 - accuracy: 0.8503 - val_loss: 0.3844 - val_accuracy: 0.8415\n",
      "Epoch 21/50\n",
      "246/246 [==============================] - 122s 497ms/step - loss: 0.3468 - accuracy: 0.8517 - val_loss: 0.3874 - val_accuracy: 0.8425\n",
      "Epoch 21: early stopping\n"
     ]
    }
   ],
   "source": [
    "#deeplob.load_weights('modelMSFTClassification.h5')\n",
    "simple=deeplob.fit(trainX, trainY, validation_data=(valiX, valiY),  epochs=50, batch_size=256,callbacks=[callback,saving])"
   ]
  },
  {
   "cell_type": "code",
   "execution_count": 15,
   "metadata": {},
   "outputs": [],
   "source": [
    "#deeplob.save('modelMSFTClassification.h5')"
   ]
  },
  {
   "cell_type": "code",
   "execution_count": 16,
   "metadata": {},
   "outputs": [
    {
     "name": "stdout",
     "output_type": "stream",
     "text": [
      "653/653 [==============================] - 21s 30ms/step\n"
     ]
    },
    {
     "data": {
      "text/plain": [
       "array([[0.8385662 , 0.1614338 ],\n",
       "       [0.8458854 , 0.15411459],\n",
       "       [0.7388847 , 0.26111528],\n",
       "       ...,\n",
       "       [0.84427464, 0.1557254 ],\n",
       "       [0.91561335, 0.08438658],\n",
       "       [0.7843849 , 0.21561512]], dtype=float32)"
      ]
     },
     "execution_count": 16,
     "metadata": {},
     "output_type": "execute_result"
    }
   ],
   "source": [
    "P = deeplob.predict(testX)\n",
    "pj= np.round(P)\n",
    "P"
   ]
  },
  {
   "cell_type": "code",
   "execution_count": 17,
   "metadata": {},
   "outputs": [
    {
     "name": "stdout",
     "output_type": "stream",
     "text": [
      "accuracy_score: 0.8243579915676504\n",
      "              precision    recall  f1-score   support\n",
      "\n",
      "           0     0.8307    0.9861    0.9018     17066\n",
      "           1     0.6140    0.0991    0.1706      3806\n",
      "\n",
      "    accuracy                         0.8244     20872\n",
      "   macro avg     0.7224    0.5426    0.5362     20872\n",
      "weighted avg     0.7912    0.8244    0.7684     20872\n",
      "\n"
     ]
    }
   ],
   "source": [
    "from sklearn.metrics import classification_report, accuracy_score\n",
    "print('accuracy_score:', accuracy_score(np.argmax(testY, axis=1), np.argmax(pj, axis=1)))\n",
    "print(classification_report(np.argmax(testY, axis=1), np.argmax(pj, axis=1), digits=4))"
   ]
  },
  {
   "cell_type": "code",
   "execution_count": 18,
   "metadata": {},
   "outputs": [
    {
     "data": {
      "image/png": "[encoded data removed]",
      "text/plain": [
       "<Figure size 432x288 with 2 Axes>"
      ]
     },
     "metadata": {
      "needs_background": "light"
     },
     "output_type": "display_data"
    }
   ],
   "source": [
    "from sklearn.metrics import confusion_matrix, ConfusionMatrixDisplay\n",
    "cm = confusion_matrix(testY.argmax(axis=1), pj.argmax(axis=1),normalize='all')#true', 'pred', 'all'\n",
    "disp = ConfusionMatrixDisplay(confusion_matrix=cm,display_labels=['sta','diff'])\n",
    "disp.plot()\n",
    "disp.ax_.set_title(\"Confusion Matrix CNN/LSTM\");"
   ]
  },
  {
   "cell_type": "markdown",
   "metadata": {},
   "source": [
    "LSTM classifier\n",
    "==="
   ]
  },
  {
   "cell_type": "code",
   "execution_count": 19,
   "metadata": {},
   "outputs": [],
   "source": [
    "def prepare_x_y_lstm(of, lag=100, dimension=6):\n",
    "    ex = of[['aOF_1','bOF_1','aOF_2','bOF_2','aOF_3','bOF_3']].to_numpy()#\n",
    "    uai= of['h'].to_numpy() #.pct_change().fillna(0)['r']\n",
    "    shape = of.shape\n",
    "    dimension=6\n",
    "    lag = 100\n",
    "    x=np.empty((shape[0]-lag, lag, dimension))\n",
    "    y=np.empty((shape[0]-lag,1))\n",
    "    for i in range(shape[0]-lag):\n",
    "        x[i]=ex[i:i+lag]\n",
    "        y[i]=uai[i+lag-1]\n",
    "\n",
    "    X=x.reshape(-1,lag,6)\n",
    "\n",
    "    Y = np_utils.to_categorical(y.astype(int),2)\n",
    "\n",
    "    return X,Y"
   ]
  },
  {
   "cell_type": "code",
   "execution_count": 20,
   "metadata": {},
   "outputs": [
    {
     "name": "stdout",
     "output_type": "stream",
     "text": [
      "(62814, 100, 6) (62814, 2)\n",
      "(20871, 100, 6) (20871, 2)\n",
      "(20872, 100, 6) (20872, 2)\n"
     ]
    }
   ],
   "source": [
    "V = int(len(of)*0.6)\n",
    "T = int(len(of)*0.8)\n",
    "\n",
    "n_train     = of_data.iloc[ :V].copy()\n",
    "n_vali      = of_data.iloc[V:T].copy()\n",
    "n_test      = of_data.iloc[T: ].copy()\n",
    "\n",
    "n_train = n_train.apply(lambda x : utils.taglia_e_cuci(x), axis=1, raw=True)\n",
    "n_vali  = n_vali .apply(lambda x : utils.taglia_e_cuci(x), axis=1, raw=True)\n",
    "n_test  = n_test .apply(lambda x : utils.taglia_e_cuci(x), axis=1, raw=True)\n",
    "\n",
    "x_vars = of_data.columns#[:-1]\n",
    "\n",
    "# Normalize Features\n",
    "# Dividing by the standard deviation estimated using the training set\n",
    "for x_var in x_vars:\n",
    "    sd = n_train[x_var].std()\n",
    "    n_train[x_var] = n_train[x_var] / sd\n",
    "    n_vali [x_var] = n_vali [x_var] / sd\n",
    "    n_test [x_var] = n_test [x_var] / sd\n",
    "\n",
    "n_train['h'] = hot[ :V]\n",
    "n_vali ['h'] = hot[V:T]\n",
    "n_test ['h'] = hot[T: ]\n",
    "#of=of_data\n",
    "\n",
    "trainX_lstm,trainY_lstm = prepare_x_y_lstm  (n_train)    \n",
    "valiX_lstm,valiY_lstm = prepare_x_y_lstm  (n_vali )    \n",
    "testX_lstm,testY_lstm = prepare_x_y_lstm  (n_test )   \n",
    "\n",
    "\n",
    "print(trainX_lstm.shape ,trainY_lstm .shape)\n",
    "print(valiX_lstm.shape  ,valiY_lstm .shape)\n",
    "print(testX_lstm.shape  ,testY_lstm .shape)"
   ]
  },
  {
   "cell_type": "code",
   "execution_count": 21,
   "metadata": {},
   "outputs": [
    {
     "name": "stdout",
     "output_type": "stream",
     "text": [
      "Model: \"model_1\"\n",
      "_________________________________________________________________\n",
      " Layer (type)                Output Shape              Param #   \n",
      "=================================================================\n",
      " input_2 (InputLayer)        [(None, 100, 6)]          0         \n",
      "                                                                 \n",
      " lstm_1 (LSTM)               (None, 100, 64)           18176     \n",
      "                                                                 \n",
      " leaky_re_lu_9 (LeakyReLU)   (None, 100, 64)           0         \n",
      "                                                                 \n",
      " lstm_2 (LSTM)               (None, 100, 64)           33024     \n",
      "                                                                 \n",
      " leaky_re_lu_10 (LeakyReLU)  (None, 100, 64)           0         \n",
      "                                                                 \n",
      " lstm_3 (LSTM)               (None, 100, 64)           33024     \n",
      "                                                                 \n",
      " leaky_re_lu_11 (LeakyReLU)  (None, 100, 64)           0         \n",
      "                                                                 \n",
      " dropout_1 (Dropout)         (None, 100, 64)           0         \n",
      "                                                                 \n",
      " global_max_pooling1d (Globa  (None, 64)               0         \n",
      " lMaxPooling1D)                                                  \n",
      "                                                                 \n",
      " dense_1 (Dense)             (None, 2)                 130       \n",
      "                                                                 \n",
      "=================================================================\n",
      "Total params: 84,354\n",
      "Trainable params: 84,354\n",
      "Non-trainable params: 0\n",
      "_________________________________________________________________\n"
     ]
    }
   ],
   "source": [
    "#architettura della rete\n",
    "num_units = 64\n",
    "activation_function = 'leaky_relu'\n",
    "adam = keras.optimizers.Adam(learning_rate=0.0001)\n",
    "loss_function = 'categorical_crossentropy'\n",
    "batch_size = 250\n",
    "num_epochs = 50\n",
    "i = Input(shape=(100, 6))\n",
    "x = LSTM(64, return_sequences=True)(i)\n",
    "x = keras.layers.LeakyReLU(alpha=0.01)(x)\n",
    "x = LSTM(64, return_sequences=True)(x)\n",
    "x = keras.layers.LeakyReLU(alpha=0.01)(x)\n",
    "x = LSTM(64, return_sequences=True)(x)\n",
    "x = keras.layers.LeakyReLU(alpha=0.01)(x)\n",
    "x = keras.layers.Dropout(0.7)(x, training=True)\n",
    "#x = LSTM(64, return_sequences=True)(x)\n",
    "x = GlobalMaxPooling1D()(x)\n",
    "x = Dense(2, activation='softmax')(x)\n",
    "\n",
    "\n",
    "model = Model(i, x)\n",
    "\n",
    "\n",
    "callback=tf.keras.callbacks.EarlyStopping(\n",
    "    monitor='val_loss',\n",
    "    min_delta=0,\n",
    "    patience=5,\n",
    "    verbose=1,\n",
    "    mode='auto',\n",
    "    baseline=None,\n",
    "    restore_best_weights=False\n",
    ")\n",
    "\n",
    "model.compile(optimizer = adam, loss = loss_function, metrics=['accuracy'])\n",
    "model.summary()\n"
   ]
  },
  {
   "cell_type": "code",
   "execution_count": 22,
   "metadata": {},
   "outputs": [
    {
     "name": "stdout",
     "output_type": "stream",
     "text": [
      "Epoch 1/20\n",
      "246/246 [==============================] - 227s 892ms/step - loss: 0.4562 - accuracy: 0.8395 - val_loss: 0.4454 - val_accuracy: 0.8378\n",
      "Epoch 2/20\n",
      "246/246 [==============================] - 233s 947ms/step - loss: 0.4321 - accuracy: 0.8398 - val_loss: 0.4467 - val_accuracy: 0.8378\n",
      "Epoch 3/20\n",
      "246/246 [==============================] - 256s 1s/step - loss: 0.4302 - accuracy: 0.8398 - val_loss: 0.4502 - val_accuracy: 0.8378\n",
      "Epoch 4/20\n",
      "246/246 [==============================] - 268s 1s/step - loss: 0.4280 - accuracy: 0.8398 - val_loss: 0.4457 - val_accuracy: 0.8378\n",
      "Epoch 5/20\n",
      "246/246 [==============================] - 267s 1s/step - loss: 0.4248 - accuracy: 0.8410 - val_loss: 0.4453 - val_accuracy: 0.8378\n",
      "Epoch 6/20\n",
      "246/246 [==============================] - 268s 1s/step - loss: 0.4210 - accuracy: 0.8424 - val_loss: 0.4447 - val_accuracy: 0.8379\n",
      "Epoch 7/20\n",
      "246/246 [==============================] - 263s 1s/step - loss: 0.4183 - accuracy: 0.8431 - val_loss: 0.4448 - val_accuracy: 0.8378\n",
      "Epoch 8/20\n",
      "246/246 [==============================] - 257s 1s/step - loss: 0.4169 - accuracy: 0.8431 - val_loss: 0.4440 - val_accuracy: 0.8378\n",
      "Epoch 9/20\n",
      "246/246 [==============================] - 196s 798ms/step - loss: 0.4154 - accuracy: 0.8435 - val_loss: 0.4484 - val_accuracy: 0.8380\n",
      "Epoch 10/20\n",
      "246/246 [==============================] - 184s 748ms/step - loss: 0.4142 - accuracy: 0.8439 - val_loss: 0.4425 - val_accuracy: 0.8378\n",
      "Epoch 11/20\n",
      "246/246 [==============================] - 184s 746ms/step - loss: 0.4133 - accuracy: 0.8444 - val_loss: 0.4427 - val_accuracy: 0.8381\n",
      "Epoch 12/20\n",
      "246/246 [==============================] - 184s 747ms/step - loss: 0.4120 - accuracy: 0.8448 - val_loss: 0.4496 - val_accuracy: 0.8378\n",
      "Epoch 13/20\n",
      "246/246 [==============================] - 183s 744ms/step - loss: 0.4107 - accuracy: 0.8443 - val_loss: 0.4422 - val_accuracy: 0.8379\n",
      "Epoch 14/20\n",
      "246/246 [==============================] - 185s 754ms/step - loss: 0.4100 - accuracy: 0.8451 - val_loss: 0.4417 - val_accuracy: 0.8384\n",
      "Epoch 15/20\n",
      "246/246 [==============================] - 185s 752ms/step - loss: 0.4091 - accuracy: 0.8455 - val_loss: 0.4485 - val_accuracy: 0.8382\n",
      "Epoch 16/20\n",
      "246/246 [==============================] - 183s 744ms/step - loss: 0.4082 - accuracy: 0.8459 - val_loss: 0.4453 - val_accuracy: 0.8378\n",
      "Epoch 17/20\n",
      "246/246 [==============================] - 185s 754ms/step - loss: 0.4071 - accuracy: 0.8460 - val_loss: 0.4433 - val_accuracy: 0.8382\n",
      "Epoch 18/20\n",
      "246/246 [==============================] - 189s 767ms/step - loss: 0.4066 - accuracy: 0.8463 - val_loss: 0.4475 - val_accuracy: 0.8381\n",
      "Epoch 19/20\n",
      "246/246 [==============================] - 184s 750ms/step - loss: 0.4055 - accuracy: 0.8464 - val_loss: 0.4493 - val_accuracy: 0.8382\n",
      "Epoch 20/20\n",
      "246/246 [==============================] - 185s 751ms/step - loss: 0.4046 - accuracy: 0.8471 - val_loss: 0.4470 - val_accuracy: 0.8384\n"
     ]
    }
   ],
   "source": [
    "#model.load_weights('modelMSFTlstmClassification.h5')\n",
    "lstmMSFT=model.fit(trainX_lstm, trainY_lstm, validation_data=(valiX_lstm, valiY_lstm), epochs=20, batch_size=256)"
   ]
  },
  {
   "cell_type": "code",
   "execution_count": 23,
   "metadata": {},
   "outputs": [],
   "source": [
    "#model.save('modelMSFTlstmClassification.h5')"
   ]
  },
  {
   "cell_type": "code",
   "execution_count": 24,
   "metadata": {},
   "outputs": [
    {
     "name": "stdout",
     "output_type": "stream",
     "text": [
      "653/653 [==============================] - 28s 41ms/step\n"
     ]
    },
    {
     "data": {
      "text/plain": [
       "array([[0.8873944 , 0.11260553],\n",
       "       [0.88216615, 0.11783384],\n",
       "       [0.87047344, 0.12952651],\n",
       "       ...,\n",
       "       [0.5153337 , 0.4846663 ],\n",
       "       [0.5138073 , 0.48619267],\n",
       "       [0.50802183, 0.4919781 ]], dtype=float32)"
      ]
     },
     "execution_count": 24,
     "metadata": {},
     "output_type": "execute_result"
    }
   ],
   "source": [
    "P_lstm = model.predict(testX_lstm)\n",
    "p_lstmj= np.round(P_lstm)\n",
    "P_lstm"
   ]
  },
  {
   "cell_type": "code",
   "execution_count": 25,
   "metadata": {},
   "outputs": [
    {
     "name": "stdout",
     "output_type": "stream",
     "text": [
      "accuracy_score: 0.8153986201609812\n",
      "              precision    recall  f1-score   support\n",
      "\n",
      "           0     0.8221    0.9881    0.8975     17066\n",
      "           1     0.4345    0.0410    0.0749      3806\n",
      "\n",
      "    accuracy                         0.8154     20872\n",
      "   macro avg     0.6283    0.5145    0.4862     20872\n",
      "weighted avg     0.7514    0.8154    0.7475     20872\n",
      "\n"
     ]
    }
   ],
   "source": [
    "from sklearn.metrics import classification_report, accuracy_score\n",
    "print('accuracy_score:', accuracy_score(np.argmax(testY_lstm, axis=1), np.argmax(p_lstmj, axis=1)))\n",
    "print(classification_report(np.argmax(testY_lstm, axis=1), np.argmax(p_lstmj, axis=1), digits=4))"
   ]
  },
  {
   "cell_type": "code",
   "execution_count": 26,
   "metadata": {},
   "outputs": [
    {
     "data": {
      "image/png": "[encoded data removed]",
      "text/plain": [
       "<Figure size 432x288 with 2 Axes>"
      ]
     },
     "metadata": {
      "needs_background": "light"
     },
     "output_type": "display_data"
    }
   ],
   "source": [
    "from sklearn.metrics import confusion_matrix, ConfusionMatrixDisplay\n",
    "cm_lstm = confusion_matrix(testY_lstm.argmax(axis=1), p_lstmj.argmax(axis=1),normalize='all')#true', 'pred', 'all'\n",
    "disp_lstm = ConfusionMatrixDisplay(confusion_matrix=cm_lstm,display_labels=['sta','diff'])\n",
    "disp_lstm.plot()\n",
    "disp_lstm.ax_.set_title(\"Confusion Matrix LSTM\");"
   ]
  },
  {
   "cell_type": "markdown",
   "metadata": {},
   "source": [
    "Naive Gaussian Classifier\n",
    "==="
   ]
  },
  {
   "cell_type": "code",
   "execution_count": 27,
   "metadata": {},
   "outputs": [
    {
     "name": "stdout",
     "output_type": "stream",
     "text": [
      "[0. 0. 0. ... 0. 0. 0.] [0. 0. 0. ... 0. 0. 0.]\n"
     ]
    }
   ],
   "source": [
    "rng = np.random.RandomState(1)\n",
    "X = n_train[['aOF_1'\t,'bOF_1'\t,'aOF_2'\t,'bOF_2'\t,'aOF_3',\t'bOF_3']].to_numpy()\n",
    "y = n_train['h'].to_numpy()\n",
    "Xte = n_vali[['aOF_1'\t,'bOF_1'\t,'aOF_2'\t,'bOF_2'\t,'aOF_3',\t'bOF_3']].to_numpy()\n",
    "Yte = n_vali['h'].to_numpy()#['h'].to_numpy()\n",
    "from sklearn.naive_bayes import CategoricalNB\n",
    "from sklearn.naive_bayes import GaussianNB\n",
    "from sklearn.naive_bayes import MultinomialNB\n",
    "clf = GaussianNB()\n",
    "clf.fit(X, y)\n",
    "predNB = clf.predict(Xte)\n",
    "encPr=np_utils.to_categorical(predNB)\n",
    "#encTe=np_utils.to_categorical(Yte)\n",
    "print(predNB,Yte)"
   ]
  },
  {
   "cell_type": "code",
   "execution_count": 28,
   "metadata": {},
   "outputs": [],
   "source": [
    "encTe=np_utils.to_categorical(n_vali['h'].to_numpy())"
   ]
  },
  {
   "cell_type": "code",
   "execution_count": 29,
   "metadata": {},
   "outputs": [
    {
     "name": "stdout",
     "output_type": "stream",
     "text": [
      "accuracy_score: 0.8256163273091411\n",
      "              precision    recall  f1-score   support\n",
      "\n",
      "           0     0.8447    0.9702    0.9031     17563\n",
      "           1     0.3438    0.0804    0.1303      3408\n",
      "\n",
      "    accuracy                         0.8256     20971\n",
      "   macro avg     0.5942    0.5253    0.5167     20971\n",
      "weighted avg     0.7633    0.8256    0.7775     20971\n",
      "\n"
     ]
    }
   ],
   "source": [
    "print('accuracy_score:', accuracy_score(np.argmax(encTe, axis=1), np.argmax(encPr, axis=1)))\n",
    "print(classification_report(np.argmax(encTe, axis=1), np.argmax(encPr, axis=1), digits=4))"
   ]
  },
  {
   "cell_type": "code",
   "execution_count": 30,
   "metadata": {},
   "outputs": [
    {
     "data": {
      "image/png": "[encoded data removed]",
      "text/plain": [
       "<Figure size 432x288 with 2 Axes>"
      ]
     },
     "metadata": {
      "needs_background": "light"
     },
     "output_type": "display_data"
    }
   ],
   "source": [
    "from sklearn.metrics import confusion_matrix, ConfusionMatrixDisplay\n",
    "cmNaiv = confusion_matrix(encTe.argmax(axis=1), encPr.argmax(axis=1),normalize='all')\n",
    "dispNaiv = ConfusionMatrixDisplay(confusion_matrix=cmNaiv,display_labels=['stats','diff'])\n",
    "dispNaiv.plot()\n",
    "dispNaiv.ax_.set_title(\"Confusion Matrix Naive\");"
   ]
  },
  {
   "cell_type": "code",
   "execution_count": 31,
   "metadata": {},
   "outputs": [
    {
     "data": {
      "image/png": "[encoded data removed]",
      "text/plain": [
       "<Figure size 1080x720 with 6 Axes>"
      ]
     },
     "metadata": {
      "needs_background": "light"
     },
     "output_type": "display_data"
    }
   ],
   "source": [
    "fig, ax = plt.subplots(1,3, figsize=(15,10))\n",
    "ax[0].set_title(\"CNN/LSTM\")\n",
    "ax[1].set_title(\"LSTM\")\n",
    "ax[2].set_title(\"Naive\")\n",
    "\n",
    "cm = confusion_matrix(testY.argmax(axis=1), pj.argmax(axis=1),normalize='all')#true', 'pred', 'all'\n",
    "disp = ConfusionMatrixDisplay(confusion_matrix=cm,display_labels=['$<0.02$ (lower)','$>0.02$ (higher)'])\n",
    "disp.plot(ax=ax[0])\n",
    "disp.ax_.set_title(\"Confusion Matrix CNN/LSTM\")\n",
    "cm_lstm = confusion_matrix(testY_lstm.argmax(axis=1), p_lstmj.argmax(axis=1),normalize='all')#true', 'pred', 'all'\n",
    "disp_lstm = ConfusionMatrixDisplay(confusion_matrix=cm_lstm,display_labels=['$<0.02$ (lower)','$>0.02$ (higher)'])\n",
    "disp_lstm.plot(ax=ax[1])\n",
    "disp_lstm.ax_.set_title(\"Confusion Matrix LSTM\")\n",
    "cmNaiv = confusion_matrix(encTe.argmax(axis=1), encPr.argmax(axis=1),normalize='all')\n",
    "dispNaiv = ConfusionMatrixDisplay(confusion_matrix=cmNaiv,display_labels=['$<0.02$ (lower)','$>0.02$ (higher)'])\n",
    "dispNaiv.plot(ax=ax[2])\n",
    "dispNaiv.ax_.set_title(\"Confusion Matrix Naive\");"
   ]
  },
  {
   "cell_type": "code",
   "execution_count": 34,
   "metadata": {},
   "outputs": [
    {
     "data": {
      "image/png": "[encoded data removed]",
      "text/plain": [
       "<Figure size 1080x720 with 6 Axes>"
      ]
     },
     "metadata": {
      "needs_background": "light"
     },
     "output_type": "display_data"
    }
   ],
   "source": [
    "fig, ax = plt.subplots(1,3, figsize=(15,10))\n",
    "ax[0].set_title(\"CNN/LSTM\")\n",
    "ax[1].set_title(\"LSTM\")\n",
    "ax[2].set_title(\"Naive\")\n",
    "\n",
    "cm = confusion_matrix(testY.argmax(axis=1), pj.argmax(axis=1),normalize='pred')#true', 'pred', 'all'\n",
    "disp = ConfusionMatrixDisplay(confusion_matrix=cm,display_labels=['$<0.02$ (lower)','$>0.02$ (higher)'])\n",
    "disp.plot(ax=ax[0])\n",
    "disp.ax_.set_title(\"Confusion Matrix CNN/LSTM\")\n",
    "cm_lstm = confusion_matrix(testY_lstm.argmax(axis=1), p_lstmj.argmax(axis=1),normalize='pred')#true', 'pred', 'all'\n",
    "disp_lstm = ConfusionMatrixDisplay(confusion_matrix=cm_lstm,display_labels=['$<0.02$ (lower)','$>0.02$ (higher)'])\n",
    "disp_lstm.plot(ax=ax[1])\n",
    "disp_lstm.ax_.set_title(\"Confusion Matrix LSTM\")\n",
    "cmNaiv = confusion_matrix(encTe.argmax(axis=1), encPr.argmax(axis=1),normalize='pred')\n",
    "dispNaiv = ConfusionMatrixDisplay(confusion_matrix=cmNaiv,display_labels=['$<0.02$ (lower)','$>0.02$ (higher)'])\n",
    "dispNaiv.plot(ax=ax[2])\n",
    "dispNaiv.ax_.set_title(\"Confusion Matrix Naive\");"
   ]
  },
  {
   "cell_type": "code",
   "execution_count": 33,
   "metadata": {},
   "outputs": [
    {
     "data": {
      "image/png": "[encoded data removed]",
      "text/plain": [
       "<Figure size 1080x720 with 6 Axes>"
      ]
     },
     "metadata": {
      "needs_background": "light"
     },
     "output_type": "display_data"
    }
   ],
   "source": [
    "fig, ax = plt.subplots(1,3, figsize=(15,10))\n",
    "ax[0].set_title(\"CNN/LSTM\")\n",
    "ax[1].set_title(\"LSTM\")\n",
    "ax[2].set_title(\"Naive\")\n",
    "\n",
    "cm = confusion_matrix(testY.argmax(axis=1), pj.argmax(axis=1),normalize='all')#true', 'pred', 'all'\n",
    "disp = ConfusionMatrixDisplay(confusion_matrix=cm,display_labels=['$<0.02$ (lower)','$>0.02$ (higher)'])\n",
    "disp.plot(ax=ax[0])\n",
    "disp.ax_.set_title(\"Confusion Matrix CNN/LSTM\")\n",
    "cm_lstm = confusion_matrix(testY_lstm.argmax(axis=1), p_lstmj.argmax(axis=1),normalize='all')#true', 'pred', 'all'\n",
    "disp_lstm = ConfusionMatrixDisplay(confusion_matrix=cm_lstm,display_labels=['$<0.02$ (lower)','$>0.02$ (higher)'])\n",
    "disp_lstm.plot(ax=ax[1])\n",
    "disp_lstm.ax_.set_title(\"Confusion Matrix LSTM\")\n",
    "cmNaiv = confusion_matrix(encTe.argmax(axis=1), encPr.argmax(axis=1),normalize='all')\n",
    "dispNaiv = ConfusionMatrixDisplay(confusion_matrix=cmNaiv,display_labels=['$<0.02$ (lower)','$>0.02$ (higher)'])\n",
    "dispNaiv.plot(ax=ax[2])\n",
    "dispNaiv.ax_.set_title(\"Confusion Matrix Naive\");\n",
    "#plt.tight_layout()  ;"
   ]
  },
  {
   "cell_type": "code",
   "execution_count": null,
   "metadata": {},
   "outputs": [
    {
     "data": {
      "text/plain": [
       "0.9980000000000001"
      ]
     },
     "execution_count": 41,
     "metadata": {},
     "output_type": "execute_result"
    }
   ],
   "source": []
  },
  {
   "cell_type": "markdown",
   "metadata": {},
   "source": [
    "1) Precision is a measure of how many of the positive predictions made are correct (true positives).\n",
    "2) Accuracy describes the number of correct predictions over all predictions (TP+TN)/sizePop.\n",
    "3) Recall is a measure of how many of the positive cases the classifier correctly predicted, over all the positive cases in the data.\n",
    "4) F1 provides a single metric that weights the two ratios (precision and recall) in a balanced way.\n",
    "    - Very small precision or recall will result in lower overall score. Thus it helps balance the two metrics.\n",
    "    - If you choose your positive class as the one with fewer samples, F1-score can help balance the metric across positive/negative samples."
   ]
  }
 ],
 "metadata": {
  "kernelspec": {
   "display_name": "Python 3.9.12 ('base')",
   "language": "python",
   "name": "python3"
  },
  "language_info": {
   "codemirror_mode": {
    "name": "ipython",
    "version": 3
   },
   "file_extension": ".py",
   "mimetype": "text/x-python",
   "name": "python",
   "nbconvert_exporter": "python",
   "pygments_lexer": "ipython3",
   "version": "3.9.12"
  },
  "orig_nbformat": 4,
  "vscode": {
   "interpreter": {
    "hash": "597e2b791014bf3f975e304e1e72922cb6b9245e0453d34e2c818a7120fc527f"
   }
  }
 },
 "nbformat": 4,
 "nbformat_minor": 2
}
