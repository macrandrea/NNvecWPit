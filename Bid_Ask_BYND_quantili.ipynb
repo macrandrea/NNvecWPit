{
 "cells": [
  {
   "cell_type": "code",
   "execution_count": 1,
   "metadata": {},
   "outputs": [],
   "source": [
    "import os\n",
    "import utils\n",
    "import pandas as pd\n",
    "import numpy  as np\n",
    "import matplotlib.pyplot as plt\n",
    "from pandas.tseries.offsets import *\n",
    "import statsmodels.formula.api as smf\n",
    "from glob import glob\n",
    "from datetime import datetime\n",
    "import tensorflow as tf\n",
    "import keras\n",
    "from keras import Input, layers\n",
    "from keras.models import Model\n",
    "from keras.layers import Flatten, Dense, Dropout, Activation, Input, LSTM, Reshape, Conv2D, MaxPooling2D, LeakyReLU, GlobalMaxPooling1D\n",
    "from keras.optimizers import Adam\n",
    "from keras.utils import np_utils\n",
    "import random\n",
    "from sklearn.metrics import mean_squared_error as mse\n",
    "from sklearn.metrics import r2_score\n",
    "from scipy import stats\n",
    "from sklearn.linear_model import LinearRegression\n",
    "from fireTS.models import NARX\n",
    "seed_value = 2022\n",
    "random.seed(seed_value)\n",
    "np.random.seed(seed_value)\n",
    "tf.random.set_seed(seed_value)\n",
    "from sklearn.preprocessing import QuantileTransformer \n",
    "normalizer = QuantileTransformer(output_distribution='normal')"
   ]
  },
  {
   "cell_type": "code",
   "execution_count": 2,
   "metadata": {},
   "outputs": [],
   "source": [
    "def baSpread(x):\n",
    "    a=x['AP1'].values.tolist()\n",
    "    b=x['BP1'].values.tolist()\n",
    "    bas=np.empty(len(x))\n",
    "    for i in range(len(a)):\n",
    "       bas[i]=(a[i]/10**4-b[i]/10**4)#/(a[i]+b[i])*10**4\n",
    "    return bas"
   ]
  },
  {
   "cell_type": "code",
   "execution_count": 3,
   "metadata": {},
   "outputs": [],
   "source": [
    "lob_data=utils.caricaLOB('bynd',0.05)\n",
    "ld=lob_data.values.tolist()\n",
    "of=utils.OF_1(ld)\n",
    "bCols=np.ravel([['aOF_%d'%level, 'bOF_%d'%level] for level in [1,2,3]])\n",
    "of_data=pd.DataFrame(of, columns=bCols)\n",
    "m=pd.DataFrame(utils.midPrice(lob_data),columns=['m'])\n",
    "m['r']=m['m'].pct_change().fillna(0).copy()\n",
    "b=pd.DataFrame(baSpread(lob_data),columns=['spread'])\n"
   ]
  },
  {
   "cell_type": "code",
   "execution_count": 26,
   "metadata": {},
   "outputs": [],
   "source": [
    "spread=b['spread'].to_numpy()\n",
    "d=np.log(b).diff().fillna(0).to_numpy().flatten()\n",
    "hot=np.empty(len(d))\n",
    "for i in range(0,len(hot)):\n",
    "    if spread[i]>=0.15: #spread[i]-spread[i-1]>0.03:\n",
    "        hot[i]=1 #se spread[i]>soglia up\n",
    "    elif spread[i]<=0.03: #-spread[i-1]<0.02:\n",
    "        hot[i]=2 #se spread[i]<soglia lo\n",
    "    else:\n",
    "        hot[i]=0\n",
    "#plt.plot(hot);"
   ]
  },
  {
   "cell_type": "code",
   "execution_count": 5,
   "metadata": {},
   "outputs": [
    {
     "data": {
      "text/plain": [
       "(0.15000000000000568, 0.030000000000001137)"
      ]
     },
     "execution_count": 5,
     "metadata": {},
     "output_type": "execute_result"
    }
   ],
   "source": [
    "np.quantile(spread,0.9), np.quantile(spread,0.1)"
   ]
  },
  {
   "cell_type": "code",
   "execution_count": 27,
   "metadata": {},
   "outputs": [
    {
     "data": {
      "text/plain": [
       "(13130, 16190)"
      ]
     },
     "execution_count": 27,
     "metadata": {},
     "output_type": "execute_result"
    }
   ],
   "source": [
    "c=0\n",
    "d=0\n",
    "for i in range(len(spread)):\n",
    "    if spread[i]<=0.03:\n",
    "        c=c+1\n",
    "    elif spread[i]>=0.15:\n",
    "        d=d+1\n",
    "c,d"
   ]
  },
  {
   "cell_type": "code",
   "execution_count": 7,
   "metadata": {},
   "outputs": [
    {
     "data": {
      "text/plain": [
       "ModeResult(mode=array([[0.05]]), count=array([[13518]]))"
      ]
     },
     "execution_count": 7,
     "metadata": {},
     "output_type": "execute_result"
    }
   ],
   "source": [
    "stats.mode(b)"
   ]
  },
  {
   "cell_type": "code",
   "execution_count": 28,
   "metadata": {},
   "outputs": [
    {
     "data": {
      "text/plain": [
       "(array([0., 0., 0., ..., 0., 0., 0.]),\n",
       " array([0.05, 0.05, 0.1 , ..., 0.11, 0.07, 0.11]))"
      ]
     },
     "execution_count": 28,
     "metadata": {},
     "output_type": "execute_result"
    }
   ],
   "source": [
    "hot,spread"
   ]
  },
  {
   "cell_type": "code",
   "execution_count": 9,
   "metadata": {},
   "outputs": [
    {
     "data": {
      "text/plain": [
       "[<matplotlib.lines.Line2D at 0x20a196ad6d0>]"
      ]
     },
     "execution_count": 9,
     "metadata": {},
     "output_type": "execute_result"
    },
    {
     "data": {
      "image/png": "[encoded data removed]",
      "text/plain": [
       "<Figure size 432x288 with 1 Axes>"
      ]
     },
     "metadata": {
      "needs_background": "light"
     },
     "output_type": "display_data"
    }
   ],
   "source": [
    "plt.plot(spread)"
   ]
  },
  {
   "cell_type": "markdown",
   "metadata": {},
   "source": [
    "CNN-LSTM Classifier\n",
    "==="
   ]
  },
  {
   "cell_type": "code",
   "execution_count": 29,
   "metadata": {},
   "outputs": [],
   "source": [
    "def prepare_x_y(of, lag=100, dimension=6):\n",
    "    ex = of[['aOF_1','bOF_1','aOF_2','bOF_2','aOF_3','bOF_3']].to_numpy()#\n",
    "    uai= of['h'].to_numpy() #.pct_change().fillna(0)['r']\n",
    "    shape = of.shape\n",
    "    dimension=6\n",
    "    lag = 100\n",
    "    x=np.empty((shape[0]-lag, lag, dimension))\n",
    "    y=np.empty((shape[0]-lag,1))\n",
    "    for i in range(shape[0]-lag):\n",
    "        x[i]=ex[i:i+lag]\n",
    "        y[i]=uai[i+lag-1]\n",
    "\n",
    "    X=x.reshape(-1,lag,6,1)\n",
    "\n",
    "    Y = np_utils.to_categorical(y.astype(int),3)\n",
    "\n",
    "    return X,Y"
   ]
  },
  {
   "cell_type": "code",
   "execution_count": 30,
   "metadata": {},
   "outputs": [
    {
     "name": "stdout",
     "output_type": "stream",
     "text": [
      "(90368, 100, 6, 1) (90368, 3)\n",
      "(30056, 100, 6, 1) (30056, 3)\n",
      "(30056, 100, 6, 1) (30056, 3)\n"
     ]
    }
   ],
   "source": [
    "V = int(len(of)*0.6)\n",
    "T = int(len(of)*0.8)\n",
    "\n",
    "n_train     = of_data.iloc[ :V].copy()\n",
    "n_vali      = of_data.iloc[V:T].copy()\n",
    "n_test      = of_data.iloc[T: ].copy()\n",
    "\n",
    "n_train = n_train.apply(lambda x : utils.taglia_e_cuci(x), axis=1, raw=True)\n",
    "n_vali  = n_vali .apply(lambda x : utils.taglia_e_cuci(x), axis=1, raw=True)\n",
    "n_test  = n_test .apply(lambda x : utils.taglia_e_cuci(x), axis=1, raw=True)\n",
    "\n",
    "x_vars = of_data.columns#[:-1]\n",
    "\n",
    "# Normalize Features\n",
    "# Dividing by the standard deviation estimated using the training set\n",
    "for x_var in x_vars:\n",
    "    sd = n_train[x_var].std()\n",
    "    n_train[x_var] = n_train[x_var] / sd\n",
    "    n_vali [x_var] = n_vali [x_var] / sd\n",
    "    n_test [x_var] = n_test [x_var] / sd\n",
    "\n",
    "n_train['h'] = hot[ :V]\n",
    "n_vali ['h'] = hot[V:T]\n",
    "n_test ['h'] = hot[T: ]\n",
    "#of=of_data\n",
    "\n",
    "trainX,trainY = prepare_x_y  (n_train)    \n",
    "valiX ,valiY  = prepare_x_y  (n_vali )    \n",
    "testX ,testY  = prepare_x_y  (n_test )   \n",
    "\n",
    "\n",
    "print(trainX.shape ,trainY.shape)\n",
    "print(valiX.shape  ,valiY .shape)\n",
    "print(testX.shape  ,testY .shape)"
   ]
  },
  {
   "cell_type": "code",
   "execution_count": 31,
   "metadata": {},
   "outputs": [
    {
     "data": {
      "text/plain": [
       "array([[0., 0., 1.],\n",
       "       [1., 0., 0.],\n",
       "       [1., 0., 0.],\n",
       "       ...,\n",
       "       [1., 0., 0.],\n",
       "       [1., 0., 0.],\n",
       "       [1., 0., 0.]], dtype=float32)"
      ]
     },
     "execution_count": 31,
     "metadata": {},
     "output_type": "execute_result"
    }
   ],
   "source": [
    "testY"
   ]
  },
  {
   "cell_type": "code",
   "execution_count": 32,
   "metadata": {},
   "outputs": [
    {
     "name": "stdout",
     "output_type": "stream",
     "text": [
      "Model: \"model_1\"\n",
      "__________________________________________________________________________________________________\n",
      " Layer (type)                   Output Shape         Param #     Connected to                     \n",
      "==================================================================================================\n",
      " input_2 (InputLayer)           [(None, 100, 6, 1)]  0           []                               \n",
      "                                                                                                  \n",
      " conv2d_9 (Conv2D)              (None, 100, 3, 32)   96          ['input_2[0][0]']                \n",
      "                                                                                                  \n",
      " leaky_re_lu_9 (LeakyReLU)      (None, 100, 3, 32)   0           ['conv2d_9[0][0]']               \n",
      "                                                                                                  \n",
      " conv2d_10 (Conv2D)             (None, 100, 3, 32)   4128        ['leaky_re_lu_9[0][0]']          \n",
      "                                                                                                  \n",
      " leaky_re_lu_10 (LeakyReLU)     (None, 100, 3, 32)   0           ['conv2d_10[0][0]']              \n",
      "                                                                                                  \n",
      " conv2d_11 (Conv2D)             (None, 100, 3, 32)   4128        ['leaky_re_lu_10[0][0]']         \n",
      "                                                                                                  \n",
      " leaky_re_lu_11 (LeakyReLU)     (None, 100, 3, 32)   0           ['conv2d_11[0][0]']              \n",
      "                                                                                                  \n",
      " conv2d_12 (Conv2D)             (None, 100, 1, 16)   5136        ['leaky_re_lu_11[0][0]']         \n",
      "                                                                                                  \n",
      " leaky_re_lu_12 (LeakyReLU)     (None, 100, 1, 16)   0           ['conv2d_12[0][0]']              \n",
      "                                                                                                  \n",
      " conv2d_13 (Conv2D)             (None, 100, 1, 64)   1088        ['leaky_re_lu_12[0][0]']         \n",
      "                                                                                                  \n",
      " conv2d_15 (Conv2D)             (None, 100, 1, 64)   1088        ['leaky_re_lu_12[0][0]']         \n",
      "                                                                                                  \n",
      " leaky_re_lu_13 (LeakyReLU)     (None, 100, 1, 64)   0           ['conv2d_13[0][0]']              \n",
      "                                                                                                  \n",
      " leaky_re_lu_15 (LeakyReLU)     (None, 100, 1, 64)   0           ['conv2d_15[0][0]']              \n",
      "                                                                                                  \n",
      " max_pooling2d_1 (MaxPooling2D)  (None, 100, 1, 16)  0           ['leaky_re_lu_12[0][0]']         \n",
      "                                                                                                  \n",
      " conv2d_14 (Conv2D)             (None, 100, 1, 64)   12352       ['leaky_re_lu_13[0][0]']         \n",
      "                                                                                                  \n",
      " conv2d_16 (Conv2D)             (None, 100, 1, 64)   20544       ['leaky_re_lu_15[0][0]']         \n",
      "                                                                                                  \n",
      " conv2d_17 (Conv2D)             (None, 100, 1, 64)   1088        ['max_pooling2d_1[0][0]']        \n",
      "                                                                                                  \n",
      " leaky_re_lu_14 (LeakyReLU)     (None, 100, 1, 64)   0           ['conv2d_14[0][0]']              \n",
      "                                                                                                  \n",
      " leaky_re_lu_16 (LeakyReLU)     (None, 100, 1, 64)   0           ['conv2d_16[0][0]']              \n",
      "                                                                                                  \n",
      " leaky_re_lu_17 (LeakyReLU)     (None, 100, 1, 64)   0           ['conv2d_17[0][0]']              \n",
      "                                                                                                  \n",
      " concatenate_1 (Concatenate)    (None, 100, 1, 192)  0           ['leaky_re_lu_14[0][0]',         \n",
      "                                                                  'leaky_re_lu_16[0][0]',         \n",
      "                                                                  'leaky_re_lu_17[0][0]']         \n",
      "                                                                                                  \n",
      " reshape_1 (Reshape)            (None, 100, 192)     0           ['concatenate_1[0][0]']          \n",
      "                                                                                                  \n",
      " dropout_1 (Dropout)            (None, 100, 192)     0           ['reshape_1[0][0]']              \n",
      "                                                                                                  \n",
      " lstm_1 (LSTM)                  (None, 64)           65792       ['dropout_1[0][0]']              \n",
      "                                                                                                  \n",
      " dense_1 (Dense)                (None, 3)            195         ['lstm_1[0][0]']                 \n",
      "                                                                                                  \n",
      "==================================================================================================\n",
      "Total params: 115,635\n",
      "Trainable params: 115,635\n",
      "Non-trainable params: 0\n",
      "__________________________________________________________________________________________________\n"
     ]
    }
   ],
   "source": [
    "\n",
    "def create_nn(T, NF,number_of_lstm):\n",
    "\n",
    "    input_lmd = tf.keras.Input(shape=(T, NF, 1))\n",
    "\n",
    "    conv_first1 = Conv2D(32, kernel_size=(1, 2), strides=(1, 2))(input_lmd)\n",
    "    conv_first1 = keras.layers.LeakyReLU(alpha=0.01)(conv_first1)\n",
    "    conv_first1 = Conv2D(32, (4, 1), padding='same')(conv_first1)\n",
    "    conv_first1 = keras.layers.LeakyReLU(alpha=0.01)(conv_first1)\n",
    "    conv_first1 = Conv2D(32, (4, 1), padding='same')(conv_first1)\n",
    "    conv_first1 = keras.layers.LeakyReLU(alpha=0.01)(conv_first1)\n",
    "    #\n",
    "    layer_x = layers.Conv2D(filters=16, kernel_size=(10,1),strides=(1,10), padding='same')(conv_first1)\n",
    "    layer_x = layers.LeakyReLU(alpha=0.01)(layer_x)\n",
    "    # inception\n",
    "    convsecond_1 = Conv2D(64, (1, 1), padding='same', strides=(1,1))(layer_x)\n",
    "    convsecond_1 = keras.layers.LeakyReLU(alpha=0.01)(convsecond_1)\n",
    "    convsecond_1 = Conv2D(64, (3, 1), padding='same', strides=(1,1))(convsecond_1)\n",
    "    convsecond_1 = keras.layers.LeakyReLU(alpha=0.01)(convsecond_1)\n",
    "\n",
    "    convsecond_2 = Conv2D(64, (1, 1), padding='same', strides=(1,1))(layer_x)\n",
    "    convsecond_2 = keras.layers.LeakyReLU(alpha=0.01)(convsecond_2)\n",
    "    convsecond_2 = Conv2D(64, (5, 1), padding='same', strides=(1,1))(convsecond_2)\n",
    "    convsecond_2 = keras.layers.LeakyReLU(alpha=0.01)(convsecond_2)\n",
    "\n",
    "    convsecond_3 = MaxPooling2D((3, 1), strides=(1, 1), padding='same')(layer_x)\n",
    "    convsecond_3 = Conv2D(64, (1, 1), padding='same', strides=(1,1))(convsecond_3)\n",
    "    convsecond_3 = keras.layers.LeakyReLU(alpha=0.01)(convsecond_3)\n",
    "    \n",
    "    convsecond_output = keras.layers.concatenate([convsecond_1, convsecond_2, convsecond_3], axis=3)\n",
    "    conv_reshape = Reshape((int(convsecond_output.shape[1]), int(convsecond_output.shape[3])))(convsecond_output)\n",
    "    conv_reshape = keras.layers.Dropout(0.7, noise_shape=(None, 1, int(conv_reshape.shape[2])))(conv_reshape, training=True)\n",
    "\n",
    "    # build the last LSTM layer\n",
    "    conv_lstm = LSTM(number_of_lstm)(conv_reshape)\n",
    "\n",
    "    # build the output layer\n",
    "    out = Dense(3, activation='softmax')(conv_lstm)\n",
    "    model = Model(inputs=input_lmd, outputs=out)\n",
    "    adam = keras.optimizers.Adam(learning_rate=0.0001)\n",
    "    model.compile(optimizer=adam, loss='categorical_crossentropy', metrics=['accuracy'])#\n",
    "\n",
    "    return model\n",
    "checkpoint_filepath = './model_tensorflow2/weights_class'\n",
    "deeplob = create_nn(100, 6, 64)\n",
    "deeplob.summary()"
   ]
  },
  {
   "cell_type": "code",
   "execution_count": 33,
   "metadata": {},
   "outputs": [],
   "source": [
    "callback=tf.keras.callbacks.EarlyStopping(\n",
    "    monitor='val_loss',\n",
    "    min_delta=0,\n",
    "    patience=5,\n",
    "    verbose=1,\n",
    "    mode='auto',\n",
    "    baseline=None,\n",
    "    restore_best_weights=False\n",
    ")\n",
    "saving = tf.keras.callbacks.ModelCheckpoint(\n",
    "    filepath=checkpoint_filepath,\n",
    "    save_weights_only=True,\n",
    "    monitor='val_loss',\n",
    "    mode='auto',\n",
    "    save_best_only=True)"
   ]
  },
  {
   "cell_type": "code",
   "execution_count": 34,
   "metadata": {},
   "outputs": [
    {
     "name": "stdout",
     "output_type": "stream",
     "text": [
      "Epoch 1/50\n",
      "353/353 [==============================] - 162s 453ms/step - loss: 0.6765 - accuracy: 0.8011 - val_loss: 0.5370 - val_accuracy: 0.8479\n",
      "Epoch 2/50\n",
      "353/353 [==============================] - 158s 447ms/step - loss: 0.6207 - accuracy: 0.8070 - val_loss: 0.5371 - val_accuracy: 0.8479\n",
      "Epoch 3/50\n",
      "353/353 [==============================] - 158s 448ms/step - loss: 0.6081 - accuracy: 0.8070 - val_loss: 0.5357 - val_accuracy: 0.8478\n",
      "Epoch 4/50\n",
      "353/353 [==============================] - 159s 450ms/step - loss: 0.5912 - accuracy: 0.8070 - val_loss: 0.5582 - val_accuracy: 0.8478\n",
      "Epoch 5/50\n",
      "353/353 [==============================] - 163s 463ms/step - loss: 0.5817 - accuracy: 0.8070 - val_loss: 0.5474 - val_accuracy: 0.8478\n",
      "Epoch 6/50\n",
      "353/353 [==============================] - 170s 482ms/step - loss: 0.5748 - accuracy: 0.8070 - val_loss: 0.5427 - val_accuracy: 0.8478\n",
      "Epoch 7/50\n",
      "353/353 [==============================] - 184s 522ms/step - loss: 0.5662 - accuracy: 0.8069 - val_loss: 0.5396 - val_accuracy: 0.8475\n",
      "Epoch 8/50\n",
      "353/353 [==============================] - 163s 463ms/step - loss: 0.5585 - accuracy: 0.8072 - val_loss: 0.5395 - val_accuracy: 0.8473\n",
      "Epoch 8: early stopping\n"
     ]
    }
   ],
   "source": [
    "#deeplob.load_weights('modelMSFTClassification.h5')\n",
    "simple=deeplob.fit(trainX, trainY, validation_data=(valiX, valiY),  epochs=50, batch_size=256,callbacks=[callback,saving])"
   ]
  },
  {
   "cell_type": "code",
   "execution_count": 35,
   "metadata": {},
   "outputs": [
    {
     "name": "stdout",
     "output_type": "stream",
     "text": [
      "940/940 [==============================] - 26s 27ms/step\n"
     ]
    },
    {
     "data": {
      "text/plain": [
       "array([[0.82089174, 0.01676698, 0.16234127],\n",
       "       [0.8489159 , 0.02137606, 0.129708  ],\n",
       "       [0.86919683, 0.05291688, 0.07788635],\n",
       "       ...,\n",
       "       [0.6996854 , 0.25909686, 0.04121775],\n",
       "       [0.76602113, 0.18501753, 0.04896135],\n",
       "       [0.7654877 , 0.18708366, 0.04742873]], dtype=float32)"
      ]
     },
     "execution_count": 35,
     "metadata": {},
     "output_type": "execute_result"
    }
   ],
   "source": [
    "P = deeplob.predict(testX)\n",
    "pj= np.round(P)\n",
    "P"
   ]
  },
  {
   "cell_type": "code",
   "execution_count": 36,
   "metadata": {},
   "outputs": [
    {
     "name": "stdout",
     "output_type": "stream",
     "text": [
      "accuracy_score: 0.758151450625499\n",
      "              precision    recall  f1-score   support\n",
      "\n",
      "           0     0.7590    0.9983    0.8624     22814\n",
      "           1     0.2895    0.0021    0.0042      5232\n",
      "           2     0.0769    0.0005    0.0010      2010\n",
      "\n",
      "    accuracy                         0.7582     30056\n",
      "   macro avg     0.3751    0.3336    0.2892     30056\n",
      "weighted avg     0.6317    0.7582    0.6554     30056\n",
      "\n"
     ]
    }
   ],
   "source": [
    "from sklearn.metrics import classification_report, accuracy_score\n",
    "print('accuracy_score:', accuracy_score(np.argmax(testY, axis=1), np.argmax(pj, axis=1)))\n",
    "print(classification_report(np.argmax(testY, axis=1), np.argmax(pj, axis=1), digits=4))"
   ]
  },
  {
   "cell_type": "code",
   "execution_count": 37,
   "metadata": {},
   "outputs": [
    {
     "data": {
      "image/png": "[encoded data removed]",
      "text/plain": [
       "<Figure size 432x288 with 2 Axes>"
      ]
     },
     "metadata": {
      "needs_background": "light"
     },
     "output_type": "display_data"
    }
   ],
   "source": [
    "from sklearn.metrics import confusion_matrix, ConfusionMatrixDisplay\n",
    "cm = confusion_matrix(testY.argmax(axis=1), pj.argmax(axis=1),normalize='all')#true', 'pred', 'all'\n",
    "disp = ConfusionMatrixDisplay(confusion_matrix=cm,display_labels=['sta','higher','lower'])\n",
    "disp.plot()\n",
    "disp.ax_.set_title(\"Confusion Matrix CNN/LSTM\");"
   ]
  },
  {
   "cell_type": "markdown",
   "metadata": {},
   "source": [
    "LSTM classifier\n",
    "==="
   ]
  },
  {
   "cell_type": "code",
   "execution_count": 38,
   "metadata": {},
   "outputs": [],
   "source": [
    "def prepare_x_y_lstm(of, lag=100, dimension=6):\n",
    "    ex = of[['aOF_1','bOF_1','aOF_2','bOF_2','aOF_3','bOF_3']].to_numpy()#\n",
    "    uai= of['h'].to_numpy() #.pct_change().fillna(0)['r']\n",
    "    shape = of.shape\n",
    "    dimension=6\n",
    "    lag = 100\n",
    "    x=np.empty((shape[0]-lag, lag, dimension))\n",
    "    y=np.empty((shape[0]-lag,1))\n",
    "    for i in range(shape[0]-lag):\n",
    "        x[i]=ex[i:i+lag]\n",
    "        y[i]=uai[i+lag-1]\n",
    "\n",
    "    X=x.reshape(-1,lag,6)\n",
    "\n",
    "    \n",
    "    Y = np_utils.to_categorical(y.astype(int),3)\n",
    "\n",
    "    return X,Y"
   ]
  },
  {
   "cell_type": "code",
   "execution_count": 39,
   "metadata": {},
   "outputs": [
    {
     "name": "stdout",
     "output_type": "stream",
     "text": [
      "(90368, 100, 6) (90368, 3)\n",
      "(30056, 100, 6) (30056, 3)\n",
      "(30056, 100, 6) (30056, 3)\n"
     ]
    }
   ],
   "source": [
    "V = int(len(of)*0.6)\n",
    "T = int(len(of)*0.8)\n",
    "\n",
    "n_train     = of_data.iloc[ :V].copy()\n",
    "n_vali      = of_data.iloc[V:T].copy()\n",
    "n_test      = of_data.iloc[T: ].copy()\n",
    "\n",
    "n_train = n_train.apply(lambda x : utils.taglia_e_cuci(x), axis=1, raw=True)\n",
    "n_vali  = n_vali .apply(lambda x : utils.taglia_e_cuci(x), axis=1, raw=True)\n",
    "n_test  = n_test .apply(lambda x : utils.taglia_e_cuci(x), axis=1, raw=True)\n",
    "\n",
    "x_vars = of_data.columns#[:-1]\n",
    "\n",
    "# Normalize Features\n",
    "# Dividing by the standard deviation estimated using the training set\n",
    "for x_var in x_vars:\n",
    "    sd = n_train[x_var].std()\n",
    "    n_train[x_var] = n_train[x_var] / sd\n",
    "    n_vali [x_var] = n_vali [x_var] / sd\n",
    "    n_test [x_var] = n_test [x_var] / sd\n",
    "\n",
    "n_train['h'] = hot[ :V]\n",
    "n_vali ['h'] = hot[V:T]\n",
    "n_test ['h'] = hot[T: ]\n",
    "#of=of_data\n",
    "\n",
    "trainX_lstm,trainY_lstm = prepare_x_y_lstm  (n_train)    \n",
    "valiX_lstm,valiY_lstm = prepare_x_y_lstm  (n_vali )    \n",
    "testX_lstm,testY_lstm = prepare_x_y_lstm  (n_test )   \n",
    "\n",
    "\n",
    "print(trainX_lstm.shape ,trainY_lstm .shape)\n",
    "print(valiX_lstm.shape  ,valiY_lstm .shape)\n",
    "print(testX_lstm.shape  ,testY_lstm .shape)"
   ]
  },
  {
   "cell_type": "code",
   "execution_count": 40,
   "metadata": {},
   "outputs": [
    {
     "name": "stdout",
     "output_type": "stream",
     "text": [
      "Model: \"model_2\"\n",
      "_________________________________________________________________\n",
      " Layer (type)                Output Shape              Param #   \n",
      "=================================================================\n",
      " input_3 (InputLayer)        [(None, 100, 6)]          0         \n",
      "                                                                 \n",
      " lstm_2 (LSTM)               (None, 100, 64)           18176     \n",
      "                                                                 \n",
      " leaky_re_lu_18 (LeakyReLU)  (None, 100, 64)           0         \n",
      "                                                                 \n",
      " lstm_3 (LSTM)               (None, 100, 64)           33024     \n",
      "                                                                 \n",
      " leaky_re_lu_19 (LeakyReLU)  (None, 100, 64)           0         \n",
      "                                                                 \n",
      " lstm_4 (LSTM)               (None, 100, 64)           33024     \n",
      "                                                                 \n",
      " leaky_re_lu_20 (LeakyReLU)  (None, 100, 64)           0         \n",
      "                                                                 \n",
      " dropout_2 (Dropout)         (None, 100, 64)           0         \n",
      "                                                                 \n",
      " global_max_pooling1d (Globa  (None, 64)               0         \n",
      " lMaxPooling1D)                                                  \n",
      "                                                                 \n",
      " dense_2 (Dense)             (None, 3)                 195       \n",
      "                                                                 \n",
      "=================================================================\n",
      "Total params: 84,419\n",
      "Trainable params: 84,419\n",
      "Non-trainable params: 0\n",
      "_________________________________________________________________\n"
     ]
    }
   ],
   "source": [
    "#architettura della rete\n",
    "num_units = 64\n",
    "activation_function = 'leaky_relu'\n",
    "adam = keras.optimizers.Adam(learning_rate=0.001)\n",
    "loss_function = 'categorical_crossentropy'\n",
    "batch_size = 250\n",
    "num_epochs = 50\n",
    "i = Input(shape=(100, 6))\n",
    "x = LSTM(64, return_sequences=True)(i)\n",
    "x = keras.layers.LeakyReLU(alpha=0.01)(x)\n",
    "x = LSTM(64, return_sequences=True)(x)\n",
    "x = keras.layers.LeakyReLU(alpha=0.01)(x)\n",
    "x = LSTM(64, return_sequences=True)(x)\n",
    "x = keras.layers.LeakyReLU(alpha=0.01)(x)\n",
    "x = keras.layers.Dropout(0.7)(x, training=True)\n",
    "#x = LSTM(64, return_sequences=True)(x)\n",
    "x = GlobalMaxPooling1D()(x)\n",
    "x = Dense(3, activation='softmax')(x)\n",
    "\n",
    "\n",
    "model = Model(i, x)\n",
    "\n",
    "\n",
    "callback=tf.keras.callbacks.EarlyStopping(\n",
    "    monitor='val_loss',\n",
    "    min_delta=0,\n",
    "    patience=5,\n",
    "    verbose=1,\n",
    "    mode='auto',\n",
    "    baseline=None,\n",
    "    restore_best_weights=False\n",
    ")\n",
    "\n",
    "model.compile(optimizer = adam, loss = loss_function, metrics=['accuracy'])\n",
    "model.summary()\n"
   ]
  },
  {
   "cell_type": "code",
   "execution_count": 41,
   "metadata": {},
   "outputs": [
    {
     "name": "stdout",
     "output_type": "stream",
     "text": [
      "Epoch 1/20\n",
      "353/353 [==============================] - 300s 837ms/step - loss: 0.6110 - accuracy: 0.8073 - val_loss: 0.5461 - val_accuracy: 0.8479\n",
      "Epoch 2/20\n",
      "353/353 [==============================] - 283s 802ms/step - loss: 0.5673 - accuracy: 0.8106 - val_loss: 0.5685 - val_accuracy: 0.8452\n",
      "Epoch 3/20\n",
      "353/353 [==============================] - 293s 829ms/step - loss: 0.5408 - accuracy: 0.8156 - val_loss: 0.5579 - val_accuracy: 0.8456\n",
      "Epoch 4/20\n",
      "353/353 [==============================] - 293s 829ms/step - loss: 0.5146 - accuracy: 0.8199 - val_loss: 0.5995 - val_accuracy: 0.8238\n",
      "Epoch 5/20\n",
      "353/353 [==============================] - 290s 823ms/step - loss: 0.4931 - accuracy: 0.8238 - val_loss: 0.5831 - val_accuracy: 0.8318\n",
      "Epoch 6/20\n",
      "353/353 [==============================] - 290s 822ms/step - loss: 0.4738 - accuracy: 0.8292 - val_loss: 0.6040 - val_accuracy: 0.8237\n",
      "Epoch 7/20\n",
      "353/353 [==============================] - 290s 821ms/step - loss: 0.4553 - accuracy: 0.8326 - val_loss: 0.5969 - val_accuracy: 0.8304\n",
      "Epoch 8/20\n",
      "353/353 [==============================] - 292s 826ms/step - loss: 0.4407 - accuracy: 0.8374 - val_loss: 0.6105 - val_accuracy: 0.8157\n",
      "Epoch 9/20\n",
      "353/353 [==============================] - 290s 822ms/step - loss: 0.4261 - accuracy: 0.8416 - val_loss: 0.6141 - val_accuracy: 0.8367\n",
      "Epoch 10/20\n",
      "353/353 [==============================] - 287s 815ms/step - loss: 0.4177 - accuracy: 0.8440 - val_loss: 0.6122 - val_accuracy: 0.8263\n",
      "Epoch 11/20\n",
      "353/353 [==============================] - 290s 822ms/step - loss: 0.4073 - accuracy: 0.8461 - val_loss: 0.6191 - val_accuracy: 0.8299\n",
      "Epoch 12/20\n",
      "353/353 [==============================] - 289s 819ms/step - loss: 0.3985 - accuracy: 0.8484 - val_loss: 0.6355 - val_accuracy: 0.8227\n",
      "Epoch 13/20\n",
      "353/353 [==============================] - 31938s 91s/step - loss: 0.3927 - accuracy: 0.8504 - val_loss: 0.6315 - val_accuracy: 0.8247\n",
      "Epoch 14/20\n",
      "353/353 [==============================] - 181s 513ms/step - loss: 0.3852 - accuracy: 0.8518 - val_loss: 0.6471 - val_accuracy: 0.8278\n",
      "Epoch 15/20\n",
      "353/353 [==============================] - 177s 501ms/step - loss: 0.3771 - accuracy: 0.8553 - val_loss: 0.6400 - val_accuracy: 0.8265\n",
      "Epoch 16/20\n",
      "353/353 [==============================] - 176s 498ms/step - loss: 0.3728 - accuracy: 0.8563 - val_loss: 0.6607 - val_accuracy: 0.8023\n",
      "Epoch 17/20\n",
      "353/353 [==============================] - 189s 534ms/step - loss: 0.3675 - accuracy: 0.8579 - val_loss: 0.6552 - val_accuracy: 0.8146\n",
      "Epoch 18/20\n",
      "353/353 [==============================] - 179s 507ms/step - loss: 0.3624 - accuracy: 0.8588 - val_loss: 0.6625 - val_accuracy: 0.8115\n",
      "Epoch 19/20\n",
      "353/353 [==============================] - 189s 535ms/step - loss: 0.3582 - accuracy: 0.8609 - val_loss: 0.6866 - val_accuracy: 0.8075\n",
      "Epoch 20/20\n",
      "353/353 [==============================] - 182s 517ms/step - loss: 0.3537 - accuracy: 0.8617 - val_loss: 0.6597 - val_accuracy: 0.8160\n"
     ]
    }
   ],
   "source": [
    "#model.load_weights('classifyLSTM.h5')\n",
    "lstmMSFT=model.fit(trainX_lstm, trainY_lstm, validation_data=(valiX_lstm, valiY_lstm), epochs=20, batch_size=256)"
   ]
  },
  {
   "cell_type": "code",
   "execution_count": 42,
   "metadata": {},
   "outputs": [
    {
     "data": {
      "text/plain": [
       "0.08080408542246986"
      ]
     },
     "execution_count": 42,
     "metadata": {},
     "output_type": "execute_result"
    }
   ],
   "source": [
    "np.mean(spread)"
   ]
  },
  {
   "cell_type": "code",
   "execution_count": 43,
   "metadata": {},
   "outputs": [
    {
     "name": "stdout",
     "output_type": "stream",
     "text": [
      "940/940 [==============================] - 21s 22ms/step\n"
     ]
    },
    {
     "data": {
      "text/plain": [
       "array([[7.3153925e-01, 8.0850162e-04, 2.6765224e-01],\n",
       "       [7.4636018e-01, 1.3052745e-03, 2.5233456e-01],\n",
       "       [7.5357813e-01, 5.3160783e-04, 2.4589024e-01],\n",
       "       ...,\n",
       "       [7.9417193e-01, 1.9710822e-01, 8.7198680e-03],\n",
       "       [5.6409639e-01, 4.3204212e-01, 3.8615037e-03],\n",
       "       [6.6264969e-01, 3.3399460e-01, 3.3557087e-03]], dtype=float32)"
      ]
     },
     "execution_count": 43,
     "metadata": {},
     "output_type": "execute_result"
    }
   ],
   "source": [
    "P_lstm = model.predict(testX_lstm)\n",
    "p_lstmj= np.round(P_lstm)\n",
    "P_lstm"
   ]
  },
  {
   "cell_type": "code",
   "execution_count": 44,
   "metadata": {},
   "outputs": [
    {
     "name": "stdout",
     "output_type": "stream",
     "text": [
      "accuracy_score: 0.7346286931062017\n",
      "              precision    recall  f1-score   support\n",
      "\n",
      "           0     0.7635    0.9459    0.8449     22814\n",
      "           1     0.3326    0.0835    0.1335      5232\n",
      "           2     0.1339    0.0318    0.0514      2010\n",
      "\n",
      "    accuracy                         0.7346     30056\n",
      "   macro avg     0.4100    0.3537    0.3433     30056\n",
      "weighted avg     0.6464    0.7346    0.6680     30056\n",
      "\n"
     ]
    }
   ],
   "source": [
    "from sklearn.metrics import classification_report, accuracy_score\n",
    "print('accuracy_score:', accuracy_score(np.argmax(testY_lstm, axis=1), np.argmax(p_lstmj, axis=1)))\n",
    "print(classification_report(np.argmax(testY_lstm, axis=1), np.argmax(p_lstmj, axis=1), digits=4))"
   ]
  },
  {
   "cell_type": "code",
   "execution_count": 45,
   "metadata": {},
   "outputs": [
    {
     "data": {
      "image/png": "[encoded data removed]",
      "text/plain": [
       "<Figure size 432x288 with 2 Axes>"
      ]
     },
     "metadata": {
      "needs_background": "light"
     },
     "output_type": "display_data"
    }
   ],
   "source": [
    "from sklearn.metrics import confusion_matrix, ConfusionMatrixDisplay\n",
    "cm = confusion_matrix(testY_lstm.argmax(axis=1), p_lstmj.argmax(axis=1), normalize='all')#true', 'pred', 'all'\n",
    "disp = ConfusionMatrixDisplay(confusion_matrix=cm,display_labels=['sta','diff','other'])\n",
    "disp.plot()\n",
    "disp.ax_.set_title(\"Confusion Matrix LSTM\");"
   ]
  },
  {
   "cell_type": "markdown",
   "metadata": {},
   "source": [
    "Naive Gaussian Classifier\n",
    "==="
   ]
  },
  {
   "cell_type": "code",
   "execution_count": 46,
   "metadata": {},
   "outputs": [
    {
     "name": "stdout",
     "output_type": "stream",
     "text": [
      "[0. 0. 0. ... 0. 0. 2.] [0. 0. 0. ... 0. 0. 0.]\n"
     ]
    }
   ],
   "source": [
    "rng = np.random.RandomState(1)\n",
    "X = n_train[['aOF_1'\t,'bOF_1'\t,'aOF_2'\t,'bOF_2'\t,'aOF_3',\t'bOF_3']].to_numpy()\n",
    "y = n_train['h'].to_numpy()\n",
    "Xte = n_vali[['aOF_1'\t,'bOF_1'\t,'aOF_2'\t,'bOF_2'\t,'aOF_3',\t'bOF_3']].to_numpy()\n",
    "Yte = n_vali['h'].to_numpy()#['h'].to_numpy()\n",
    "from sklearn.naive_bayes import CategoricalNB\n",
    "from sklearn.naive_bayes import GaussianNB\n",
    "from sklearn.naive_bayes import MultinomialNB\n",
    "clf = GaussianNB()\n",
    "clf.fit(X, y)\n",
    "predNB = clf.predict(Xte)\n",
    "encPr=np_utils.to_categorical(predNB)\n",
    "#encTe=np_utils.to_categorical(Yte)\n",
    "print(predNB,Yte)"
   ]
  },
  {
   "cell_type": "code",
   "execution_count": 47,
   "metadata": {},
   "outputs": [],
   "source": [
    "encTe=np_utils.to_categorical(n_vali['h'].to_numpy())"
   ]
  },
  {
   "cell_type": "code",
   "execution_count": 48,
   "metadata": {},
   "outputs": [
    {
     "name": "stdout",
     "output_type": "stream",
     "text": [
      "accuracy_score: 0.8284255206260778\n",
      "              precision    recall  f1-score   support\n",
      "\n",
      "           0     0.8487    0.9752    0.9076     25561\n",
      "           1     0.0576    0.0120    0.0199      2079\n",
      "           2     0.0852    0.0119    0.0209      2516\n",
      "\n",
      "    accuracy                         0.8284     30156\n",
      "   macro avg     0.3305    0.3330    0.3161     30156\n",
      "weighted avg     0.7305    0.8284    0.7724     30156\n",
      "\n"
     ]
    }
   ],
   "source": [
    "print('accuracy_score:', accuracy_score(np.argmax(encTe, axis=1), np.argmax(encPr, axis=1)))\n",
    "print(classification_report(np.argmax(encTe, axis=1), np.argmax(encPr, axis=1), digits=4))"
   ]
  },
  {
   "cell_type": "code",
   "execution_count": 50,
   "metadata": {},
   "outputs": [
    {
     "data": {
      "image/png": "[encoded data removed]",
      "text/plain": [
       "<Figure size 432x288 with 2 Axes>"
      ]
     },
     "metadata": {
      "needs_background": "light"
     },
     "output_type": "display_data"
    }
   ],
   "source": [
    "from sklearn.metrics import confusion_matrix, ConfusionMatrixDisplay\n",
    "cm = confusion_matrix(encTe.argmax(axis=1), encPr.argmax(axis=1),normalize='all')\n",
    "disp = ConfusionMatrixDisplay(confusion_matrix=cm,display_labels=['stats','diff','other'])\n",
    "disp.plot()\n",
    "disp.ax_.set_title(\"Confusion Matrix Naive\");"
   ]
  },
  {
   "cell_type": "code",
   "execution_count": 63,
   "metadata": {},
   "outputs": [
    {
     "data": {
      "image/png": "[encoded data removed]",
      "text/plain": [
       "<Figure size 1440x720 with 6 Axes>"
      ]
     },
     "metadata": {
      "needs_background": "light"
     },
     "output_type": "display_data"
    }
   ],
   "source": [
    "fig, ax = plt.subplots(1,3, figsize=(20,10))\n",
    "ax[0].set_title(\"CNN/LSTM\")\n",
    "ax[1].set_title(\"LSTM\")\n",
    "ax[2].set_title(\"Naive\")\n",
    "\n",
    "cm = confusion_matrix(testY.argmax(axis=1), pj.argmax(axis=1),normalize='all')#true', 'pred', 'all'\n",
    "disp = ConfusionMatrixDisplay(confusion_matrix=cm,display_labels=['$0.03<x<0.15$ (stat)','$>0.15$ (higher)','$<0.03$(lower)'])\n",
    "disp.plot(ax=ax[0])\n",
    "disp.ax_.set_title(\"Confusion Matrix CNN/LSTM\")\n",
    "cm_lstm = confusion_matrix(testY_lstm.argmax(axis=1), p_lstmj.argmax(axis=1),normalize='all')#true', 'pred', 'all'\n",
    "disp_lstm = ConfusionMatrixDisplay(confusion_matrix=cm_lstm,display_labels=['$0.03<x<0.15$ (stat)','$>0.15$ (higher)','$<0.03$(lower)'])\n",
    "disp_lstm.plot(ax=ax[1])\n",
    "disp_lstm.ax_.set_title(\"Confusion Matrix LSTM\")\n",
    "cmNaiv = confusion_matrix(encTe.argmax(axis=1), encPr.argmax(axis=1),normalize='all')\n",
    "dispNaiv = ConfusionMatrixDisplay(confusion_matrix=cmNaiv,display_labels=['$0.03<x<0.15$ (stat)','$>0.15$ (higher)','$<0.03$(lower)'])\n",
    "dispNaiv.plot(ax=ax[2])\n",
    "dispNaiv.ax_.set_title(\"Confusion Matrix Naive\");\n",
    "#plt.tight_layout()  "
   ]
  },
  {
   "cell_type": "code",
   "execution_count": 64,
   "metadata": {},
   "outputs": [
    {
     "data": {
      "image/png": "[encoded data removed]",
      "text/plain": [
       "<Figure size 1440x720 with 6 Axes>"
      ]
     },
     "metadata": {
      "needs_background": "light"
     },
     "output_type": "display_data"
    }
   ],
   "source": [
    "fig, ax = plt.subplots(1,3, figsize=(20,10))\n",
    "ax[0].set_title(\"CNN/LSTM\")\n",
    "ax[1].set_title(\"LSTM\")\n",
    "ax[2].set_title(\"Naive\")\n",
    "\n",
    "cm = confusion_matrix(testY.argmax(axis=1), pj.argmax(axis=1),normalize='pred')#true', 'pred', 'all'\n",
    "disp = ConfusionMatrixDisplay(confusion_matrix=cm,display_labels=['$0.03<x<0.15$ (stat)','$>0.15$ (higher)','$<0.03$(lower)'])\n",
    "disp.plot(ax=ax[0])\n",
    "disp.ax_.set_title(\"Confusion Matrix CNN/LSTM\")\n",
    "cm_lstm = confusion_matrix(testY_lstm.argmax(axis=1), p_lstmj.argmax(axis=1),normalize='pred')#true', 'pred', 'all'\n",
    "disp_lstm = ConfusionMatrixDisplay(confusion_matrix=cm_lstm,display_labels=['$0.03<x<0.15$ (stat)','$>0.15$ (higher)','$<0.03$(lower)'])\n",
    "disp_lstm.plot(ax=ax[1])\n",
    "disp_lstm.ax_.set_title(\"Confusion Matrix LSTM\")\n",
    "cmNaiv = confusion_matrix(encTe.argmax(axis=1), encPr.argmax(axis=1),normalize='pred')\n",
    "dispNaiv = ConfusionMatrixDisplay(confusion_matrix=cmNaiv,display_labels=['$0.03<x<0.15$ (stat)','$>0.15$ (higher)','$<0.03$(lower)'])\n",
    "dispNaiv.plot(ax=ax[2])\n",
    "dispNaiv.ax_.set_title(\"Confusion Matrix Naive\");"
   ]
  },
  {
   "cell_type": "markdown",
   "metadata": {},
   "source": [
    "1) Precision is a measure of how many of the positive predictions made are correct (true positives).\n",
    "2) Accuracy describes the number of correct predictions over all predictions (TP+TN)/sizePop.\n",
    "3) Recall is a measure of how many of the positive cases the classifier correctly predicted, over all the positive cases in the data.\n",
    "4) F1 provides a single metric that weights the two ratios (precision and recall) in a balanced way.\n",
    "    - Very small precision or recall will result in lower overall score. Thus it helps balance the two metrics.\n",
    "    - If you choose your positive class as the one with fewer samples, F1-score can help balance the metric across positive/negative samples."
   ]
  }
 ],
 "metadata": {
  "kernelspec": {
   "display_name": "Python 3.9.12 ('base')",
   "language": "python",
   "name": "python3"
  },
  "language_info": {
   "codemirror_mode": {
    "name": "ipython",
    "version": 3
   },
   "file_extension": ".py",
   "mimetype": "text/x-python",
   "name": "python",
   "nbconvert_exporter": "python",
   "pygments_lexer": "ipython3",
   "version": "3.9.12"
  },
  "orig_nbformat": 4,
  "vscode": {
   "interpreter": {
    "hash": "597e2b791014bf3f975e304e1e72922cb6b9245e0453d34e2c818a7120fc527f"
   }
  }
 },
 "nbformat": 4,
 "nbformat_minor": 2
}
