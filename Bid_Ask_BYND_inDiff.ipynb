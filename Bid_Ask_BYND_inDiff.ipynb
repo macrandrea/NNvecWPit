{
 "cells": [
  {
   "cell_type": "code",
   "execution_count": 1,
   "metadata": {},
   "outputs": [],
   "source": [
    "import os\n",
    "import utils\n",
    "import pandas as pd\n",
    "import numpy  as np\n",
    "import matplotlib.pyplot as plt\n",
    "from pandas.tseries.offsets import *\n",
    "import statsmodels.formula.api as smf\n",
    "from glob import glob\n",
    "from datetime import datetime\n",
    "import tensorflow as tf\n",
    "import keras\n",
    "from keras import Input, layers\n",
    "from keras.models import Model\n",
    "from keras.layers import Flatten, Dense, Dropout, Activation, Input, LSTM, Reshape, Conv2D, MaxPooling2D, LeakyReLU, GlobalMaxPooling1D\n",
    "from keras.optimizers import Adam\n",
    "from keras.utils import np_utils\n",
    "import random\n",
    "from sklearn.metrics import mean_squared_error as mse\n",
    "from sklearn.metrics import r2_score\n",
    "from scipy import stats\n",
    "from sklearn.linear_model import LinearRegression\n",
    "from fireTS.models import NARX\n",
    "seed_value = 2022\n",
    "random.seed(seed_value)\n",
    "np.random.seed(seed_value)\n",
    "tf.random.set_seed(seed_value)\n",
    "from sklearn.preprocessing import QuantileTransformer \n",
    "normalizer = QuantileTransformer(output_distribution='normal')"
   ]
  },
  {
   "cell_type": "code",
   "execution_count": 2,
   "metadata": {},
   "outputs": [],
   "source": [
    "def baSpread(x):\n",
    "    a=x['AP1'].values.tolist()\n",
    "    b=x['BP1'].values.tolist()\n",
    "    bas=np.empty(len(x))\n",
    "    for i in range(len(a)):\n",
    "       bas[i]=(a[i]/10**4-b[i]/10**4)#/(a[i]+b[i])*10**4\n",
    "    return bas"
   ]
  },
  {
   "cell_type": "code",
   "execution_count": 3,
   "metadata": {},
   "outputs": [
    {
     "data": {
      "text/plain": [
       "(0.020000000000010232, -0.030000000000001137)"
      ]
     },
     "execution_count": 3,
     "metadata": {},
     "output_type": "execute_result"
    }
   ],
   "source": [
    "lob_data=utils.caricaLOB('bynd',0.05)\n",
    "ld=lob_data.values.tolist()\n",
    "of=utils.OF_1(ld)\n",
    "bCols=np.ravel([['aOF_%d'%level, 'bOF_%d'%level] for level in [1,2,3]])\n",
    "of_data=pd.DataFrame(of, columns=bCols)\n",
    "m=pd.DataFrame(utils.midPrice(lob_data),columns=['m'])\n",
    "m['r']=m['m'].pct_change().fillna(0).copy()\n",
    "b=pd.DataFrame(baSpread(lob_data),columns=['spread'])\n",
    "b['d']=b['spread'].diff().dropna()\n",
    "spread=b['d'].fillna(0).to_numpy()\n",
    "np.quantile(spread,0.9), np.quantile(spread,0.1)"
   ]
  },
  {
   "cell_type": "code",
   "execution_count": 4,
   "metadata": {},
   "outputs": [
    {
     "data": {
      "image/png": "[encoded data removed]",
      "text/plain": [
       "<Figure size 432x288 with 1 Axes>"
      ]
     },
     "metadata": {
      "needs_background": "light"
     },
     "output_type": "display_data"
    }
   ],
   "source": [
    "hot=np.zeros(len(spread))\n",
    "for i in range(0,len(hot)):\n",
    "    if spread[i]>0.02: \n",
    "        hot[i]=1 \n",
    "    elif spread[i]<-0.03:\n",
    "        hot[i]=2 \n",
    "    else:\n",
    "        hot[i]=0\n",
    "plt.plot(spread);"
   ]
  },
  {
   "cell_type": "code",
   "execution_count": 5,
   "metadata": {},
   "outputs": [
    {
     "data": {
      "text/plain": [
       "(0.020000000000010232,\n",
       " -0.030000000000001137,\n",
       " ModeResult(mode=array([[0.05, 0.  ]]), count=array([[13518, 83285]])))"
      ]
     },
     "execution_count": 5,
     "metadata": {},
     "output_type": "execute_result"
    }
   ],
   "source": [
    "np.quantile(spread,0.9), np.quantile(spread,0.1), stats.mode(b)"
   ]
  },
  {
   "cell_type": "code",
   "execution_count": 6,
   "metadata": {},
   "outputs": [
    {
     "data": {
      "text/plain": [
       "(array([0., 0., 1., ..., 0., 2., 1.]),\n",
       " array([ 0.  ,  0.  ,  0.05, ...,  0.  , -0.04,  0.04]))"
      ]
     },
     "execution_count": 6,
     "metadata": {},
     "output_type": "execute_result"
    }
   ],
   "source": [
    "hot,spread"
   ]
  },
  {
   "cell_type": "markdown",
   "metadata": {},
   "source": [
    "CNN-LSTM Classifier\n",
    "==="
   ]
  },
  {
   "cell_type": "code",
   "execution_count": 7,
   "metadata": {},
   "outputs": [],
   "source": [
    "def prepare_x_y(of, lag=100, dimension=6):\n",
    "    ex = of[['aOF_1','bOF_1','aOF_2','bOF_2','aOF_3','bOF_3']].to_numpy()#\n",
    "    uai= of['h'].to_numpy() #.pct_change().fillna(0)['r']\n",
    "    shape = of.shape\n",
    "    dimension=6\n",
    "    lag = 100\n",
    "    x=np.empty((shape[0]-lag, lag, dimension))\n",
    "    y=np.empty((shape[0]-lag,1))\n",
    "    for i in range(shape[0]-lag):\n",
    "        x[i]=ex[i:i+lag]\n",
    "        y[i]=uai[i+lag-1]\n",
    "\n",
    "    X=x.reshape(-1,lag,6,1)\n",
    "\n",
    "    Y = np_utils.to_categorical(y.astype(int),3)\n",
    "\n",
    "    return X,Y"
   ]
  },
  {
   "cell_type": "code",
   "execution_count": 8,
   "metadata": {},
   "outputs": [
    {
     "name": "stdout",
     "output_type": "stream",
     "text": [
      "(90368, 100, 6, 1) (90368, 3)\n",
      "(30056, 100, 6, 1) (30056, 3)\n",
      "(30056, 100, 6, 1) (30056, 3)\n"
     ]
    }
   ],
   "source": [
    "V = int(len(of)*0.6)\n",
    "T = int(len(of)*0.8)\n",
    "\n",
    "n_train     = of_data.iloc[ :V].copy()\n",
    "n_vali      = of_data.iloc[V:T].copy()\n",
    "n_test      = of_data.iloc[T: ].copy()\n",
    "\n",
    "n_train = n_train.apply(lambda x : utils.taglia_e_cuci(x), axis=1, raw=True)\n",
    "n_vali  = n_vali .apply(lambda x : utils.taglia_e_cuci(x), axis=1, raw=True)\n",
    "n_test  = n_test .apply(lambda x : utils.taglia_e_cuci(x), axis=1, raw=True)\n",
    "\n",
    "x_vars = of_data.columns#[:-1]\n",
    "\n",
    "# Normalize Features\n",
    "# Dividing by the standard deviation estimated using the training set\n",
    "for x_var in x_vars:\n",
    "    sd = n_train[x_var].std()\n",
    "    n_train[x_var] = n_train[x_var] / sd\n",
    "    n_vali [x_var] = n_vali [x_var] / sd\n",
    "    n_test [x_var] = n_test [x_var] / sd\n",
    "\n",
    "n_train['h'] = hot[ :V]\n",
    "n_vali ['h'] = hot[V:T]\n",
    "n_test ['h'] = hot[T: ]\n",
    "#of=of_data\n",
    "\n",
    "trainX,trainY = prepare_x_y  (n_train)    \n",
    "valiX ,valiY  = prepare_x_y  (n_vali )    \n",
    "testX ,testY  = prepare_x_y  (n_test )   \n",
    "\n",
    "\n",
    "print(trainX.shape ,trainY.shape)\n",
    "print(valiX.shape  ,valiY .shape)\n",
    "print(testX.shape  ,testY .shape)"
   ]
  },
  {
   "cell_type": "code",
   "execution_count": 9,
   "metadata": {},
   "outputs": [
    {
     "name": "stdout",
     "output_type": "stream",
     "text": [
      "Model: \"model\"\n",
      "__________________________________________________________________________________________________\n",
      " Layer (type)                   Output Shape         Param #     Connected to                     \n",
      "==================================================================================================\n",
      " input_1 (InputLayer)           [(None, 100, 6, 1)]  0           []                               \n",
      "                                                                                                  \n",
      " conv2d (Conv2D)                (None, 100, 3, 32)   96          ['input_1[0][0]']                \n",
      "                                                                                                  \n",
      " leaky_re_lu (LeakyReLU)        (None, 100, 3, 32)   0           ['conv2d[0][0]']                 \n",
      "                                                                                                  \n",
      " conv2d_1 (Conv2D)              (None, 100, 3, 32)   4128        ['leaky_re_lu[0][0]']            \n",
      "                                                                                                  \n",
      " leaky_re_lu_1 (LeakyReLU)      (None, 100, 3, 32)   0           ['conv2d_1[0][0]']               \n",
      "                                                                                                  \n",
      " conv2d_2 (Conv2D)              (None, 100, 3, 32)   4128        ['leaky_re_lu_1[0][0]']          \n",
      "                                                                                                  \n",
      " leaky_re_lu_2 (LeakyReLU)      (None, 100, 3, 32)   0           ['conv2d_2[0][0]']               \n",
      "                                                                                                  \n",
      " conv2d_3 (Conv2D)              (None, 100, 1, 16)   5136        ['leaky_re_lu_2[0][0]']          \n",
      "                                                                                                  \n",
      " leaky_re_lu_3 (LeakyReLU)      (None, 100, 1, 16)   0           ['conv2d_3[0][0]']               \n",
      "                                                                                                  \n",
      " conv2d_4 (Conv2D)              (None, 100, 1, 64)   1088        ['leaky_re_lu_3[0][0]']          \n",
      "                                                                                                  \n",
      " conv2d_6 (Conv2D)              (None, 100, 1, 64)   1088        ['leaky_re_lu_3[0][0]']          \n",
      "                                                                                                  \n",
      " leaky_re_lu_4 (LeakyReLU)      (None, 100, 1, 64)   0           ['conv2d_4[0][0]']               \n",
      "                                                                                                  \n",
      " leaky_re_lu_6 (LeakyReLU)      (None, 100, 1, 64)   0           ['conv2d_6[0][0]']               \n",
      "                                                                                                  \n",
      " max_pooling2d (MaxPooling2D)   (None, 100, 1, 16)   0           ['leaky_re_lu_3[0][0]']          \n",
      "                                                                                                  \n",
      " conv2d_5 (Conv2D)              (None, 100, 1, 64)   12352       ['leaky_re_lu_4[0][0]']          \n",
      "                                                                                                  \n",
      " conv2d_7 (Conv2D)              (None, 100, 1, 64)   20544       ['leaky_re_lu_6[0][0]']          \n",
      "                                                                                                  \n",
      " conv2d_8 (Conv2D)              (None, 100, 1, 64)   1088        ['max_pooling2d[0][0]']          \n",
      "                                                                                                  \n",
      " leaky_re_lu_5 (LeakyReLU)      (None, 100, 1, 64)   0           ['conv2d_5[0][0]']               \n",
      "                                                                                                  \n",
      " leaky_re_lu_7 (LeakyReLU)      (None, 100, 1, 64)   0           ['conv2d_7[0][0]']               \n",
      "                                                                                                  \n",
      " leaky_re_lu_8 (LeakyReLU)      (None, 100, 1, 64)   0           ['conv2d_8[0][0]']               \n",
      "                                                                                                  \n",
      " concatenate (Concatenate)      (None, 100, 1, 192)  0           ['leaky_re_lu_5[0][0]',          \n",
      "                                                                  'leaky_re_lu_7[0][0]',          \n",
      "                                                                  'leaky_re_lu_8[0][0]']          \n",
      "                                                                                                  \n",
      " reshape (Reshape)              (None, 100, 192)     0           ['concatenate[0][0]']            \n",
      "                                                                                                  \n",
      " dropout (Dropout)              (None, 100, 192)     0           ['reshape[0][0]']                \n",
      "                                                                                                  \n",
      " lstm (LSTM)                    (None, 64)           65792       ['dropout[0][0]']                \n",
      "                                                                                                  \n",
      " dense (Dense)                  (None, 3)            195         ['lstm[0][0]']                   \n",
      "                                                                                                  \n",
      "==================================================================================================\n",
      "Total params: 115,635\n",
      "Trainable params: 115,635\n",
      "Non-trainable params: 0\n",
      "__________________________________________________________________________________________________\n"
     ]
    }
   ],
   "source": [
    "\n",
    "def create_nn(T, NF,number_of_lstm):\n",
    "\n",
    "    input_lmd = tf.keras.Input(shape=(T, NF, 1))\n",
    "\n",
    "    conv_first1 = Conv2D(32, kernel_size=(1, 2), strides=(1, 2))(input_lmd)\n",
    "    conv_first1 = keras.layers.LeakyReLU(alpha=0.01)(conv_first1)\n",
    "    conv_first1 = Conv2D(32, (4, 1), padding='same')(conv_first1)\n",
    "    conv_first1 = keras.layers.LeakyReLU(alpha=0.01)(conv_first1)\n",
    "    conv_first1 = Conv2D(32, (4, 1), padding='same')(conv_first1)\n",
    "    conv_first1 = keras.layers.LeakyReLU(alpha=0.01)(conv_first1)\n",
    "    #\n",
    "    layer_x = layers.Conv2D(filters=16, kernel_size=(10,1),strides=(1,10), padding='same')(conv_first1)\n",
    "    layer_x = layers.LeakyReLU(alpha=0.01)(layer_x)\n",
    "    # inception\n",
    "    convsecond_1 = Conv2D(64, (1, 1), padding='same', strides=(1,1))(layer_x)\n",
    "    convsecond_1 = keras.layers.LeakyReLU(alpha=0.01)(convsecond_1)\n",
    "    convsecond_1 = Conv2D(64, (3, 1), padding='same', strides=(1,1))(convsecond_1)\n",
    "    convsecond_1 = keras.layers.LeakyReLU(alpha=0.01)(convsecond_1)\n",
    "\n",
    "    convsecond_2 = Conv2D(64, (1, 1), padding='same', strides=(1,1))(layer_x)\n",
    "    convsecond_2 = keras.layers.LeakyReLU(alpha=0.01)(convsecond_2)\n",
    "    convsecond_2 = Conv2D(64, (5, 1), padding='same', strides=(1,1))(convsecond_2)\n",
    "    convsecond_2 = keras.layers.LeakyReLU(alpha=0.01)(convsecond_2)\n",
    "\n",
    "    convsecond_3 = MaxPooling2D((3, 1), strides=(1, 1), padding='same')(layer_x)\n",
    "    convsecond_3 = Conv2D(64, (1, 1), padding='same', strides=(1,1))(convsecond_3)\n",
    "    convsecond_3 = keras.layers.LeakyReLU(alpha=0.01)(convsecond_3)\n",
    "    \n",
    "    convsecond_output = keras.layers.concatenate([convsecond_1, convsecond_2, convsecond_3], axis=3)\n",
    "    conv_reshape = Reshape((int(convsecond_output.shape[1]), int(convsecond_output.shape[3])))(convsecond_output)\n",
    "    conv_reshape = keras.layers.Dropout(0.7, noise_shape=(None, 1, int(conv_reshape.shape[2])))(conv_reshape, training=True)\n",
    "\n",
    "    # build the last LSTM layer\n",
    "    conv_lstm = LSTM(number_of_lstm)(conv_reshape)\n",
    "\n",
    "    # build the output layer\n",
    "    out = Dense(3, activation='softmax')(conv_lstm)\n",
    "    model = Model(inputs=input_lmd, outputs=out)\n",
    "    adam = keras.optimizers.Adam(learning_rate=0.0001)\n",
    "    model.compile(optimizer=adam, loss='categorical_crossentropy', metrics=['accuracy'])#\n",
    "\n",
    "    return model\n",
    "checkpoint_filepath = './model_tensorflow2/weights_class'\n",
    "deeplob = create_nn(100, 6, 64)\n",
    "deeplob.summary()"
   ]
  },
  {
   "cell_type": "code",
   "execution_count": 10,
   "metadata": {},
   "outputs": [],
   "source": [
    "callback=tf.keras.callbacks.EarlyStopping(\n",
    "    monitor='val_loss',\n",
    "    min_delta=0,\n",
    "    patience=5,\n",
    "    verbose=1,\n",
    "    mode='auto',\n",
    "    baseline=None,\n",
    "    restore_best_weights=False\n",
    ")\n",
    "saving = tf.keras.callbacks.ModelCheckpoint(\n",
    "    filepath=checkpoint_filepath,\n",
    "    save_weights_only=True,\n",
    "    monitor='val_loss',\n",
    "    mode='auto',\n",
    "    save_best_only=True)"
   ]
  },
  {
   "cell_type": "code",
   "execution_count": 11,
   "metadata": {},
   "outputs": [
    {
     "name": "stdout",
     "output_type": "stream",
     "text": [
      "Epoch 1/50\n",
      "353/353 [==============================] - 259s 709ms/step - loss: 0.7148 - accuracy: 0.7779 - val_loss: 0.6256 - val_accuracy: 0.7969\n",
      "Epoch 2/50\n",
      "353/353 [==============================] - 252s 715ms/step - loss: 0.6312 - accuracy: 0.7829 - val_loss: 0.5861 - val_accuracy: 0.7969\n",
      "Epoch 3/50\n",
      "353/353 [==============================] - 252s 713ms/step - loss: 0.6027 - accuracy: 0.7834 - val_loss: 0.5578 - val_accuracy: 0.7978\n",
      "Epoch 4/50\n",
      "353/353 [==============================] - 254s 719ms/step - loss: 0.5655 - accuracy: 0.7837 - val_loss: 0.5139 - val_accuracy: 0.7994\n",
      "Epoch 5/50\n",
      "353/353 [==============================] - 263s 745ms/step - loss: 0.5294 - accuracy: 0.7846 - val_loss: 0.4971 - val_accuracy: 0.7997\n",
      "Epoch 6/50\n",
      "353/353 [==============================] - 253s 717ms/step - loss: 0.5127 - accuracy: 0.7861 - val_loss: 0.4797 - val_accuracy: 0.8041\n",
      "Epoch 7/50\n",
      "353/353 [==============================] - 258s 730ms/step - loss: 0.5049 - accuracy: 0.7870 - val_loss: 0.4787 - val_accuracy: 0.8037\n",
      "Epoch 8/50\n",
      "353/353 [==============================] - 257s 728ms/step - loss: 0.4984 - accuracy: 0.7885 - val_loss: 0.4680 - val_accuracy: 0.8064\n",
      "Epoch 9/50\n",
      "353/353 [==============================] - 241s 683ms/step - loss: 0.4923 - accuracy: 0.7903 - val_loss: 0.4637 - val_accuracy: 0.8067\n",
      "Epoch 10/50\n",
      "353/353 [==============================] - 242s 684ms/step - loss: 0.4885 - accuracy: 0.7903 - val_loss: 0.4653 - val_accuracy: 0.8069\n",
      "Epoch 11/50\n",
      "353/353 [==============================] - 240s 680ms/step - loss: 0.4845 - accuracy: 0.7917 - val_loss: 0.4552 - val_accuracy: 0.8085\n",
      "Epoch 12/50\n",
      "353/353 [==============================] - 238s 673ms/step - loss: 0.4797 - accuracy: 0.7910 - val_loss: 0.4510 - val_accuracy: 0.8095\n",
      "Epoch 13/50\n",
      "353/353 [==============================] - 241s 682ms/step - loss: 0.4756 - accuracy: 0.7928 - val_loss: 0.4505 - val_accuracy: 0.8079\n",
      "Epoch 14/50\n",
      "353/353 [==============================] - 238s 674ms/step - loss: 0.4715 - accuracy: 0.7921 - val_loss: 0.4432 - val_accuracy: 0.8097\n",
      "Epoch 15/50\n",
      "353/353 [==============================] - 253s 717ms/step - loss: 0.4670 - accuracy: 0.7929 - val_loss: 0.4393 - val_accuracy: 0.8095\n",
      "Epoch 16/50\n",
      "353/353 [==============================] - 239s 676ms/step - loss: 0.4635 - accuracy: 0.7931 - val_loss: 0.4329 - val_accuracy: 0.8106\n",
      "Epoch 17/50\n",
      "353/353 [==============================] - 239s 677ms/step - loss: 0.4592 - accuracy: 0.7931 - val_loss: 0.4278 - val_accuracy: 0.8115\n",
      "Epoch 18/50\n",
      "353/353 [==============================] - 239s 676ms/step - loss: 0.4544 - accuracy: 0.7942 - val_loss: 0.4271 - val_accuracy: 0.8107\n",
      "Epoch 19/50\n",
      "353/353 [==============================] - 255s 724ms/step - loss: 0.4510 - accuracy: 0.7949 - val_loss: 0.4218 - val_accuracy: 0.8106\n",
      "Epoch 20/50\n",
      "353/353 [==============================] - 257s 727ms/step - loss: 0.4468 - accuracy: 0.7938 - val_loss: 0.4161 - val_accuracy: 0.8106\n",
      "Epoch 21/50\n",
      "353/353 [==============================] - 259s 732ms/step - loss: 0.4443 - accuracy: 0.7950 - val_loss: 0.4138 - val_accuracy: 0.8110\n",
      "Epoch 22/50\n",
      "353/353 [==============================] - 262s 742ms/step - loss: 0.4404 - accuracy: 0.7941 - val_loss: 0.4108 - val_accuracy: 0.8111\n",
      "Epoch 23/50\n",
      "353/353 [==============================] - 267s 756ms/step - loss: 0.4367 - accuracy: 0.7952 - val_loss: 0.4092 - val_accuracy: 0.8092\n",
      "Epoch 24/50\n",
      "353/353 [==============================] - 262s 742ms/step - loss: 0.4343 - accuracy: 0.7958 - val_loss: 0.4016 - val_accuracy: 0.8114\n",
      "Epoch 25/50\n",
      "353/353 [==============================] - 263s 746ms/step - loss: 0.4323 - accuracy: 0.7953 - val_loss: 0.4009 - val_accuracy: 0.8119\n",
      "Epoch 26/50\n",
      "353/353 [==============================] - 264s 748ms/step - loss: 0.4290 - accuracy: 0.7968 - val_loss: 0.4030 - val_accuracy: 0.8099\n",
      "Epoch 27/50\n",
      "353/353 [==============================] - 262s 741ms/step - loss: 0.4278 - accuracy: 0.7968 - val_loss: 0.3972 - val_accuracy: 0.8152\n",
      "Epoch 28/50\n",
      "353/353 [==============================] - 261s 741ms/step - loss: 0.4251 - accuracy: 0.7979 - val_loss: 0.3958 - val_accuracy: 0.8128\n",
      "Epoch 29/50\n",
      "353/353 [==============================] - 263s 745ms/step - loss: 0.4235 - accuracy: 0.7983 - val_loss: 0.3976 - val_accuracy: 0.8122\n",
      "Epoch 30/50\n",
      "353/353 [==============================] - 261s 739ms/step - loss: 0.4226 - accuracy: 0.7985 - val_loss: 0.3956 - val_accuracy: 0.8119\n",
      "Epoch 31/50\n",
      "353/353 [==============================] - 195s 552ms/step - loss: 0.4214 - accuracy: 0.7992 - val_loss: 0.3902 - val_accuracy: 0.8143\n",
      "Epoch 32/50\n",
      "353/353 [==============================] - 199s 564ms/step - loss: 0.4194 - accuracy: 0.7992 - val_loss: 0.3903 - val_accuracy: 0.8131\n",
      "Epoch 33/50\n",
      "353/353 [==============================] - 198s 562ms/step - loss: 0.4196 - accuracy: 0.8001 - val_loss: 0.3909 - val_accuracy: 0.8134\n",
      "Epoch 34/50\n",
      "353/353 [==============================] - 198s 559ms/step - loss: 0.4177 - accuracy: 0.8002 - val_loss: 0.3894 - val_accuracy: 0.8156\n",
      "Epoch 35/50\n",
      "353/353 [==============================] - 120s 339ms/step - loss: 0.4166 - accuracy: 0.8007 - val_loss: 0.3893 - val_accuracy: 0.8146\n",
      "Epoch 36/50\n",
      "353/353 [==============================] - 91s 259ms/step - loss: 0.4153 - accuracy: 0.8005 - val_loss: 0.3887 - val_accuracy: 0.8140\n",
      "Epoch 37/50\n",
      "353/353 [==============================] - 91s 257ms/step - loss: 0.4146 - accuracy: 0.8003 - val_loss: 0.3936 - val_accuracy: 0.8134\n",
      "Epoch 38/50\n",
      "353/353 [==============================] - 92s 261ms/step - loss: 0.4142 - accuracy: 0.8013 - val_loss: 0.3866 - val_accuracy: 0.8148\n",
      "Epoch 39/50\n",
      "353/353 [==============================] - 92s 260ms/step - loss: 0.4124 - accuracy: 0.8012 - val_loss: 0.3854 - val_accuracy: 0.8149\n",
      "Epoch 40/50\n",
      "353/353 [==============================] - 92s 261ms/step - loss: 0.4124 - accuracy: 0.8013 - val_loss: 0.3880 - val_accuracy: 0.8144\n",
      "Epoch 41/50\n",
      "353/353 [==============================] - 93s 263ms/step - loss: 0.4119 - accuracy: 0.8019 - val_loss: 0.3844 - val_accuracy: 0.8133\n",
      "Epoch 42/50\n",
      "353/353 [==============================] - 93s 263ms/step - loss: 0.4113 - accuracy: 0.8031 - val_loss: 0.3841 - val_accuracy: 0.8157\n",
      "Epoch 43/50\n",
      "353/353 [==============================] - 92s 260ms/step - loss: 0.4101 - accuracy: 0.8026 - val_loss: 0.3856 - val_accuracy: 0.8143\n",
      "Epoch 44/50\n",
      "353/353 [==============================] - 91s 259ms/step - loss: 0.4098 - accuracy: 0.8021 - val_loss: 0.3847 - val_accuracy: 0.8150\n",
      "Epoch 45/50\n",
      "353/353 [==============================] - 95s 270ms/step - loss: 0.4092 - accuracy: 0.8026 - val_loss: 0.3851 - val_accuracy: 0.8132\n",
      "Epoch 46/50\n",
      "353/353 [==============================] - 122s 345ms/step - loss: 0.4078 - accuracy: 0.8034 - val_loss: 0.3862 - val_accuracy: 0.8139\n",
      "Epoch 47/50\n",
      "353/353 [==============================] - 123s 350ms/step - loss: 0.4074 - accuracy: 0.8035 - val_loss: 0.3856 - val_accuracy: 0.8141\n",
      "Epoch 47: early stopping\n"
     ]
    }
   ],
   "source": [
    "#deeplob.load_weights('modelMSFTClassification.h5')\n",
    "simple=deeplob.fit(trainX, trainY, validation_data=(valiX, valiY),  epochs=50, batch_size=256,callbacks=[callback,saving])"
   ]
  },
  {
   "cell_type": "code",
   "execution_count": 12,
   "metadata": {},
   "outputs": [],
   "source": [
    "deeplob.save('modelBYNDdiff7Classification.h5')\n"
   ]
  },
  {
   "cell_type": "code",
   "execution_count": 13,
   "metadata": {},
   "outputs": [
    {
     "name": "stdout",
     "output_type": "stream",
     "text": [
      "940/940 [==============================] - 23s 22ms/step\n"
     ]
    },
    {
     "data": {
      "text/plain": [
       "array([[9.9406058e-01, 5.9303381e-03, 9.0407875e-06],\n",
       "       [8.4945363e-01, 1.5037994e-01, 1.6635428e-04],\n",
       "       [7.6904488e-01, 1.2935682e-02, 2.1801943e-01],\n",
       "       ...,\n",
       "       [9.4226784e-01, 5.6130566e-02, 1.6017185e-03],\n",
       "       [9.9620432e-01, 3.6153854e-03, 1.8028128e-04],\n",
       "       [4.2845055e-01, 2.4507579e-03, 5.6909871e-01]], dtype=float32)"
      ]
     },
     "execution_count": 13,
     "metadata": {},
     "output_type": "execute_result"
    }
   ],
   "source": [
    "P = deeplob.predict(testX)\n",
    "pj= np.round(P)\n",
    "P"
   ]
  },
  {
   "cell_type": "code",
   "execution_count": 14,
   "metadata": {},
   "outputs": [
    {
     "name": "stdout",
     "output_type": "stream",
     "text": [
      "accuracy_score: 0.8240617513973916\n",
      "              precision    recall  f1-score   support\n",
      "\n",
      "           0     0.8589    0.9354    0.8955     24143\n",
      "           1     0.5741    0.3089    0.4017      3059\n",
      "           2     0.5858    0.4341    0.4987      2854\n",
      "\n",
      "    accuracy                         0.8241     30056\n",
      "   macro avg     0.6729    0.5595    0.5986     30056\n",
      "weighted avg     0.8040    0.8241    0.8076     30056\n",
      "\n"
     ]
    }
   ],
   "source": [
    "from sklearn.metrics import classification_report, accuracy_score\n",
    "print('accuracy_score:', accuracy_score(np.argmax(testY, axis=1), np.argmax(pj, axis=1)))\n",
    "print(classification_report(np.argmax(testY, axis=1), np.argmax(pj, axis=1), digits=4))"
   ]
  },
  {
   "cell_type": "code",
   "execution_count": 15,
   "metadata": {},
   "outputs": [
    {
     "data": {
      "image/png": "[encoded data removed]",
      "text/plain": [
       "<Figure size 432x288 with 2 Axes>"
      ]
     },
     "metadata": {
      "needs_background": "light"
     },
     "output_type": "display_data"
    }
   ],
   "source": [
    "from sklearn.metrics import confusion_matrix, ConfusionMatrixDisplay\n",
    "cm = confusion_matrix(testY.argmax(axis=1), pj.argmax(axis=1),normalize='pred')#true', 'pred', 'all'\n",
    "disp = ConfusionMatrixDisplay(confusion_matrix=cm,display_labels=['stat','higher','lower'])\n",
    "disp.plot()\n",
    "disp.ax_.set_title(\"Confusion Matrix CNN/LSTM\");"
   ]
  },
  {
   "cell_type": "markdown",
   "metadata": {},
   "source": [
    "LSTM classifier\n",
    "==="
   ]
  },
  {
   "cell_type": "code",
   "execution_count": 16,
   "metadata": {},
   "outputs": [],
   "source": [
    "def prepare_x_y_lstm(of, lag=100, dimension=6):\n",
    "    ex = of[['aOF_1','bOF_1','aOF_2','bOF_2','aOF_3','bOF_3']].to_numpy()#\n",
    "    uai= of['h'].to_numpy() #.pct_change().fillna(0)['r']\n",
    "    shape = of.shape\n",
    "    dimension=6\n",
    "    lag = 100\n",
    "    x=np.empty((shape[0]-lag, lag, dimension))\n",
    "    y=np.empty((shape[0]-lag,1))\n",
    "    for i in range(shape[0]-lag):\n",
    "        x[i]=ex[i:i+lag]\n",
    "        y[i]=uai[i+lag-1]\n",
    "\n",
    "    X=x.reshape(-1,lag,6)\n",
    "\n",
    "    Y = np_utils.to_categorical(y.astype(int),3)\n",
    "\n",
    "    return X,Y"
   ]
  },
  {
   "cell_type": "code",
   "execution_count": 17,
   "metadata": {},
   "outputs": [
    {
     "name": "stdout",
     "output_type": "stream",
     "text": [
      "(90368, 100, 6) (90368, 3)\n",
      "(30056, 100, 6) (30056, 3)\n",
      "(30056, 100, 6) (30056, 3)\n"
     ]
    }
   ],
   "source": [
    "V = int(len(of)*0.6)\n",
    "T = int(len(of)*0.8)\n",
    "\n",
    "n_train     = of_data.iloc[ :V].copy()\n",
    "n_vali      = of_data.iloc[V:T].copy()\n",
    "n_test      = of_data.iloc[T: ].copy()\n",
    "\n",
    "n_train = n_train.apply(lambda x : utils.taglia_e_cuci(x), axis=1, raw=True)\n",
    "n_vali  = n_vali .apply(lambda x : utils.taglia_e_cuci(x), axis=1, raw=True)\n",
    "n_test  = n_test .apply(lambda x : utils.taglia_e_cuci(x), axis=1, raw=True)\n",
    "\n",
    "x_vars = of_data.columns#[:-1]\n",
    "\n",
    "# Normalize Features\n",
    "# Dividing by the standard deviation estimated using the training set\n",
    "for x_var in x_vars:\n",
    "    sd = n_train[x_var].std()\n",
    "    n_train[x_var] = n_train[x_var] / sd\n",
    "    n_vali [x_var] = n_vali [x_var] / sd\n",
    "    n_test [x_var] = n_test [x_var] / sd\n",
    "\n",
    "n_train['h'] = hot[ :V]\n",
    "n_vali ['h'] = hot[V:T]\n",
    "n_test ['h'] = hot[T: ]\n",
    "#of=of_data\n",
    "\n",
    "trainX_lstm,trainY_lstm = prepare_x_y_lstm  (n_train)    \n",
    "valiX_lstm,valiY_lstm = prepare_x_y_lstm  (n_vali )    \n",
    "testX_lstm,testY_lstm = prepare_x_y_lstm  (n_test )   \n",
    "\n",
    "\n",
    "print(trainX_lstm.shape ,trainY_lstm .shape)\n",
    "print(valiX_lstm.shape  ,valiY_lstm .shape)\n",
    "print(testX_lstm.shape  ,testY_lstm .shape)"
   ]
  },
  {
   "cell_type": "code",
   "execution_count": 18,
   "metadata": {},
   "outputs": [
    {
     "name": "stdout",
     "output_type": "stream",
     "text": [
      "Model: \"model_1\"\n",
      "_________________________________________________________________\n",
      " Layer (type)                Output Shape              Param #   \n",
      "=================================================================\n",
      " input_2 (InputLayer)        [(None, 100, 6)]          0         \n",
      "                                                                 \n",
      " lstm_1 (LSTM)               (None, 100, 64)           18176     \n",
      "                                                                 \n",
      " leaky_re_lu_9 (LeakyReLU)   (None, 100, 64)           0         \n",
      "                                                                 \n",
      " lstm_2 (LSTM)               (None, 100, 64)           33024     \n",
      "                                                                 \n",
      " leaky_re_lu_10 (LeakyReLU)  (None, 100, 64)           0         \n",
      "                                                                 \n",
      " lstm_3 (LSTM)               (None, 100, 64)           33024     \n",
      "                                                                 \n",
      " leaky_re_lu_11 (LeakyReLU)  (None, 100, 64)           0         \n",
      "                                                                 \n",
      " dropout_1 (Dropout)         (None, 100, 64)           0         \n",
      "                                                                 \n",
      " global_max_pooling1d (Globa  (None, 64)               0         \n",
      " lMaxPooling1D)                                                  \n",
      "                                                                 \n",
      " dense_1 (Dense)             (None, 3)                 195       \n",
      "                                                                 \n",
      "=================================================================\n",
      "Total params: 84,419\n",
      "Trainable params: 84,419\n",
      "Non-trainable params: 0\n",
      "_________________________________________________________________\n"
     ]
    }
   ],
   "source": [
    "#architettura della rete\n",
    "num_units = 64\n",
    "activation_function = 'leaky_relu'\n",
    "adam = keras.optimizers.Adam(learning_rate=0.001)\n",
    "loss_function = 'categorical_crossentropy'\n",
    "batch_size = 250\n",
    "num_epochs = 50\n",
    "i = Input(shape=(100, 6))\n",
    "x = LSTM(64, return_sequences=True)(i)\n",
    "x = keras.layers.LeakyReLU(alpha=0.01)(x)\n",
    "x = LSTM(64, return_sequences=True)(x)\n",
    "x = keras.layers.LeakyReLU(alpha=0.01)(x)\n",
    "x = LSTM(64, return_sequences=True)(x)\n",
    "x = keras.layers.LeakyReLU(alpha=0.01)(x)\n",
    "x = keras.layers.Dropout(0.7)(x, training=True)\n",
    "#x = LSTM(64, return_sequences=True)(x)\n",
    "x = GlobalMaxPooling1D()(x)\n",
    "x = Dense(3, activation='softmax')(x)\n",
    "\n",
    "\n",
    "model = Model(i, x)\n",
    "\n",
    "\n",
    "callback=tf.keras.callbacks.EarlyStopping(\n",
    "    monitor='val_loss',\n",
    "    min_delta=0,\n",
    "    patience=5,\n",
    "    verbose=1,\n",
    "    mode='auto',\n",
    "    baseline=None,\n",
    "    restore_best_weights=False\n",
    ")\n",
    "\n",
    "model.compile(optimizer = adam, loss = loss_function, metrics=['accuracy'])\n",
    "model.summary()\n"
   ]
  },
  {
   "cell_type": "code",
   "execution_count": 19,
   "metadata": {},
   "outputs": [
    {
     "name": "stdout",
     "output_type": "stream",
     "text": [
      "Epoch 1/20\n",
      "353/353 [==============================] - 209s 579ms/step - loss: 0.6826 - accuracy: 0.7802 - val_loss: 0.6420 - val_accuracy: 0.7971\n",
      "Epoch 2/20\n",
      "353/353 [==============================] - 196s 556ms/step - loss: 0.6715 - accuracy: 0.7831 - val_loss: 0.6422 - val_accuracy: 0.7971\n",
      "Epoch 3/20\n",
      "353/353 [==============================] - 209s 594ms/step - loss: 0.6702 - accuracy: 0.7831 - val_loss: 0.6419 - val_accuracy: 0.7971\n",
      "Epoch 4/20\n",
      "353/353 [==============================] - 211s 597ms/step - loss: 0.6689 - accuracy: 0.7831 - val_loss: 0.6455 - val_accuracy: 0.7971\n",
      "Epoch 5/20\n",
      "353/353 [==============================] - 216s 611ms/step - loss: 0.6679 - accuracy: 0.7831 - val_loss: 0.6432 - val_accuracy: 0.7971\n",
      "Epoch 6/20\n",
      "353/353 [==============================] - 213s 605ms/step - loss: 0.6664 - accuracy: 0.7831 - val_loss: 0.6422 - val_accuracy: 0.7971\n",
      "Epoch 7/20\n",
      "353/353 [==============================] - 204s 578ms/step - loss: 0.6656 - accuracy: 0.7831 - val_loss: 0.6450 - val_accuracy: 0.7971\n",
      "Epoch 8/20\n",
      "353/353 [==============================] - 178s 506ms/step - loss: 0.6638 - accuracy: 0.7831 - val_loss: 0.6411 - val_accuracy: 0.7971\n",
      "Epoch 9/20\n",
      "353/353 [==============================] - 163s 463ms/step - loss: 0.6618 - accuracy: 0.7831 - val_loss: 0.6461 - val_accuracy: 0.7971\n",
      "Epoch 10/20\n",
      "353/353 [==============================] - 169s 479ms/step - loss: 0.6591 - accuracy: 0.7831 - val_loss: 0.6482 - val_accuracy: 0.7971\n",
      "Epoch 11/20\n",
      "353/353 [==============================] - 152s 430ms/step - loss: 0.6563 - accuracy: 0.7831 - val_loss: 0.6364 - val_accuracy: 0.7971\n",
      "Epoch 12/20\n",
      "353/353 [==============================] - 154s 437ms/step - loss: 0.6514 - accuracy: 0.7831 - val_loss: 0.6242 - val_accuracy: 0.7971\n",
      "Epoch 13/20\n",
      "353/353 [==============================] - 151s 428ms/step - loss: 0.6370 - accuracy: 0.7832 - val_loss: 0.6196 - val_accuracy: 0.7971\n",
      "Epoch 14/20\n",
      "353/353 [==============================] - 153s 433ms/step - loss: 0.6183 - accuracy: 0.7830 - val_loss: 0.5905 - val_accuracy: 0.7964\n",
      "Epoch 15/20\n",
      "353/353 [==============================] - 167s 473ms/step - loss: 0.6447 - accuracy: 0.7831 - val_loss: 0.6436 - val_accuracy: 0.7971\n",
      "Epoch 16/20\n",
      "353/353 [==============================] - 150s 426ms/step - loss: 0.6618 - accuracy: 0.7831 - val_loss: 0.6409 - val_accuracy: 0.7971\n",
      "Epoch 17/20\n",
      "353/353 [==============================] - 173s 490ms/step - loss: 0.6570 - accuracy: 0.7831 - val_loss: 0.6402 - val_accuracy: 0.7971\n",
      "Epoch 18/20\n",
      "353/353 [==============================] - 155s 439ms/step - loss: 0.6305 - accuracy: 0.7831 - val_loss: 0.5821 - val_accuracy: 0.7971\n",
      "Epoch 19/20\n",
      "353/353 [==============================] - 157s 445ms/step - loss: 0.6034 - accuracy: 0.7824 - val_loss: 0.5671 - val_accuracy: 0.7978\n",
      "Epoch 20/20\n",
      "353/353 [==============================] - 157s 445ms/step - loss: 0.5879 - accuracy: 0.7827 - val_loss: 0.5537 - val_accuracy: 0.7976\n"
     ]
    }
   ],
   "source": [
    "#model.load_weights('classifyLSTM.h5')\n",
    "lstmMSFT=model.fit(trainX_lstm, trainY_lstm, validation_data=(valiX_lstm, valiY_lstm), epochs=20, batch_size=256)"
   ]
  },
  {
   "cell_type": "code",
   "execution_count": 20,
   "metadata": {},
   "outputs": [],
   "source": [
    "#model.save('lstmBYNDClassification.h5')"
   ]
  },
  {
   "cell_type": "code",
   "execution_count": 21,
   "metadata": {},
   "outputs": [
    {
     "name": "stdout",
     "output_type": "stream",
     "text": [
      "940/940 [==============================] - 19s 20ms/step\n"
     ]
    },
    {
     "data": {
      "text/plain": [
       "array([[0.93224543, 0.04437555, 0.02337902],\n",
       "       [0.8611348 , 0.06102256, 0.07784253],\n",
       "       [0.836084  , 0.09949684, 0.0644192 ],\n",
       "       ...,\n",
       "       [0.95119953, 0.01644011, 0.03236036],\n",
       "       [0.96356225, 0.02034897, 0.01608871],\n",
       "       [0.8619734 , 0.09096915, 0.04705747]], dtype=float32)"
      ]
     },
     "execution_count": 21,
     "metadata": {},
     "output_type": "execute_result"
    }
   ],
   "source": [
    "P_lstm = model.predict(testX_lstm)\n",
    "p_lstmj= np.round(P_lstm)\n",
    "P_lstm"
   ]
  },
  {
   "cell_type": "code",
   "execution_count": 22,
   "metadata": {},
   "outputs": [
    {
     "name": "stdout",
     "output_type": "stream",
     "text": [
      "accuracy_score: 0.8035999467660367\n",
      "              precision    recall  f1-score   support\n",
      "\n",
      "           0     0.8040    0.9993    0.8911     24143\n",
      "           1     0.5000    0.0052    0.0104      3059\n",
      "           2     0.6875    0.0039    0.0077      2854\n",
      "\n",
      "    accuracy                         0.8036     30056\n",
      "   macro avg     0.6638    0.3361    0.3030     30056\n",
      "weighted avg     0.7620    0.8036    0.7175     30056\n",
      "\n"
     ]
    }
   ],
   "source": [
    "from sklearn.metrics import classification_report, accuracy_score\n",
    "print('accuracy_score:', accuracy_score(np.argmax(testY_lstm, axis=1), np.argmax(p_lstmj, axis=1)))\n",
    "print(classification_report(np.argmax(testY_lstm, axis=1), np.argmax(p_lstmj, axis=1), digits=4))"
   ]
  },
  {
   "cell_type": "code",
   "execution_count": 23,
   "metadata": {},
   "outputs": [
    {
     "data": {
      "image/png": "[encoded data removed]",
      "text/plain": [
       "<Figure size 432x288 with 2 Axes>"
      ]
     },
     "metadata": {
      "needs_background": "light"
     },
     "output_type": "display_data"
    }
   ],
   "source": [
    "from sklearn.metrics import confusion_matrix, ConfusionMatrixDisplay\n",
    "cm = confusion_matrix(testY_lstm.argmax(axis=1), p_lstmj.argmax(axis=1),normalize='pred')#true', 'pred', 'all'\n",
    "disp = ConfusionMatrixDisplay(confusion_matrix=cm,display_labels=['stat','higher','lower'])\n",
    "disp.plot()\n",
    "disp.ax_.set_title(\"Confusion Matrix LSTM\");"
   ]
  },
  {
   "cell_type": "markdown",
   "metadata": {},
   "source": [
    "Naive Gaussian Classifier\n",
    "==="
   ]
  },
  {
   "cell_type": "code",
   "execution_count": 24,
   "metadata": {},
   "outputs": [
    {
     "name": "stdout",
     "output_type": "stream",
     "text": [
      "[0. 0. 0. ... 0. 0. 0.] [0. 0. 0. ... 0. 0. 0.]\n"
     ]
    }
   ],
   "source": [
    "rng = np.random.RandomState(1)\n",
    "X = n_train[['aOF_1'\t,'bOF_1'\t,'aOF_2'\t,'bOF_2'\t,'aOF_3',\t'bOF_3']].to_numpy()\n",
    "y = n_train['h'].to_numpy()\n",
    "Xte = n_vali[['aOF_1'\t,'bOF_1'\t,'aOF_2'\t,'bOF_2'\t,'aOF_3',\t'bOF_3']].to_numpy()\n",
    "Yte = n_vali['h'].to_numpy()#['h'].to_numpy()\n",
    "from sklearn.naive_bayes import CategoricalNB\n",
    "from sklearn.naive_bayes import GaussianNB\n",
    "from sklearn.naive_bayes import MultinomialNB\n",
    "clf = GaussianNB()\n",
    "clf.fit(X, y)\n",
    "predNB = clf.predict(Xte)\n",
    "encPr=np_utils.to_categorical(predNB)\n",
    "#encTe=np_utils.to_categorical(Yte)\n",
    "print(predNB,Yte)"
   ]
  },
  {
   "cell_type": "code",
   "execution_count": 25,
   "metadata": {},
   "outputs": [],
   "source": [
    "encTe=np_utils.to_categorical(n_vali['h'].to_numpy())"
   ]
  },
  {
   "cell_type": "code",
   "execution_count": 26,
   "metadata": {},
   "outputs": [
    {
     "name": "stdout",
     "output_type": "stream",
     "text": [
      "accuracy_score: 0.7842220453641067\n",
      "              precision    recall  f1-score   support\n",
      "\n",
      "           0     0.7980    0.9802    0.8798     24049\n",
      "           1     0.1554    0.0095    0.0179      3166\n",
      "           2     0.1064    0.0153    0.0268      2941\n",
      "\n",
      "    accuracy                         0.7842     30156\n",
      "   macro avg     0.3533    0.3350    0.3081     30156\n",
      "weighted avg     0.6631    0.7842    0.7061     30156\n",
      "\n"
     ]
    }
   ],
   "source": [
    "print('accuracy_score:', accuracy_score(np.argmax(encTe, axis=1), np.argmax(encPr, axis=1)))\n",
    "print(classification_report(np.argmax(encTe, axis=1), np.argmax(encPr, axis=1), digits=4))"
   ]
  },
  {
   "cell_type": "code",
   "execution_count": 27,
   "metadata": {},
   "outputs": [
    {
     "data": {
      "image/png": "[encoded data removed]",
      "text/plain": [
       "<Figure size 432x288 with 2 Axes>"
      ]
     },
     "metadata": {
      "needs_background": "light"
     },
     "output_type": "display_data"
    }
   ],
   "source": [
    "from sklearn.metrics import confusion_matrix, ConfusionMatrixDisplay\n",
    "cm = confusion_matrix(encTe.argmax(axis=1), encPr.argmax(axis=1),normalize='pred')\n",
    "disp = ConfusionMatrixDisplay(confusion_matrix=cm,display_labels=['stat','higher','lower'])\n",
    "disp.plot()\n",
    "disp.ax_.set_title(\"Confusion Matrix Naive\");"
   ]
  },
  {
   "cell_type": "code",
   "execution_count": null,
   "metadata": {},
   "outputs": [],
   "source": [
    "fig, ax = plt.subplots(1,3, figsize=(15,10))\n",
    "ax[0].set_title(\"CNN/LSTM\")\n",
    "ax[1].set_title(\"LSTM\")\n",
    "ax[2].set_title(\"Naive\")\n",
    "\n",
    "cm = confusion_matrix(testY.argmax(axis=1), pj.argmax(axis=1),normalize='pred')#true', 'pred', 'all'\n",
    "disp = ConfusionMatrixDisplay(confusion_matrix=cm,display_labels=['stat','higher','lower'])\n",
    "disp.plot(ax=ax[0])\n",
    "disp.ax_.set_title(\"Confusion Matrix CNN/LSTM\")\n",
    "cm_lstm = confusion_matrix(testY_lstm.argmax(axis=1), p_lstmj.argmax(axis=1),normalize='pred')#true', 'pred', 'all'\n",
    "disp_lstm = ConfusionMatrixDisplay(confusion_matrix=cm_lstm,display_labels=['stat','higher','lower'])\n",
    "disp_lstm.plot(ax=ax[1])\n",
    "disp_lstm.ax_.set_title(\"Confusion Matrix LSTM\")\n",
    "cmNaiv = confusion_matrix(encTe.argmax(axis=1), encPr.argmax(axis=1),normalize='pred')\n",
    "dispNaiv = ConfusionMatrixDisplay(confusion_matrix=cmNaiv,display_labels=['stat','higher','lower'])\n",
    "dispNaiv.plot(ax=ax[2])\n",
    "dispNaiv.ax_.set_title(\"Confusion Matrix Naive\")\n",
    "plt.tight_layout()  ;"
   ]
  },
  {
   "cell_type": "code",
   "execution_count": null,
   "metadata": {},
   "outputs": [],
   "source": [
    "stop"
   ]
  },
  {
   "cell_type": "code",
   "execution_count": 28,
   "metadata": {},
   "outputs": [
    {
     "data": {
      "image/png": "[encoded data removed]",
      "text/plain": [
       "<Figure size 1080x720 with 6 Axes>"
      ]
     },
     "metadata": {
      "needs_background": "light"
     },
     "output_type": "display_data"
    }
   ],
   "source": [
    "#a un passo\n",
    "fig, ax = plt.subplots(1,3, figsize=(15,10))\n",
    "ax[0].set_title(\"CNN/LSTM\")\n",
    "ax[1].set_title(\"LSTM\")\n",
    "ax[2].set_title(\"Naive\")\n",
    "\n",
    "cm = confusion_matrix(testY.argmax(axis=1), pj.argmax(axis=1),normalize='pred')#true', 'pred', 'all'\n",
    "disp = ConfusionMatrixDisplay(confusion_matrix=cm,display_labels=['stat','higher','lower'])\n",
    "disp.plot(ax=ax[0])\n",
    "disp.ax_.set_title(\"Confusion Matrix CNN/LSTM\")\n",
    "cm_lstm = confusion_matrix(testY_lstm.argmax(axis=1), p_lstmj.argmax(axis=1),normalize='pred')#true', 'pred', 'all'\n",
    "disp_lstm = ConfusionMatrixDisplay(confusion_matrix=cm_lstm,display_labels=['stat','higher','lower'])\n",
    "disp_lstm.plot(ax=ax[1])\n",
    "disp_lstm.ax_.set_title(\"Confusion Matrix LSTM\")\n",
    "cmNaiv = confusion_matrix(encTe.argmax(axis=1), encPr.argmax(axis=1),normalize='pred')\n",
    "dispNaiv = ConfusionMatrixDisplay(confusion_matrix=cmNaiv,display_labels=['stat','higher','lower'])\n",
    "dispNaiv.plot(ax=ax[2])\n",
    "dispNaiv.ax_.set_title(\"Confusion Matrix Naive\")\n",
    "plt.tight_layout()  ;"
   ]
  },
  {
   "cell_type": "code",
   "execution_count": 29,
   "metadata": {},
   "outputs": [
    {
     "ename": "NameError",
     "evalue": "name 'stop' is not defined",
     "output_type": "error",
     "traceback": [
      "\u001b[1;31m---------------------------------------------------------------------------\u001b[0m",
      "\u001b[1;31mNameError\u001b[0m                                 Traceback (most recent call last)",
      "\u001b[1;32mc:\\Users\\macri\\Desktop\\PROJECT\\EXPERIMENTS\\Bid_Ask_BYND - Copia.ipynb Cella 32\u001b[0m in \u001b[0;36m<cell line: 1>\u001b[1;34m()\u001b[0m\n\u001b[1;32m----> <a href='vscode-notebook-cell:/c%3A/Users/macri/Desktop/PROJECT/EXPERIMENTS/Bid_Ask_BYND%20-%20Copia.ipynb#X46sZmlsZQ%3D%3D?line=0'>1</a>\u001b[0m stop\n",
      "\u001b[1;31mNameError\u001b[0m: name 'stop' is not defined"
     ]
    }
   ],
   "source": [
    "stop"
   ]
  },
  {
   "cell_type": "code",
   "execution_count": null,
   "metadata": {},
   "outputs": [
    {
     "data": {
      "image/png": "[encoded data removed]",
      "text/plain": [
       "<Figure size 1080x720 with 6 Axes>"
      ]
     },
     "metadata": {
      "needs_background": "light"
     },
     "output_type": "display_data"
    }
   ],
   "source": [
    "fig, ax = plt.subplots(1,3, figsize=(15,10))\n",
    "ax[0].set_title(\"CNN/LSTM\")\n",
    "ax[1].set_title(\"LSTM\")\n",
    "ax[2].set_title(\"Naive\")\n",
    "\n",
    "cm = confusion_matrix(testY.argmax(axis=1), pj.argmax(axis=1),normalize='pred')#true', 'pred', 'all'\n",
    "disp = ConfusionMatrixDisplay(confusion_matrix=cm,display_labels=['$>0.05$ (higher)','$<0.05$ (lower)'])\n",
    "disp.plot(ax=ax[0])\n",
    "disp.ax_.set_title(\"Confusion Matrix CNN/LSTM\")\n",
    "cm_lstm = confusion_matrix(testY_lstm.argmax(axis=1), p_lstmj.argmax(axis=1),normalize='pred')#true', 'pred', 'all'\n",
    "disp_lstm = ConfusionMatrixDisplay(confusion_matrix=cm_lstm,display_labels=['$>0.05$ (higher)','$<0.05$ (lower)'])\n",
    "disp_lstm.plot(ax=ax[1])\n",
    "disp_lstm.ax_.set_title(\"Confusion Matrix LSTM\")\n",
    "cmNaiv = confusion_matrix(encTe.argmax(axis=1), encPr.argmax(axis=1),normalize='pred')\n",
    "dispNaiv = ConfusionMatrixDisplay(confusion_matrix=cmNaiv,display_labels=['$>0.05$ (higher)','$<0.05$ (lower)'])\n",
    "dispNaiv.plot(ax=ax[2])\n",
    "dispNaiv.ax_.set_title(\"Confusion Matrix Naive\")\n",
    "plt.tight_layout()  ;"
   ]
  },
  {
   "cell_type": "markdown",
   "metadata": {},
   "source": [
    "1) Precision is a measure of how many of the positive predictions made are correct (true positives).\n",
    "2) Accuracy describes the number of correct predictions over all predictions (TP+TN)/sizePop.\n",
    "3) Recall is a measure of how many of the positive cases the classifier correctly predicted, over all the positive cases in the data.\n",
    "4) F1 provides a single metric that weights the two ratios (precision and recall) in a balanced way.\n",
    "    - Very small precision or recall will result in lower overall score. Thus it helps balance the two metrics.\n",
    "    - If you choose your positive class as the one with fewer samples, F1-score can help balance the metric across positive/negative samples."
   ]
  }
 ],
 "metadata": {
  "kernelspec": {
   "display_name": "Python 3.9.12 ('base')",
   "language": "python",
   "name": "python3"
  },
  "language_info": {
   "codemirror_mode": {
    "name": "ipython",
    "version": 3
   },
   "file_extension": ".py",
   "mimetype": "text/x-python",
   "name": "python",
   "nbconvert_exporter": "python",
   "pygments_lexer": "ipython3",
   "version": "3.9.12"
  },
  "orig_nbformat": 4,
  "vscode": {
   "interpreter": {
    "hash": "597e2b791014bf3f975e304e1e72922cb6b9245e0453d34e2c818a7120fc527f"
   }
  }
 },
 "nbformat": 4,
 "nbformat_minor": 2
}
